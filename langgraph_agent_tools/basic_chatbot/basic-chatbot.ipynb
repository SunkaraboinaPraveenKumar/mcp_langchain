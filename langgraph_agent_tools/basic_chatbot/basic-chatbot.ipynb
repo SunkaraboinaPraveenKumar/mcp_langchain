{
 "cells": [
  {
   "cell_type": "code",
   "execution_count": 2,
   "id": "fbfdbdda",
   "metadata": {},
   "outputs": [
    {
     "data": {
      "text/plain": [
       "2"
      ]
     },
     "execution_count": 2,
     "metadata": {},
     "output_type": "execute_result"
    }
   ],
   "source": [
    "1+1"
   ]
  },
  {
   "cell_type": "markdown",
   "id": "e26e6193",
   "metadata": {},
   "source": [
    "## Basic ChatBot"
   ]
  },
  {
   "cell_type": "code",
   "execution_count": 3,
   "id": "6842a7f0",
   "metadata": {},
   "outputs": [],
   "source": [
    "from typing import Annotated\n",
    "from typing_extensions import TypedDict\n",
    "from langgraph.graph import StateGraph, START, END\n",
    "from langgraph.graph.message import add_messages\n",
    "\n",
    "# reducers in the form of add_messages"
   ]
  },
  {
   "cell_type": "code",
   "execution_count": 4,
   "id": "0ac04c45",
   "metadata": {},
   "outputs": [],
   "source": [
    "class State(TypedDict):\n",
    "    messages: Annotated[list,add_messages]"
   ]
  },
  {
   "cell_type": "code",
   "execution_count": 5,
   "id": "cb32ff22",
   "metadata": {},
   "outputs": [
    {
     "data": {
      "text/plain": [
       "True"
      ]
     },
     "execution_count": 5,
     "metadata": {},
     "output_type": "execute_result"
    }
   ],
   "source": [
    "import os\n",
    "from dotenv import load_dotenv\n",
    "load_dotenv()"
   ]
  },
  {
   "cell_type": "code",
   "execution_count": 6,
   "id": "751ea280",
   "metadata": {},
   "outputs": [],
   "source": [
    "from langchain_groq import ChatGroq\n",
    "from langchain.chat_models import init_chat_model\n",
    "\n",
    "llm = ChatGroq(model=\"llama3-8b-8192\")"
   ]
  },
  {
   "cell_type": "code",
   "execution_count": 7,
   "id": "7256fce5",
   "metadata": {},
   "outputs": [
    {
     "data": {
      "text/plain": [
       "\"Hi! It's nice to meet you. Is there something I can help you with or would you like to chat?\""
      ]
     },
     "execution_count": 7,
     "metadata": {},
     "output_type": "execute_result"
    }
   ],
   "source": [
    "llm.invoke(\"Hi\").content"
   ]
  },
  {
   "cell_type": "code",
   "execution_count": 8,
   "id": "220ee163",
   "metadata": {},
   "outputs": [
    {
     "data": {
      "text/plain": [
       "ChatGroq(client=<groq.resources.chat.completions.Completions object at 0x00000236F120BD10>, async_client=<groq.resources.chat.completions.AsyncCompletions object at 0x00000236F1695340>, model_name='llama3-8b-8192', model_kwargs={}, groq_api_key=SecretStr('**********'))"
      ]
     },
     "execution_count": 8,
     "metadata": {},
     "output_type": "execute_result"
    }
   ],
   "source": [
    "llm = init_chat_model(\"groq:llama3-8b-8192\")\n",
    "llm"
   ]
  },
  {
   "cell_type": "code",
   "execution_count": 9,
   "id": "38269590",
   "metadata": {},
   "outputs": [],
   "source": [
    "def chatbot(state:State):\n",
    "    return {\"messages\":[llm.invoke(state[\"messages\"])]}"
   ]
  },
  {
   "cell_type": "code",
   "execution_count": 10,
   "id": "5118afd7",
   "metadata": {},
   "outputs": [
    {
     "data": {
      "text/plain": [
       "<langgraph.graph.state.StateGraph at 0x236f1209700>"
      ]
     },
     "execution_count": 10,
     "metadata": {},
     "output_type": "execute_result"
    }
   ],
   "source": [
    "graph_builder = StateGraph(State)\n",
    "graph_builder.add_node(\"llmchatbot\",chatbot)\n",
    "\n",
    "graph_builder.add_edge(START, \"llmchatbot\")\n",
    "graph_builder.add_edge(\"llmchatbot\", END)"
   ]
  },
  {
   "cell_type": "code",
   "execution_count": 11,
   "id": "f2b05b58",
   "metadata": {},
   "outputs": [],
   "source": [
    "## compile the graph\n",
    "graph = graph_builder.compile()"
   ]
  },
  {
   "cell_type": "code",
   "execution_count": 12,
   "id": "b44873ab",
   "metadata": {},
   "outputs": [
    {
     "data": {
      "image/png": "[encoded data removed]",
      "text/plain": [
       "<IPython.core.display.Image object>"
      ]
     },
     "metadata": {},
     "output_type": "display_data"
    }
   ],
   "source": [
    "## Visualize the graph\n",
    "from IPython.display import Image, display\n",
    "\n",
    "try:\n",
    "    display(Image(graph.get_graph().draw_mermaid_png()))\n",
    "except Exception as e:\n",
    "    print(f\"Error displaying graph: {e}\")"
   ]
  },
  {
   "cell_type": "code",
   "execution_count": 13,
   "id": "b568d062",
   "metadata": {},
   "outputs": [],
   "source": [
    "response=graph.invoke({\"messages\":\"What is Langgraph?\"})"
   ]
  },
  {
   "cell_type": "code",
   "execution_count": 14,
   "id": "e51dacf4",
   "metadata": {},
   "outputs": [
    {
     "data": {
      "text/plain": [
       "[HumanMessage(content='What is Langgraph?', additional_kwargs={}, response_metadata={}, id='7102c9eb-f17b-4abb-ad6d-8c985a661c7d'),\n",
       " AIMessage(content='Langgraph is a graph-based language model that represents linguistic structures as graphs, where nodes represent words, phrases, or concepts, and edges represent relationships between them. The model is designed to capture the complex relationships between words and phrases in a language, allowing it to generate text that is coherent and natural-sounding.\\n\\nLanggraph is based on a combination of natural language processing (NLP) techniques, including graph theory, machine learning, and linguistics. It uses a graph structure to represent the syntax and semantics of language, allowing it to model the relationships between words and phrases in a more nuanced and flexible way than traditional language models.\\n\\nSome of the key features of Langgraph include:\\n\\n1. Graph-based representation: Langgraph represents linguistic structures as graphs, allowing it to capture complex relationships between words and phrases.\\n2. Contextualized embeddings: Langgraph uses contextualized word embeddings to capture the meaning of words in different contexts.\\n3. Graph convolutional networks: Langgraph uses graph convolutional networks (GCNs) to analyze the graph structure and generate text.\\n4. Linguistic knowledge: Langgraph is trained on large datasets of text and includes linguistic knowledge, such as part-of-speech tags, named entities, and dependency parsing.\\n\\nLanggraph has several potential applications, including:\\n\\n1. Natural language generation: Langgraph can be used to generate text that is coherent and natural-sounding, such as chatbot responses or product descriptions.\\n2. Language translation: Langgraph can be used to translate text from one language to another, taking into account the complex relationships between words and phrases in each language.\\n3. Sentiment analysis: Langgraph can be used to analyze the sentiment of text, such as detecting whether a piece of text is positive, negative, or neutral.\\n4. Text classification: Langgraph can be used to classify text into categories, such as spam vs. non-spam emails.\\n\\nOverall, Langgraph is a powerful language model that has the potential to revolutionize the field of natural language processing and enable new applications in areas such as language translation, sentiment analysis, and text classification.', additional_kwargs={}, response_metadata={'token_usage': {'completion_tokens': 421, 'prompt_tokens': 15, 'total_tokens': 436, 'completion_time': 0.31967654, 'prompt_time': 0.003031958, 'queue_time': 0.747375822, 'total_time': 0.322708498}, 'model_name': 'llama3-8b-8192', 'system_fingerprint': 'fp_8af39bf2ae', 'finish_reason': 'stop', 'logprobs': None}, id='run--2ac1c687-8401-45b7-b682-182e8a624dba-0', usage_metadata={'input_tokens': 15, 'output_tokens': 421, 'total_tokens': 436})]"
      ]
     },
     "execution_count": 14,
     "metadata": {},
     "output_type": "execute_result"
    }
   ],
   "source": [
    "response[\"messages\"]"
   ]
  },
  {
   "cell_type": "code",
   "execution_count": 15,
   "id": "e1d065e7",
   "metadata": {},
   "outputs": [
    {
     "data": {
      "text/plain": [
       "'Langgraph is a graph-based language model that represents linguistic structures as graphs, where nodes represent words, phrases, or concepts, and edges represent relationships between them. The model is designed to capture the complex relationships between words and phrases in a language, allowing it to generate text that is coherent and natural-sounding.\\n\\nLanggraph is based on a combination of natural language processing (NLP) techniques, including graph theory, machine learning, and linguistics. It uses a graph structure to represent the syntax and semantics of language, allowing it to model the relationships between words and phrases in a more nuanced and flexible way than traditional language models.\\n\\nSome of the key features of Langgraph include:\\n\\n1. Graph-based representation: Langgraph represents linguistic structures as graphs, allowing it to capture complex relationships between words and phrases.\\n2. Contextualized embeddings: Langgraph uses contextualized word embeddings to capture the meaning of words in different contexts.\\n3. Graph convolutional networks: Langgraph uses graph convolutional networks (GCNs) to analyze the graph structure and generate text.\\n4. Linguistic knowledge: Langgraph is trained on large datasets of text and includes linguistic knowledge, such as part-of-speech tags, named entities, and dependency parsing.\\n\\nLanggraph has several potential applications, including:\\n\\n1. Natural language generation: Langgraph can be used to generate text that is coherent and natural-sounding, such as chatbot responses or product descriptions.\\n2. Language translation: Langgraph can be used to translate text from one language to another, taking into account the complex relationships between words and phrases in each language.\\n3. Sentiment analysis: Langgraph can be used to analyze the sentiment of text, such as detecting whether a piece of text is positive, negative, or neutral.\\n4. Text classification: Langgraph can be used to classify text into categories, such as spam vs. non-spam emails.\\n\\nOverall, Langgraph is a powerful language model that has the potential to revolutionize the field of natural language processing and enable new applications in areas such as language translation, sentiment analysis, and text classification.'"
      ]
     },
     "execution_count": 15,
     "metadata": {},
     "output_type": "execute_result"
    }
   ],
   "source": [
    "response[\"messages\"][-1].content"
   ]
  },
  {
   "cell_type": "code",
   "execution_count": 16,
   "id": "4e3c7672",
   "metadata": {},
   "outputs": [
    {
     "name": "stdout",
     "output_type": "stream",
     "text": [
      "Langgraph is a graph-based language model that represents natural language as a graph structure, where words, phrases, and sentences are connected by edges that capture their relationships. This approach allows Langgraph to model the complex relationships between words and phrases in a more nuanced and flexible way than traditional word-level language models.\n",
      "\n",
      "In a Langgraph, each node represents a word or phrase, and each edge represents a relationship between two nodes, such as:\n",
      "\n",
      "* Synonymy: two words that have similar meanings\n",
      "* Hyponymy: a word that is a more specific instance of another word\n",
      "* Hypernymy: a word that is a more general category of another word\n",
      "* Co-occurrence: two words that frequently appear together in a sentence or text\n",
      "* Contextual relationships: relationships between words based on their context, such as semantic role labeling (e.g., \"agent\", \"patient\", etc.)\n",
      "\n",
      "Langgraph uses a combination of graph neural networks (GNNs) and graph attention mechanisms to learn the representations of the nodes and edges in the graph. This allows Langgraph to capture both local and global relationships between words and phrases, and to generalize well to new, unseen text.\n",
      "\n",
      "Langgraph has been shown to be effective in a range of natural language processing (NLP) tasks, including:\n",
      "\n",
      "* Language translation\n",
      "* Text classification\n",
      "* Sentiment analysis\n",
      "* Named entity recognition\n",
      "* Question answering\n",
      "\n",
      "One of the key benefits of Langgraph is its ability to handle complex relationships between words and phrases in a more nuanced and flexible way than traditional language models. This can be particularly useful in tasks that require understanding the relationships between multiple entities or concepts in a text, such as question answering or text summarization.\n"
     ]
    }
   ],
   "source": [
    "for event in graph.stream({\"messages\":\"What is Langgraph?\"}):\n",
    "    for value in event.values():\n",
    "        print(value[\"messages\"][-1].content)"
   ]
  },
  {
   "cell_type": "code",
   "execution_count": 17,
   "id": "af98ecfd",
   "metadata": {},
   "outputs": [],
   "source": [
    "## Chatbot with tool"
   ]
  },
  {
   "cell_type": "code",
   "execution_count": 18,
   "id": "43e4e2a1",
   "metadata": {},
   "outputs": [
    {
     "data": {
      "text/plain": [
       "True"
      ]
     },
     "execution_count": 18,
     "metadata": {},
     "output_type": "execute_result"
    }
   ],
   "source": [
    "from dotenv import load_dotenv\n",
    "load_dotenv()"
   ]
  },
  {
   "cell_type": "code",
   "execution_count": 19,
   "id": "60c1f839",
   "metadata": {},
   "outputs": [
    {
     "data": {
      "text/plain": [
       "{'query': 'What is Langgraph?',\n",
       " 'follow_up_questions': None,\n",
       " 'answer': None,\n",
       " 'images': [],\n",
       " 'results': [{'title': 'What is LangGraph? - GeeksforGeeks',\n",
       "   'url': 'https://www.geeksforgeeks.org/machine-learning/what-is-langgraph/',\n",
       "   'content': 'LangGraph is a Python library that helps you build applications like chatbots or AI agents by organizing their logic step-by-step using state machine model. This step configures your Gemini API key and then we create a simple function ask_gemini that takes user input, sends it to the Gemini model and returns the AI-generated response. Creates a state structure with three fields: question, classification and response which flows through the LangGraph. import matplotlib.pyplot as plt from langgraph.graph import StateGraph\\u200bbuilder = StateGraph(GraphState)builder.add_node(\"classify\", classify)builder.add_node(\"respond\", respond)builder.set_entry_point(\"classify\")builder.add_edge(\"classify\", \"respond\")builder.set_finish_point(\"respond\")app = builder.compile()\\u200bdef visualize_workflow(builder): G = nx.DiGraph()\\u200b for node in builder.nodes: G.add_node(node) for edge in builder.edges: G.add_edge(edge[0], edge[1])\\u200b pos = nx.spring_layout(G) nx.draw(G, pos, with_labels=True, node_size=3000, node_color=\"skyblue\", font_size=12, font_weight=\"bold\", arrows=True)  plt.title(\"Langchain Workflow Visualization\") plt.show()\\u200bvisualize_workflow(builder)',\n",
       "   'score': 0.91490877,\n",
       "   'raw_content': None},\n",
       "  {'title': 'LangGraph - LangChain',\n",
       "   'url': 'https://www.langchain.com/langgraph',\n",
       "   'content': \"Design agent-driven user experiences with LangGraph Platform's APIs. Quickly deploy and scale your application with infrastructure built for agents. LangGraph sets the foundation for how we can build and scale AI workloads — from conversational agents, complex task automation, to custom LLM-backed experiences that 'just work'. The next chapter in building complex production-ready features with LLMs is agentic, and with LangGraph and LangSmith, LangChain delivers an out-of-the-box solution to iterate quickly, debug immediately, and scale effortlessly.” LangGraph sets the foundation for how we can build and scale AI workloads — from conversational agents, complex task automation, to custom LLM-backed experiences that 'just work'. LangGraph Platform is a service for deploying and scaling LangGraph applications, with an opinionated API for building agent UXs, plus an integrated developer studio.\",\n",
       "   'score': 0.80771893,\n",
       "   'raw_content': None}],\n",
       " 'response_time': 1.22}"
      ]
     },
     "execution_count": 19,
     "metadata": {},
     "output_type": "execute_result"
    }
   ],
   "source": [
    "from langchain_tavily import TavilySearch\n",
    "\n",
    "tool = TavilySearch(max_results=2)\n",
    "\n",
    "tool.invoke(\"What is Langgraph?\")"
   ]
  },
  {
   "cell_type": "code",
   "execution_count": 20,
   "id": "39e829d1",
   "metadata": {},
   "outputs": [],
   "source": [
    "def multiply(a: int, b: int) -> int:\n",
    "    \"\"\"\n",
    "    Multiplies two integers and returns the result.\n",
    "    Args:\n",
    "        a (int): The first integer.\n",
    "        b (int): The second integer.\n",
    "    Returns:\n",
    "        int: The product of the two integers.\n",
    "    \"\"\"\n",
    "    return a * b"
   ]
  },
  {
   "cell_type": "code",
   "execution_count": 21,
   "id": "28db0f66",
   "metadata": {},
   "outputs": [],
   "source": [
    "tools = [tool, multiply]"
   ]
  },
  {
   "cell_type": "code",
   "execution_count": 22,
   "id": "bb858da3",
   "metadata": {},
   "outputs": [],
   "source": [
    "llm_with_tools = llm.bind_tools(tools)"
   ]
  },
  {
   "cell_type": "code",
   "execution_count": 23,
   "id": "46b3a10f",
   "metadata": {},
   "outputs": [
    {
     "data": {
      "text/plain": [
       "RunnableBinding(bound=ChatGroq(client=<groq.resources.chat.completions.Completions object at 0x00000236F120BD10>, async_client=<groq.resources.chat.completions.AsyncCompletions object at 0x00000236F1695340>, model_name='llama3-8b-8192', model_kwargs={}, groq_api_key=SecretStr('**********')), kwargs={'tools': [{'type': 'function', 'function': {'name': 'tavily_search', 'description': 'A search engine optimized for comprehensive, accurate, and trusted results. Useful for when you need to answer questions about current events. It not only retrieves URLs and snippets, but offers advanced search depths, domain management, time range filters, and image search, this tool delivers real-time, accurate, and citation-backed results.Input should be a search query.', 'parameters': {'properties': {'query': {'description': 'Search query to look up', 'type': 'string'}, 'include_domains': {'anyOf': [{'items': {'type': 'string'}, 'type': 'array'}, {'type': 'null'}], 'default': [], 'description': 'A list of domains to restrict search results to.\\n\\n        Use this parameter when:\\n        1. The user explicitly requests information from specific websites (e.g., \"Find climate data from nasa.gov\")\\n        2. The user mentions an organization or company without specifying the domain (e.g., \"Find information about iPhones from Apple\")\\n\\n        In both cases, you should determine the appropriate domains (e.g., [\"nasa.gov\"] or [\"apple.com\"]) and set this parameter.\\n\\n        Results will ONLY come from the specified domains - no other sources will be included.\\n        Default is None (no domain restriction).\\n        '}, 'exclude_domains': {'anyOf': [{'items': {'type': 'string'}, 'type': 'array'}, {'type': 'null'}], 'default': [], 'description': 'A list of domains to exclude from search results.\\n\\n        Use this parameter when:\\n        1. The user explicitly requests to avoid certain websites (e.g., \"Find information about climate change but not from twitter.com\")\\n        2. The user mentions not wanting results from specific organizations without naming the domain (e.g., \"Find phone reviews but nothing from Apple\")\\n\\n        In both cases, you should determine the appropriate domains to exclude (e.g., [\"twitter.com\"] or [\"apple.com\"]) and set this parameter.\\n\\n        Results will filter out all content from the specified domains.\\n        Default is None (no domain exclusion).\\n        '}, 'search_depth': {'anyOf': [{'enum': ['basic', 'advanced'], 'type': 'string'}, {'type': 'null'}], 'default': 'basic', 'description': 'Controls search thoroughness and result comprehensiveness.\\n    \\n        Use \"basic\" for simple queries requiring quick, straightforward answers.\\n        \\n        Use \"advanced\" (default) for complex queries, specialized topics, \\n        rare information, or when in-depth analysis is needed.\\n        '}, 'include_images': {'anyOf': [{'type': 'boolean'}, {'type': 'null'}], 'default': False, 'description': 'Determines if the search returns relevant images along with text results.\\n   \\n        Set to True when the user explicitly requests visuals or when images would \\n        significantly enhance understanding (e.g., \"Show me what black holes look like,\" \\n        \"Find pictures of Renaissance art\").\\n        \\n        Leave as False (default) for most informational queries where text is sufficient.\\n        '}, 'time_range': {'anyOf': [{'enum': ['day', 'week', 'month', 'year'], 'type': 'string'}, {'type': 'null'}], 'default': None, 'description': 'Limits results to content published within a specific timeframe.\\n        \\n        ONLY set this when the user explicitly mentions a time period \\n        (e.g., \"latest AI news,\" \"articles from last week\").\\n        \\n        For less popular or niche topics, use broader time ranges \\n        (\"month\" or \"year\") to ensure sufficient relevant results.\\n   \\n        Options: \"day\" (24h), \"week\" (7d), \"month\" (30d), \"year\" (365d).\\n        \\n        Default is None.\\n        '}, 'topic': {'anyOf': [{'enum': ['general', 'news', 'finance'], 'type': 'string'}, {'type': 'null'}], 'default': 'general', 'description': 'Specifies search category for optimized results.\\n   \\n        Use \"general\" (default) for most queries, INCLUDING those with terms like \\n        \"latest,\" \"newest,\" or \"recent\" when referring to general information.\\n\\n        Use \"finance\" for markets, investments, economic data, or financial news.\\n\\n        Use \"news\" ONLY for politics, sports, or major current events covered by \\n        mainstream media - NOT simply because a query asks for \"new\" information.\\n        '}}, 'required': ['query'], 'type': 'object'}}}, {'type': 'function', 'function': {'name': 'multiply', 'description': 'Multiplies two integers and returns the result.\\nArgs:\\n    a (int): The first integer.\\n    b (int): The second integer.\\nReturns:\\n    int: The product of the two integers.', 'parameters': {'properties': {'a': {'type': 'integer'}, 'b': {'type': 'integer'}}, 'required': ['a', 'b'], 'type': 'object'}}}]}, config={}, config_factories=[])"
      ]
     },
     "execution_count": 23,
     "metadata": {},
     "output_type": "execute_result"
    }
   ],
   "source": [
    "llm_with_tools"
   ]
  },
  {
   "cell_type": "code",
   "execution_count": 25,
   "id": "dd8ac4d1",
   "metadata": {},
   "outputs": [],
   "source": [
    "## StateGraph\n",
    "from langgraph.graph import StateGraph, START, END\n",
    "from langgraph.prebuilt import ToolNode\n",
    "from langgraph.prebuilt import tools_condition\n",
    "\n",
    "## Node definition\n",
    "def tool_calling_llm(state:State):\n",
    "    \"\"\"\n",
    "    A node that calls the LLM with tools.\n",
    "    Args:\n",
    "        state (State): The current state of the graph.\n",
    "    Returns:\n",
    "        State: The updated state with the LLM response.\n",
    "    \"\"\"\n",
    "    return {\"messages\": [llm_with_tools.invoke(state[\"messages\"])]}\n",
    "\n",
    "## Graph\n",
    "builder = StateGraph(State)\n",
    "builder.add_node(\"tool_calling_llm\",tool_calling_llm)\n",
    "builder.add_node(\n",
    "    \"tools\",ToolNode(tools)\n",
    ")\n",
    "\n",
    "builder.add_edge(START, \"tool_calling_llm\")\n",
    "builder.add_conditional_edges(\n",
    "    \"tool_calling_llm\",\n",
    "    tools_condition\n",
    ")\n",
    "builder.add_edge(\"tools\", END)\n",
    "\n",
    "graph = builder.compile()"
   ]
  },
  {
   "cell_type": "code",
   "execution_count": 26,
   "id": "a7472db7",
   "metadata": {},
   "outputs": [
    {
     "data": {
      "image/png": "[encoded data removed]",
      "text/plain": [
       "<IPython.core.display.Image object>"
      ]
     },
     "metadata": {},
     "output_type": "display_data"
    }
   ],
   "source": [
    "from IPython.display import Image, display\n",
    "try:\n",
    "    display(Image(graph.get_graph().draw_mermaid_png()))\n",
    "except Exception as e:\n",
    "    print(f\"Error displaying graph: {e}\")"
   ]
  },
  {
   "cell_type": "code",
   "execution_count": 28,
   "id": "fc1479a2",
   "metadata": {},
   "outputs": [],
   "source": [
    "response = graph.invoke({\"messages\":\"What is Recent News About Godavari Water in Telangana?\"})"
   ]
  },
  {
   "cell_type": "code",
   "execution_count": 29,
   "id": "c91c20a6",
   "metadata": {},
   "outputs": [
    {
     "data": {
      "text/plain": [
       "'{\"query\": \"Recent News About Godavari Water in Telangana\", \"follow_up_questions\": null, \"answer\": null, \"images\": [], \"results\": [{\"url\": \"https://www.thehindu.com/news/national/telangana/telangana-sets-benchmark-with-104-lakh-crore-for-agriculture-since-cong-came-to-power/article69718147.ece\", \"title\": \"Telangana sets benchmark with ₹1.04 lakh crore for Agriculture since Cong. came to power - The Hindu\", \"score\": 0.22438706, \"published_date\": \"Fri, 20 Jun 2025 15:08:00 GMT\", \"content\": \"In addition, the State government has revived 16 Centrally-sponsored schemes that were previously stalled due to non-release of matching grants. A sum of ₹245 crore has been allocated for their reactivation.\\\\n\\\\nTelangana is also providing drip and sprinkler irrigation systems, including 100% for SC/ST farmers, 90% for small and marginal farmers, and 80% for others with 75% subsidy on sprinklers. Since December 2023, equipment worth ₹282 crore has been distributed to 40,265 farmers. [...] NewsIndia NewsHyderabad newsBengaluru NewsSports, IPL 2025 NewsDelhi newsLive newsEntertainment newsSitemap\\\\n\\\\n##### Trending on Group sites\\\\n\\\\nStock Market Live UpdatesIND vs ENG 1st Test Day 1 Live ScoreIND vs ENG Test Series Full ResultsThe Hindu CrosswordGold Rate TodaySilver Rate TodayArvind Kejriwal Exclusive InterviewEditor’s Note: Putting Muslims in their place?Frontline Current Issue\\\\n\\\\n##### Latest News [...] Published Time: 2025-06-20T15:08:04.000Z\\\\n\\\\nTelangana sets benchmark with ₹1.04 lakh crore for Agriculture since Cong. came to power - The Hindu \\\\n\\\\n===============\\\\n\\\\nJune 20, 2025e-Paper\\\\n\\\\nImage 2: The Hindu Logo\\\\n\\\\nLOGINAccount\\\\n\\\\neBooksSubscribeGIFT FRONT PAGE\\\\n\\\\nSearch\\\\n\\\\nLive Now\\\\n\\\\nNews\\\\n\\\\nSECTION \\\\n\\\\nNewsIndiaWorldStatesCities\\\\n\\\\nTOPICS \\\\n\\\\nGround ZeroSpotlight\\\\n\\\\nNEWSLETTER Image 3: newsletterimg The View From India Looking at World Affairs from the Indian perspective.SEE ALL NEWSLETTERS\\\\n\\\\nStates\\\\n\\\\nSECTION\", \"raw_content\": null}, {\"url\": \"https://www.nature.com/articles/s43247-025-02459-y\", \"title\": \"Increased irrigation could mitigate future warming-induced maize yield losses in the Ogallala Aquifer - Nature\", \"score\": 0.1291941, \"published_date\": \"Fri, 20 Jun 2025 15:46:16 GMT\", \"content\": \"amounts by the 2050s will be 567 mm (ranging from 300 to 700 mm; Supplementary Fig.8), which is 67% larger than the current average. Specifically, the ensemble means of additional irrigation required to offset climate-induced yield loss (Fig.3d) are 131, 154, 202, and 228 mm under SSP126, SSP245, SSP370, and SSP585, respectively (Fig.5a), with northeastern regions requiring up to an additional 350 mm under high-emission scenarios (Fig.5b) due to greater yield declines (Fig.3d).\", \"raw_content\": null}], \"response_time\": 1.67}'"
      ]
     },
     "execution_count": 29,
     "metadata": {},
     "output_type": "execute_result"
    }
   ],
   "source": [
    "response[\"messages\"][-1].content"
   ]
  },
  {
   "cell_type": "code",
   "execution_count": 30,
   "id": "71ea2853",
   "metadata": {},
   "outputs": [
    {
     "name": "stdout",
     "output_type": "stream",
     "text": [
      "================================\u001b[1m Human Message \u001b[0m=================================\n",
      "\n",
      "What is Recent News About Godavari Water in Telangana?\n",
      "==================================\u001b[1m Ai Message \u001b[0m==================================\n",
      "Tool Calls:\n",
      "  tavily_search (z3k7d8y1x)\n",
      " Call ID: z3k7d8y1x\n",
      "  Args:\n",
      "    exclude_domains: []\n",
      "    include_domains: []\n",
      "    include_images: False\n",
      "    query: Recent News About Godavari Water in Telangana\n",
      "    search_depth: advanced\n",
      "    time_range: None\n",
      "    topic: news\n",
      "=================================\u001b[1m Tool Message \u001b[0m=================================\n",
      "Name: tavily_search\n",
      "\n",
      "{\"query\": \"Recent News About Godavari Water in Telangana\", \"follow_up_questions\": null, \"answer\": null, \"images\": [], \"results\": [{\"url\": \"https://www.thehindu.com/news/national/telangana/telangana-sets-benchmark-with-104-lakh-crore-for-agriculture-since-cong-came-to-power/article69718147.ece\", \"title\": \"Telangana sets benchmark with ₹1.04 lakh crore for Agriculture since Cong. came to power - The Hindu\", \"score\": 0.22438706, \"published_date\": \"Fri, 20 Jun 2025 15:08:00 GMT\", \"content\": \"In addition, the State government has revived 16 Centrally-sponsored schemes that were previously stalled due to non-release of matching grants. A sum of ₹245 crore has been allocated for their reactivation.\\n\\nTelangana is also providing drip and sprinkler irrigation systems, including 100% for SC/ST farmers, 90% for small and marginal farmers, and 80% for others with 75% subsidy on sprinklers. Since December 2023, equipment worth ₹282 crore has been distributed to 40,265 farmers. [...] NewsIndia NewsHyderabad newsBengaluru NewsSports, IPL 2025 NewsDelhi newsLive newsEntertainment newsSitemap\\n\\n##### Trending on Group sites\\n\\nStock Market Live UpdatesIND vs ENG 1st Test Day 1 Live ScoreIND vs ENG Test Series Full ResultsThe Hindu CrosswordGold Rate TodaySilver Rate TodayArvind Kejriwal Exclusive InterviewEditor’s Note: Putting Muslims in their place?Frontline Current Issue\\n\\n##### Latest News [...] Published Time: 2025-06-20T15:08:04.000Z\\n\\nTelangana sets benchmark with ₹1.04 lakh crore for Agriculture since Cong. came to power - The Hindu \\n\\n===============\\n\\nJune 20, 2025e-Paper\\n\\nImage 2: The Hindu Logo\\n\\nLOGINAccount\\n\\neBooksSubscribeGIFT FRONT PAGE\\n\\nSearch\\n\\nLive Now\\n\\nNews\\n\\nSECTION \\n\\nNewsIndiaWorldStatesCities\\n\\nTOPICS \\n\\nGround ZeroSpotlight\\n\\nNEWSLETTER Image 3: newsletterimg The View From India Looking at World Affairs from the Indian perspective.SEE ALL NEWSLETTERS\\n\\nStates\\n\\nSECTION\", \"raw_content\": null}, {\"url\": \"https://www.nature.com/articles/s43247-025-02459-y\", \"title\": \"Increased irrigation could mitigate future warming-induced maize yield losses in the Ogallala Aquifer - Nature\", \"score\": 0.1291941, \"published_date\": \"Fri, 20 Jun 2025 15:46:16 GMT\", \"content\": \"amounts by the 2050s will be 567 mm (ranging from 300 to 700 mm; Supplementary Fig.8), which is 67% larger than the current average. Specifically, the ensemble means of additional irrigation required to offset climate-induced yield loss (Fig.3d) are 131, 154, 202, and 228 mm under SSP126, SSP245, SSP370, and SSP585, respectively (Fig.5a), with northeastern regions requiring up to an additional 350 mm under high-emission scenarios (Fig.5b) due to greater yield declines (Fig.3d).\", \"raw_content\": null}], \"response_time\": 1.67}\n"
     ]
    }
   ],
   "source": [
    "for  m in response[\"messages\"]:\n",
    "    m.pretty_print()\n"
   ]
  },
  {
   "cell_type": "code",
   "execution_count": 31,
   "id": "abffe1c0",
   "metadata": {},
   "outputs": [],
   "source": [
    "response = graph.invoke({\"messages\":\"What is 2 multiply 3?\"})"
   ]
  },
  {
   "cell_type": "code",
   "execution_count": 32,
   "id": "27502b1f",
   "metadata": {},
   "outputs": [
    {
     "name": "stdout",
     "output_type": "stream",
     "text": [
      "================================\u001b[1m Human Message \u001b[0m=================================\n",
      "\n",
      "What is 2 multiply 3?\n",
      "==================================\u001b[1m Ai Message \u001b[0m==================================\n",
      "Tool Calls:\n",
      "  multiply (a8aj6hr3k)\n",
      " Call ID: a8aj6hr3k\n",
      "  Args:\n",
      "    a: 2\n",
      "    b: 3\n",
      "=================================\u001b[1m Tool Message \u001b[0m=================================\n",
      "Name: multiply\n",
      "\n",
      "6\n"
     ]
    }
   ],
   "source": [
    "for  m in response[\"messages\"]:\n",
    "    m.pretty_print()\n"
   ]
  },
  {
   "cell_type": "code",
   "execution_count": 33,
   "id": "e457d0f2",
   "metadata": {},
   "outputs": [],
   "source": [
    "response = graph.invoke({\"messages\":\"What is Recent AI news and  2 multiply 3?\"})"
   ]
  },
  {
   "cell_type": "code",
   "execution_count": 34,
   "id": "79abf797",
   "metadata": {},
   "outputs": [
    {
     "name": "stdout",
     "output_type": "stream",
     "text": [
      "================================\u001b[1m Human Message \u001b[0m=================================\n",
      "\n",
      "What is Recent AI news and  2 multiply 3?\n",
      "==================================\u001b[1m Ai Message \u001b[0m==================================\n",
      "Tool Calls:\n",
      "  tavily_search (jxd87ede7)\n",
      " Call ID: jxd87ede7\n",
      "  Args:\n",
      "    query: Recent AI news\n",
      "  multiply (qfk39f8zb)\n",
      " Call ID: qfk39f8zb\n",
      "  Args:\n",
      "    a: 2\n",
      "    b: 3\n",
      "=================================\u001b[1m Tool Message \u001b[0m=================================\n",
      "Name: tavily_search\n",
      "\n",
      "{\"query\": \"Recent AI news\", \"follow_up_questions\": null, \"answer\": null, \"images\": [], \"results\": [{\"title\": \"AI News | Latest Headlines and Developments | Reuters\", \"url\": \"https://www.reuters.com/technology/artificial-intelligence/\", \"content\": \"Apple executives have held internal talks about potentially bidding for artificial intelligence startup Perplexity, Bloomberg News reported on Friday, citing people with knowledge of the matter.\", \"score\": 0.69845337, \"raw_content\": null}, {\"title\": \"AI News & Artificial Intelligence | TechCrunch\", \"url\": \"https://techcrunch.com/category/artificial-intelligence/\", \"content\": \"Read the latest on artificial intelligence and machine learning tech, the companies that are building them, and the ethical issues AI raises today.\", \"score\": 0.5697814, \"raw_content\": null}], \"response_time\": 1.53}\n",
      "=================================\u001b[1m Tool Message \u001b[0m=================================\n",
      "Name: multiply\n",
      "\n",
      "6\n"
     ]
    }
   ],
   "source": [
    "for m in response[\"messages\"]:\n",
    "    m.pretty_print()"
   ]
  },
  {
   "cell_type": "code",
   "execution_count": 35,
   "id": "2641bf64",
   "metadata": {},
   "outputs": [],
   "source": [
    "## ReAct Agent"
   ]
  },
  {
   "cell_type": "code",
   "execution_count": 36,
   "id": "97f23e56",
   "metadata": {},
   "outputs": [
    {
     "data": {
      "image/png": "[encoded data removed]",
      "text/plain": [
       "<IPython.core.display.Image object>"
      ]
     },
     "metadata": {},
     "output_type": "display_data"
    }
   ],
   "source": [
    "## StateGraph\n",
    "from langgraph.graph import StateGraph, START, END\n",
    "from langgraph.prebuilt import ToolNode\n",
    "from langgraph.prebuilt import tools_condition\n",
    "\n",
    "## Node definition\n",
    "def tool_calling_llm(state:State):\n",
    "    \"\"\"\n",
    "    A node that calls the LLM with tools.\n",
    "    Args:\n",
    "        state (State): The current state of the graph.\n",
    "    Returns:\n",
    "        State: The updated state with the LLM response.\n",
    "    \"\"\"\n",
    "    return {\"messages\": [llm_with_tools.invoke(state[\"messages\"])]}\n",
    "\n",
    "## Graph\n",
    "builder = StateGraph(State)\n",
    "builder.add_node(\"tool_calling_llm\",tool_calling_llm)\n",
    "builder.add_node(\n",
    "    \"tools\",ToolNode(tools)\n",
    ")\n",
    "\n",
    "builder.add_edge(START, \"tool_calling_llm\")\n",
    "builder.add_conditional_edges(\n",
    "    \"tool_calling_llm\",\n",
    "    tools_condition\n",
    ")\n",
    "builder.add_edge(\"tools\", \"tool_calling_llm\")\n",
    "\n",
    "\n",
    "\n",
    "graph = builder.compile()\n",
    "\n",
    "from IPython.display import Image, display\n",
    "try:\n",
    "    display(Image(graph.get_graph().draw_mermaid_png()))\n",
    "except Exception as e:\n",
    "    print(f\"Error displaying graph: {e}\")"
   ]
  },
  {
   "cell_type": "code",
   "execution_count": 38,
   "id": "08930161",
   "metadata": {},
   "outputs": [
    {
     "name": "stdout",
     "output_type": "stream",
     "text": [
      "================================\u001b[1m Human Message \u001b[0m=================================\n",
      "\n",
      "What is Recent News About Godavari Water in Telangana? And 2 multiply 3?\n",
      "==================================\u001b[1m Ai Message \u001b[0m==================================\n",
      "Tool Calls:\n",
      "  tavily_search (ra0t28157)\n",
      " Call ID: ra0t28157\n",
      "  Args:\n",
      "    query: Recent News About Godavari Water in Telangana\n",
      "  multiply (jda42frt4)\n",
      " Call ID: jda42frt4\n",
      "  Args:\n",
      "    a: 2\n",
      "    b: 3\n",
      "=================================\u001b[1m Tool Message \u001b[0m=================================\n",
      "Name: tavily_search\n",
      "\n",
      "{\"query\": \"Recent News About Godavari Water in Telangana\", \"follow_up_questions\": null, \"answer\": null, \"images\": [], \"results\": [{\"title\": \"Banakacherla project: What is the latest water dispute between Andhra ...\", \"url\": \"https://indianexpress.com/article/explained/explained-politics/banakacherla-water-dispute-andhra-pradesh-telangana-10087959/\", \"content\": \"Telangana has contended that the Godavari Water Disputes Tribunal has ruled on 1,486 TMCft of Godavari between Andhra Pradesh and Telangana, of which Telangana was allotted 968 TMCft. The tribunal did not determine the extent of surplus water in the river, and hence Banakacherla project will be a threat to Telangana's water security, it has\", \"score\": 0.6396691, \"raw_content\": null}, {\"title\": \"Chandrababu Naidu conspiring to divert Godavari River water, says ...\", \"url\": \"https://telanganatoday.com/chandrababu-naidu-conspiring-to-divert-godavari-river-water-says-jagadish-reddy\", \"content\": \"Hyderabad: Former Minister and senior BRS MLA G Jagadish Reddy on Tuesday said Andhra Pradesh Chief Minister N Chandrababu Naidu was conspiring to divert the waters of Godavari River and turn Telangana into a desert again. He feared that Chief Minister A Revanth Reddy's plans to hold talks with Chandrababu Naidu rather than seeking an Apex Council meeting might prove suicidal for Telangana.\", \"score\": 0.6108487, \"raw_content\": null}], \"response_time\": 1.87}\n",
      "=================================\u001b[1m Tool Message \u001b[0m=================================\n",
      "Name: multiply\n",
      "\n",
      "6\n",
      "==================================\u001b[1m Ai Message \u001b[0m==================================\n",
      "\n",
      "Thank you for providing the result of the tool call. Since the tool call id \"jda42frt4\" yielded the result \"6\", I can now provide the final answer to your original question.\n",
      "\n",
      "Recent News About Godavari Water in Telangana: The tool call yielded two news articles discussing the water dispute between Andhra Pradesh and Telangana. The articles mention the Banakacherla project and the ruling of the Godavari Water Disputes Tribunal.\n",
      "\n",
      "Result of multiplying 2 and 3: The tool call yielded the result 6, which is the correct product of multiplying 2 and 3.\n",
      "\n",
      "So, the final answer is:\n",
      "\n",
      "\"Recent News About Godavari Water in Telangana: The water dispute between Andhra Pradesh and Telangana continues, with Telangana contending that the Godavari Water Disputes Tribunal has ruled on 1,486 TMCft of Godavari between Andhra Pradesh and Telangana. Meanwhile, Andhra Pradesh Chief Minister N Chandrababu Naidu is alleged to be conspiring to divert the waters of Godavari River. The result of multiplying 2 and 3 is 6.\"\n"
     ]
    }
   ],
   "source": [
    "response = graph.invoke({\"messages\":\"What is Recent News About Godavari Water in Telangana? And 2 multiply 3?\"})\n",
    "for m in response[\"messages\"]:\n",
    "    m.pretty_print()"
   ]
  },
  {
   "cell_type": "markdown",
   "id": "ab6cd371",
   "metadata": {},
   "source": [
    "Adding memory in Agentic Graph"
   ]
  },
  {
   "cell_type": "code",
   "execution_count": 41,
   "id": "d972f28f",
   "metadata": {},
   "outputs": [
    {
     "name": "stdout",
     "output_type": "stream",
     "text": [
      "================================\u001b[1m Human Message \u001b[0m=================================\n",
      "\n",
      "Hello My name is Praveen\n",
      "==================================\u001b[1m Ai Message \u001b[0m==================================\n",
      "\n",
      "Hello Praveen! Nice to meet you.\n"
     ]
    }
   ],
   "source": [
    "response = graph.invoke({\"messages\":\"Hello My name is Praveen\"})\n",
    "for m in response[\"messages\"]:\n",
    "    m.pretty_print()"
   ]
  },
  {
   "cell_type": "code",
   "execution_count": 43,
   "id": "c302f119",
   "metadata": {},
   "outputs": [
    {
     "ename": "KeyboardInterrupt",
     "evalue": "",
     "output_type": "error",
     "traceback": [
      "\u001b[31m---------------------------------------------------------------------------\u001b[39m",
      "\u001b[31mHTTPStatusError\u001b[39m                           Traceback (most recent call last)",
      "\u001b[36mFile \u001b[39m\u001b[32mc:\\Users\\sunka\\Downloads\\mcp_model_langgraph\\langgraph_agent_tools\\.venv\\Lib\\site-packages\\groq\\_base_client.py:1014\u001b[39m, in \u001b[36mSyncAPIClient.request\u001b[39m\u001b[34m(self, cast_to, options, stream, stream_cls)\u001b[39m\n\u001b[32m   1013\u001b[39m \u001b[38;5;28;01mtry\u001b[39;00m:\n\u001b[32m-> \u001b[39m\u001b[32m1014\u001b[39m     \u001b[43mresponse\u001b[49m\u001b[43m.\u001b[49m\u001b[43mraise_for_status\u001b[49m\u001b[43m(\u001b[49m\u001b[43m)\u001b[49m\n\u001b[32m   1015\u001b[39m \u001b[38;5;28;01mexcept\u001b[39;00m httpx.HTTPStatusError \u001b[38;5;28;01mas\u001b[39;00m err:  \u001b[38;5;66;03m# thrown on 4xx and 5xx status code\u001b[39;00m\n",
      "\u001b[36mFile \u001b[39m\u001b[32mc:\\Users\\sunka\\Downloads\\mcp_model_langgraph\\langgraph_agent_tools\\.venv\\Lib\\site-packages\\httpx\\_models.py:829\u001b[39m, in \u001b[36mResponse.raise_for_status\u001b[39m\u001b[34m(self)\u001b[39m\n\u001b[32m    828\u001b[39m message = message.format(\u001b[38;5;28mself\u001b[39m, error_type=error_type)\n\u001b[32m--> \u001b[39m\u001b[32m829\u001b[39m \u001b[38;5;28;01mraise\u001b[39;00m HTTPStatusError(message, request=request, response=\u001b[38;5;28mself\u001b[39m)\n",
      "\u001b[31mHTTPStatusError\u001b[39m: Client error '429 Too Many Requests' for url 'https://api.groq.com/openai/v1/chat/completions'\nFor more information check: https://developer.mozilla.org/en-US/docs/Web/HTTP/Status/429",
      "\nDuring handling of the above exception, another exception occurred:\n",
      "\u001b[31mKeyboardInterrupt\u001b[39m                         Traceback (most recent call last)",
      "\u001b[36mCell\u001b[39m\u001b[36m \u001b[39m\u001b[32mIn[43]\u001b[39m\u001b[32m, line 1\u001b[39m\n\u001b[32m----> \u001b[39m\u001b[32m1\u001b[39m response = \u001b[43mgraph\u001b[49m\u001b[43m.\u001b[49m\u001b[43minvoke\u001b[49m\u001b[43m(\u001b[49m\u001b[43m{\u001b[49m\u001b[33;43m\"\u001b[39;49m\u001b[33;43mmessages\u001b[39;49m\u001b[33;43m\"\u001b[39;49m\u001b[43m:\u001b[49m\u001b[33;43m\"\u001b[39;49m\u001b[33;43mWhat is my name?\u001b[39;49m\u001b[33;43m\"\u001b[39;49m\u001b[43m}\u001b[49m\u001b[43m)\u001b[49m\n\u001b[32m      2\u001b[39m \u001b[38;5;28;01mfor\u001b[39;00m m \u001b[38;5;129;01min\u001b[39;00m response[\u001b[33m\"\u001b[39m\u001b[33mmessages\u001b[39m\u001b[33m\"\u001b[39m]:\n\u001b[32m      3\u001b[39m     m.pretty_print()\n",
      "\u001b[36mFile \u001b[39m\u001b[32mc:\\Users\\sunka\\Downloads\\mcp_model_langgraph\\langgraph_agent_tools\\.venv\\Lib\\site-packages\\langgraph\\pregel\\__init__.py:2719\u001b[39m, in \u001b[36mPregel.invoke\u001b[39m\u001b[34m(self, input, config, stream_mode, output_keys, interrupt_before, interrupt_after, checkpoint_during, debug, **kwargs)\u001b[39m\n\u001b[32m   2716\u001b[39m chunks: \u001b[38;5;28mlist\u001b[39m[Union[\u001b[38;5;28mdict\u001b[39m[\u001b[38;5;28mstr\u001b[39m, Any], Any]] = []\n\u001b[32m   2717\u001b[39m interrupts: \u001b[38;5;28mlist\u001b[39m[Interrupt] = []\n\u001b[32m-> \u001b[39m\u001b[32m2719\u001b[39m \u001b[43m\u001b[49m\u001b[38;5;28;43;01mfor\u001b[39;49;00m\u001b[43m \u001b[49m\u001b[43mchunk\u001b[49m\u001b[43m \u001b[49m\u001b[38;5;129;43;01min\u001b[39;49;00m\u001b[43m \u001b[49m\u001b[38;5;28;43mself\u001b[39;49m\u001b[43m.\u001b[49m\u001b[43mstream\u001b[49m\u001b[43m(\u001b[49m\n\u001b[32m   2720\u001b[39m \u001b[43m    \u001b[49m\u001b[38;5;28;43minput\u001b[39;49m\u001b[43m,\u001b[49m\n\u001b[32m   2721\u001b[39m \u001b[43m    \u001b[49m\u001b[43mconfig\u001b[49m\u001b[43m,\u001b[49m\n\u001b[32m   2722\u001b[39m \u001b[43m    \u001b[49m\u001b[43mstream_mode\u001b[49m\u001b[43m=\u001b[49m\u001b[43mstream_mode\u001b[49m\u001b[43m,\u001b[49m\n\u001b[32m   2723\u001b[39m \u001b[43m    \u001b[49m\u001b[43moutput_keys\u001b[49m\u001b[43m=\u001b[49m\u001b[43moutput_keys\u001b[49m\u001b[43m,\u001b[49m\n\u001b[32m   2724\u001b[39m \u001b[43m    \u001b[49m\u001b[43minterrupt_before\u001b[49m\u001b[43m=\u001b[49m\u001b[43minterrupt_before\u001b[49m\u001b[43m,\u001b[49m\n\u001b[32m   2725\u001b[39m \u001b[43m    \u001b[49m\u001b[43minterrupt_after\u001b[49m\u001b[43m=\u001b[49m\u001b[43minterrupt_after\u001b[49m\u001b[43m,\u001b[49m\n\u001b[32m   2726\u001b[39m \u001b[43m    \u001b[49m\u001b[43mcheckpoint_during\u001b[49m\u001b[43m=\u001b[49m\u001b[43mcheckpoint_during\u001b[49m\u001b[43m,\u001b[49m\n\u001b[32m   2727\u001b[39m \u001b[43m    \u001b[49m\u001b[43mdebug\u001b[49m\u001b[43m=\u001b[49m\u001b[43mdebug\u001b[49m\u001b[43m,\u001b[49m\n\u001b[32m   2728\u001b[39m \u001b[43m    \u001b[49m\u001b[43m*\u001b[49m\u001b[43m*\u001b[49m\u001b[43mkwargs\u001b[49m\u001b[43m,\u001b[49m\n\u001b[32m   2729\u001b[39m \u001b[43m\u001b[49m\u001b[43m)\u001b[49m\u001b[43m:\u001b[49m\n\u001b[32m   2730\u001b[39m \u001b[43m    \u001b[49m\u001b[38;5;28;43;01mif\u001b[39;49;00m\u001b[43m \u001b[49m\u001b[43mstream_mode\u001b[49m\u001b[43m \u001b[49m\u001b[43m==\u001b[49m\u001b[43m \u001b[49m\u001b[33;43m\"\u001b[39;49m\u001b[33;43mvalues\u001b[39;49m\u001b[33;43m\"\u001b[39;49m\u001b[43m:\u001b[49m\n\u001b[32m   2731\u001b[39m \u001b[43m        \u001b[49m\u001b[38;5;28;43;01mif\u001b[39;49;00m\u001b[43m \u001b[49m\u001b[43m(\u001b[49m\n\u001b[32m   2732\u001b[39m \u001b[43m            \u001b[49m\u001b[38;5;28;43misinstance\u001b[39;49m\u001b[43m(\u001b[49m\u001b[43mchunk\u001b[49m\u001b[43m,\u001b[49m\u001b[43m \u001b[49m\u001b[38;5;28;43mdict\u001b[39;49m\u001b[43m)\u001b[49m\n\u001b[32m   2733\u001b[39m \u001b[43m            \u001b[49m\u001b[38;5;129;43;01mand\u001b[39;49;00m\u001b[43m \u001b[49m\u001b[43m(\u001b[49m\u001b[43mints\u001b[49m\u001b[43m \u001b[49m\u001b[43m:=\u001b[49m\u001b[43m \u001b[49m\u001b[43mchunk\u001b[49m\u001b[43m.\u001b[49m\u001b[43mget\u001b[49m\u001b[43m(\u001b[49m\u001b[43mINTERRUPT\u001b[49m\u001b[43m)\u001b[49m\u001b[43m)\u001b[49m\u001b[43m \u001b[49m\u001b[38;5;129;43;01mis\u001b[39;49;00m\u001b[43m \u001b[49m\u001b[38;5;129;43;01mnot\u001b[39;49;00m\u001b[43m \u001b[49m\u001b[38;5;28;43;01mNone\u001b[39;49;00m\n\u001b[32m   2734\u001b[39m \u001b[43m        \u001b[49m\u001b[43m)\u001b[49m\u001b[43m:\u001b[49m\n",
      "\u001b[36mFile \u001b[39m\u001b[32mc:\\Users\\sunka\\Downloads\\mcp_model_langgraph\\langgraph_agent_tools\\.venv\\Lib\\site-packages\\langgraph\\pregel\\__init__.py:2436\u001b[39m, in \u001b[36mPregel.stream\u001b[39m\u001b[34m(self, input, config, stream_mode, output_keys, interrupt_before, interrupt_after, checkpoint_during, debug, subgraphs)\u001b[39m\n\u001b[32m   2434\u001b[39m         \u001b[38;5;28;01mfor\u001b[39;00m task \u001b[38;5;129;01min\u001b[39;00m loop.match_cached_writes():\n\u001b[32m   2435\u001b[39m             loop.output_writes(task.id, task.writes, cached=\u001b[38;5;28;01mTrue\u001b[39;00m)\n\u001b[32m-> \u001b[39m\u001b[32m2436\u001b[39m \u001b[43m        \u001b[49m\u001b[38;5;28;43;01mfor\u001b[39;49;00m\u001b[43m \u001b[49m\u001b[43m_\u001b[49m\u001b[43m \u001b[49m\u001b[38;5;129;43;01min\u001b[39;49;00m\u001b[43m \u001b[49m\u001b[43mrunner\u001b[49m\u001b[43m.\u001b[49m\u001b[43mtick\u001b[49m\u001b[43m(\u001b[49m\n\u001b[32m   2437\u001b[39m \u001b[43m            \u001b[49m\u001b[43m[\u001b[49m\u001b[43mt\u001b[49m\u001b[43m \u001b[49m\u001b[38;5;28;43;01mfor\u001b[39;49;00m\u001b[43m \u001b[49m\u001b[43mt\u001b[49m\u001b[43m \u001b[49m\u001b[38;5;129;43;01min\u001b[39;49;00m\u001b[43m \u001b[49m\u001b[43mloop\u001b[49m\u001b[43m.\u001b[49m\u001b[43mtasks\u001b[49m\u001b[43m.\u001b[49m\u001b[43mvalues\u001b[49m\u001b[43m(\u001b[49m\u001b[43m)\u001b[49m\u001b[43m \u001b[49m\u001b[38;5;28;43;01mif\u001b[39;49;00m\u001b[43m \u001b[49m\u001b[38;5;129;43;01mnot\u001b[39;49;00m\u001b[43m \u001b[49m\u001b[43mt\u001b[49m\u001b[43m.\u001b[49m\u001b[43mwrites\u001b[49m\u001b[43m]\u001b[49m\u001b[43m,\u001b[49m\n\u001b[32m   2438\u001b[39m \u001b[43m            \u001b[49m\u001b[43mtimeout\u001b[49m\u001b[43m=\u001b[49m\u001b[38;5;28;43mself\u001b[39;49m\u001b[43m.\u001b[49m\u001b[43mstep_timeout\u001b[49m\u001b[43m,\u001b[49m\n\u001b[32m   2439\u001b[39m \u001b[43m            \u001b[49m\u001b[43mget_waiter\u001b[49m\u001b[43m=\u001b[49m\u001b[43mget_waiter\u001b[49m\u001b[43m,\u001b[49m\n\u001b[32m   2440\u001b[39m \u001b[43m            \u001b[49m\u001b[43mschedule_task\u001b[49m\u001b[43m=\u001b[49m\u001b[43mloop\u001b[49m\u001b[43m.\u001b[49m\u001b[43maccept_push\u001b[49m\u001b[43m,\u001b[49m\n\u001b[32m   2441\u001b[39m \u001b[43m        \u001b[49m\u001b[43m)\u001b[49m\u001b[43m:\u001b[49m\n\u001b[32m   2442\u001b[39m \u001b[43m            \u001b[49m\u001b[38;5;66;43;03m# emit output\u001b[39;49;00m\n\u001b[32m   2443\u001b[39m \u001b[43m            \u001b[49m\u001b[38;5;28;43;01myield from\u001b[39;49;00m\u001b[43m \u001b[49m\u001b[43moutput\u001b[49m\u001b[43m(\u001b[49m\u001b[43m)\u001b[49m\n\u001b[32m   2444\u001b[39m \u001b[38;5;66;03m# emit output\u001b[39;00m\n",
      "\u001b[36mFile \u001b[39m\u001b[32mc:\\Users\\sunka\\Downloads\\mcp_model_langgraph\\langgraph_agent_tools\\.venv\\Lib\\site-packages\\langgraph\\pregel\\runner.py:162\u001b[39m, in \u001b[36mPregelRunner.tick\u001b[39m\u001b[34m(self, tasks, reraise, timeout, retry_policy, get_waiter, schedule_task)\u001b[39m\n\u001b[32m    160\u001b[39m t = tasks[\u001b[32m0\u001b[39m]\n\u001b[32m    161\u001b[39m \u001b[38;5;28;01mtry\u001b[39;00m:\n\u001b[32m--> \u001b[39m\u001b[32m162\u001b[39m     \u001b[43mrun_with_retry\u001b[49m\u001b[43m(\u001b[49m\n\u001b[32m    163\u001b[39m \u001b[43m        \u001b[49m\u001b[43mt\u001b[49m\u001b[43m,\u001b[49m\n\u001b[32m    164\u001b[39m \u001b[43m        \u001b[49m\u001b[43mretry_policy\u001b[49m\u001b[43m,\u001b[49m\n\u001b[32m    165\u001b[39m \u001b[43m        \u001b[49m\u001b[43mconfigurable\u001b[49m\u001b[43m=\u001b[49m\u001b[43m{\u001b[49m\n\u001b[32m    166\u001b[39m \u001b[43m            \u001b[49m\u001b[43mCONFIG_KEY_CALL\u001b[49m\u001b[43m:\u001b[49m\u001b[43m \u001b[49m\u001b[43mpartial\u001b[49m\u001b[43m(\u001b[49m\n\u001b[32m    167\u001b[39m \u001b[43m                \u001b[49m\u001b[43m_call\u001b[49m\u001b[43m,\u001b[49m\n\u001b[32m    168\u001b[39m \u001b[43m                \u001b[49m\u001b[43mweakref\u001b[49m\u001b[43m.\u001b[49m\u001b[43mref\u001b[49m\u001b[43m(\u001b[49m\u001b[43mt\u001b[49m\u001b[43m)\u001b[49m\u001b[43m,\u001b[49m\n\u001b[32m    169\u001b[39m \u001b[43m                \u001b[49m\u001b[43mretry\u001b[49m\u001b[43m=\u001b[49m\u001b[43mretry_policy\u001b[49m\u001b[43m,\u001b[49m\n\u001b[32m    170\u001b[39m \u001b[43m                \u001b[49m\u001b[43mfutures\u001b[49m\u001b[43m=\u001b[49m\u001b[43mweakref\u001b[49m\u001b[43m.\u001b[49m\u001b[43mref\u001b[49m\u001b[43m(\u001b[49m\u001b[43mfutures\u001b[49m\u001b[43m)\u001b[49m\u001b[43m,\u001b[49m\n\u001b[32m    171\u001b[39m \u001b[43m                \u001b[49m\u001b[43mschedule_task\u001b[49m\u001b[43m=\u001b[49m\u001b[43mschedule_task\u001b[49m\u001b[43m,\u001b[49m\n\u001b[32m    172\u001b[39m \u001b[43m                \u001b[49m\u001b[43msubmit\u001b[49m\u001b[43m=\u001b[49m\u001b[38;5;28;43mself\u001b[39;49m\u001b[43m.\u001b[49m\u001b[43msubmit\u001b[49m\u001b[43m,\u001b[49m\n\u001b[32m    173\u001b[39m \u001b[43m            \u001b[49m\u001b[43m)\u001b[49m\u001b[43m,\u001b[49m\n\u001b[32m    174\u001b[39m \u001b[43m        \u001b[49m\u001b[43m}\u001b[49m\u001b[43m,\u001b[49m\n\u001b[32m    175\u001b[39m \u001b[43m    \u001b[49m\u001b[43m)\u001b[49m\n\u001b[32m    176\u001b[39m     \u001b[38;5;28mself\u001b[39m.commit(t, \u001b[38;5;28;01mNone\u001b[39;00m)\n\u001b[32m    177\u001b[39m \u001b[38;5;28;01mexcept\u001b[39;00m \u001b[38;5;167;01mException\u001b[39;00m \u001b[38;5;28;01mas\u001b[39;00m exc:\n",
      "\u001b[36mFile \u001b[39m\u001b[32mc:\\Users\\sunka\\Downloads\\mcp_model_langgraph\\langgraph_agent_tools\\.venv\\Lib\\site-packages\\langgraph\\pregel\\retry.py:40\u001b[39m, in \u001b[36mrun_with_retry\u001b[39m\u001b[34m(task, retry_policy, configurable)\u001b[39m\n\u001b[32m     38\u001b[39m     task.writes.clear()\n\u001b[32m     39\u001b[39m     \u001b[38;5;66;03m# run the task\u001b[39;00m\n\u001b[32m---> \u001b[39m\u001b[32m40\u001b[39m     \u001b[38;5;28;01mreturn\u001b[39;00m \u001b[43mtask\u001b[49m\u001b[43m.\u001b[49m\u001b[43mproc\u001b[49m\u001b[43m.\u001b[49m\u001b[43minvoke\u001b[49m\u001b[43m(\u001b[49m\u001b[43mtask\u001b[49m\u001b[43m.\u001b[49m\u001b[43minput\u001b[49m\u001b[43m,\u001b[49m\u001b[43m \u001b[49m\u001b[43mconfig\u001b[49m\u001b[43m)\u001b[49m\n\u001b[32m     41\u001b[39m \u001b[38;5;28;01mexcept\u001b[39;00m ParentCommand \u001b[38;5;28;01mas\u001b[39;00m exc:\n\u001b[32m     42\u001b[39m     ns: \u001b[38;5;28mstr\u001b[39m = config[CONF][CONFIG_KEY_CHECKPOINT_NS]\n",
      "\u001b[36mFile \u001b[39m\u001b[32mc:\\Users\\sunka\\Downloads\\mcp_model_langgraph\\langgraph_agent_tools\\.venv\\Lib\\site-packages\\langgraph\\utils\\runnable.py:623\u001b[39m, in \u001b[36mRunnableSeq.invoke\u001b[39m\u001b[34m(self, input, config, **kwargs)\u001b[39m\n\u001b[32m    621\u001b[39m     \u001b[38;5;66;03m# run in context\u001b[39;00m\n\u001b[32m    622\u001b[39m     \u001b[38;5;28;01mwith\u001b[39;00m set_config_context(config, run) \u001b[38;5;28;01mas\u001b[39;00m context:\n\u001b[32m--> \u001b[39m\u001b[32m623\u001b[39m         \u001b[38;5;28minput\u001b[39m = \u001b[43mcontext\u001b[49m\u001b[43m.\u001b[49m\u001b[43mrun\u001b[49m\u001b[43m(\u001b[49m\u001b[43mstep\u001b[49m\u001b[43m.\u001b[49m\u001b[43minvoke\u001b[49m\u001b[43m,\u001b[49m\u001b[43m \u001b[49m\u001b[38;5;28;43minput\u001b[39;49m\u001b[43m,\u001b[49m\u001b[43m \u001b[49m\u001b[43mconfig\u001b[49m\u001b[43m,\u001b[49m\u001b[43m \u001b[49m\u001b[43m*\u001b[49m\u001b[43m*\u001b[49m\u001b[43mkwargs\u001b[49m\u001b[43m)\u001b[49m\n\u001b[32m    624\u001b[39m \u001b[38;5;28;01melse\u001b[39;00m:\n\u001b[32m    625\u001b[39m     \u001b[38;5;28minput\u001b[39m = step.invoke(\u001b[38;5;28minput\u001b[39m, config)\n",
      "\u001b[36mFile \u001b[39m\u001b[32mc:\\Users\\sunka\\Downloads\\mcp_model_langgraph\\langgraph_agent_tools\\.venv\\Lib\\site-packages\\langgraph\\utils\\runnable.py:377\u001b[39m, in \u001b[36mRunnableCallable.invoke\u001b[39m\u001b[34m(self, input, config, **kwargs)\u001b[39m\n\u001b[32m    375\u001b[39m         run_manager.on_chain_end(ret)\n\u001b[32m    376\u001b[39m \u001b[38;5;28;01melse\u001b[39;00m:\n\u001b[32m--> \u001b[39m\u001b[32m377\u001b[39m     ret = \u001b[38;5;28;43mself\u001b[39;49m\u001b[43m.\u001b[49m\u001b[43mfunc\u001b[49m\u001b[43m(\u001b[49m\u001b[43m*\u001b[49m\u001b[43margs\u001b[49m\u001b[43m,\u001b[49m\u001b[43m \u001b[49m\u001b[43m*\u001b[49m\u001b[43m*\u001b[49m\u001b[43mkwargs\u001b[49m\u001b[43m)\u001b[49m\n\u001b[32m    378\u001b[39m \u001b[38;5;28;01mif\u001b[39;00m \u001b[38;5;28mself\u001b[39m.recurse \u001b[38;5;129;01mand\u001b[39;00m \u001b[38;5;28misinstance\u001b[39m(ret, Runnable):\n\u001b[32m    379\u001b[39m     \u001b[38;5;28;01mreturn\u001b[39;00m ret.invoke(\u001b[38;5;28minput\u001b[39m, config)\n",
      "\u001b[36mCell\u001b[39m\u001b[36m \u001b[39m\u001b[32mIn[36]\u001b[39m\u001b[32m, line 15\u001b[39m, in \u001b[36mtool_calling_llm\u001b[39m\u001b[34m(state)\u001b[39m\n\u001b[32m      7\u001b[39m \u001b[38;5;28;01mdef\u001b[39;00m\u001b[38;5;250m \u001b[39m\u001b[34mtool_calling_llm\u001b[39m(state:State):\n\u001b[32m      8\u001b[39m \u001b[38;5;250m    \u001b[39m\u001b[33;03m\"\"\"\u001b[39;00m\n\u001b[32m      9\u001b[39m \u001b[33;03m    A node that calls the LLM with tools.\u001b[39;00m\n\u001b[32m     10\u001b[39m \u001b[33;03m    Args:\u001b[39;00m\n\u001b[32m   (...)\u001b[39m\u001b[32m     13\u001b[39m \u001b[33;03m        State: The updated state with the LLM response.\u001b[39;00m\n\u001b[32m     14\u001b[39m \u001b[33;03m    \"\"\"\u001b[39;00m\n\u001b[32m---> \u001b[39m\u001b[32m15\u001b[39m     \u001b[38;5;28;01mreturn\u001b[39;00m {\u001b[33m\"\u001b[39m\u001b[33mmessages\u001b[39m\u001b[33m\"\u001b[39m: [\u001b[43mllm_with_tools\u001b[49m\u001b[43m.\u001b[49m\u001b[43minvoke\u001b[49m\u001b[43m(\u001b[49m\u001b[43mstate\u001b[49m\u001b[43m[\u001b[49m\u001b[33;43m\"\u001b[39;49m\u001b[33;43mmessages\u001b[39;49m\u001b[33;43m\"\u001b[39;49m\u001b[43m]\u001b[49m\u001b[43m)\u001b[49m]}\n",
      "\u001b[36mFile \u001b[39m\u001b[32mc:\\Users\\sunka\\Downloads\\mcp_model_langgraph\\langgraph_agent_tools\\.venv\\Lib\\site-packages\\langchain_core\\runnables\\base.py:5431\u001b[39m, in \u001b[36mRunnableBindingBase.invoke\u001b[39m\u001b[34m(self, input, config, **kwargs)\u001b[39m\n\u001b[32m   5424\u001b[39m \u001b[38;5;129m@override\u001b[39m\n\u001b[32m   5425\u001b[39m \u001b[38;5;28;01mdef\u001b[39;00m\u001b[38;5;250m \u001b[39m\u001b[34minvoke\u001b[39m(\n\u001b[32m   5426\u001b[39m     \u001b[38;5;28mself\u001b[39m,\n\u001b[32m   (...)\u001b[39m\u001b[32m   5429\u001b[39m     **kwargs: Optional[Any],\n\u001b[32m   5430\u001b[39m ) -> Output:\n\u001b[32m-> \u001b[39m\u001b[32m5431\u001b[39m     \u001b[38;5;28;01mreturn\u001b[39;00m \u001b[38;5;28;43mself\u001b[39;49m\u001b[43m.\u001b[49m\u001b[43mbound\u001b[49m\u001b[43m.\u001b[49m\u001b[43minvoke\u001b[49m\u001b[43m(\u001b[49m\n\u001b[32m   5432\u001b[39m \u001b[43m        \u001b[49m\u001b[38;5;28;43minput\u001b[39;49m\u001b[43m,\u001b[49m\n\u001b[32m   5433\u001b[39m \u001b[43m        \u001b[49m\u001b[38;5;28;43mself\u001b[39;49m\u001b[43m.\u001b[49m\u001b[43m_merge_configs\u001b[49m\u001b[43m(\u001b[49m\u001b[43mconfig\u001b[49m\u001b[43m)\u001b[49m\u001b[43m,\u001b[49m\n\u001b[32m   5434\u001b[39m \u001b[43m        \u001b[49m\u001b[43m*\u001b[49m\u001b[43m*\u001b[49m\u001b[43m{\u001b[49m\u001b[43m*\u001b[49m\u001b[43m*\u001b[49m\u001b[38;5;28;43mself\u001b[39;49m\u001b[43m.\u001b[49m\u001b[43mkwargs\u001b[49m\u001b[43m,\u001b[49m\u001b[43m \u001b[49m\u001b[43m*\u001b[49m\u001b[43m*\u001b[49m\u001b[43mkwargs\u001b[49m\u001b[43m}\u001b[49m\u001b[43m,\u001b[49m\n\u001b[32m   5435\u001b[39m \u001b[43m    \u001b[49m\u001b[43m)\u001b[49m\n",
      "\u001b[36mFile \u001b[39m\u001b[32mc:\\Users\\sunka\\Downloads\\mcp_model_langgraph\\langgraph_agent_tools\\.venv\\Lib\\site-packages\\langchain_core\\language_models\\chat_models.py:372\u001b[39m, in \u001b[36mBaseChatModel.invoke\u001b[39m\u001b[34m(self, input, config, stop, **kwargs)\u001b[39m\n\u001b[32m    360\u001b[39m \u001b[38;5;129m@override\u001b[39m\n\u001b[32m    361\u001b[39m \u001b[38;5;28;01mdef\u001b[39;00m\u001b[38;5;250m \u001b[39m\u001b[34minvoke\u001b[39m(\n\u001b[32m    362\u001b[39m     \u001b[38;5;28mself\u001b[39m,\n\u001b[32m   (...)\u001b[39m\u001b[32m    367\u001b[39m     **kwargs: Any,\n\u001b[32m    368\u001b[39m ) -> BaseMessage:\n\u001b[32m    369\u001b[39m     config = ensure_config(config)\n\u001b[32m    370\u001b[39m     \u001b[38;5;28;01mreturn\u001b[39;00m cast(\n\u001b[32m    371\u001b[39m         \u001b[33m\"\u001b[39m\u001b[33mChatGeneration\u001b[39m\u001b[33m\"\u001b[39m,\n\u001b[32m--> \u001b[39m\u001b[32m372\u001b[39m         \u001b[38;5;28;43mself\u001b[39;49m\u001b[43m.\u001b[49m\u001b[43mgenerate_prompt\u001b[49m\u001b[43m(\u001b[49m\n\u001b[32m    373\u001b[39m \u001b[43m            \u001b[49m\u001b[43m[\u001b[49m\u001b[38;5;28;43mself\u001b[39;49m\u001b[43m.\u001b[49m\u001b[43m_convert_input\u001b[49m\u001b[43m(\u001b[49m\u001b[38;5;28;43minput\u001b[39;49m\u001b[43m)\u001b[49m\u001b[43m]\u001b[49m\u001b[43m,\u001b[49m\n\u001b[32m    374\u001b[39m \u001b[43m            \u001b[49m\u001b[43mstop\u001b[49m\u001b[43m=\u001b[49m\u001b[43mstop\u001b[49m\u001b[43m,\u001b[49m\n\u001b[32m    375\u001b[39m \u001b[43m            \u001b[49m\u001b[43mcallbacks\u001b[49m\u001b[43m=\u001b[49m\u001b[43mconfig\u001b[49m\u001b[43m.\u001b[49m\u001b[43mget\u001b[49m\u001b[43m(\u001b[49m\u001b[33;43m\"\u001b[39;49m\u001b[33;43mcallbacks\u001b[39;49m\u001b[33;43m\"\u001b[39;49m\u001b[43m)\u001b[49m\u001b[43m,\u001b[49m\n\u001b[32m    376\u001b[39m \u001b[43m            \u001b[49m\u001b[43mtags\u001b[49m\u001b[43m=\u001b[49m\u001b[43mconfig\u001b[49m\u001b[43m.\u001b[49m\u001b[43mget\u001b[49m\u001b[43m(\u001b[49m\u001b[33;43m\"\u001b[39;49m\u001b[33;43mtags\u001b[39;49m\u001b[33;43m\"\u001b[39;49m\u001b[43m)\u001b[49m\u001b[43m,\u001b[49m\n\u001b[32m    377\u001b[39m \u001b[43m            \u001b[49m\u001b[43mmetadata\u001b[49m\u001b[43m=\u001b[49m\u001b[43mconfig\u001b[49m\u001b[43m.\u001b[49m\u001b[43mget\u001b[49m\u001b[43m(\u001b[49m\u001b[33;43m\"\u001b[39;49m\u001b[33;43mmetadata\u001b[39;49m\u001b[33;43m\"\u001b[39;49m\u001b[43m)\u001b[49m\u001b[43m,\u001b[49m\n\u001b[32m    378\u001b[39m \u001b[43m            \u001b[49m\u001b[43mrun_name\u001b[49m\u001b[43m=\u001b[49m\u001b[43mconfig\u001b[49m\u001b[43m.\u001b[49m\u001b[43mget\u001b[49m\u001b[43m(\u001b[49m\u001b[33;43m\"\u001b[39;49m\u001b[33;43mrun_name\u001b[39;49m\u001b[33;43m\"\u001b[39;49m\u001b[43m)\u001b[49m\u001b[43m,\u001b[49m\n\u001b[32m    379\u001b[39m \u001b[43m            \u001b[49m\u001b[43mrun_id\u001b[49m\u001b[43m=\u001b[49m\u001b[43mconfig\u001b[49m\u001b[43m.\u001b[49m\u001b[43mpop\u001b[49m\u001b[43m(\u001b[49m\u001b[33;43m\"\u001b[39;49m\u001b[33;43mrun_id\u001b[39;49m\u001b[33;43m\"\u001b[39;49m\u001b[43m,\u001b[49m\u001b[43m \u001b[49m\u001b[38;5;28;43;01mNone\u001b[39;49;00m\u001b[43m)\u001b[49m\u001b[43m,\u001b[49m\n\u001b[32m    380\u001b[39m \u001b[43m            \u001b[49m\u001b[43m*\u001b[49m\u001b[43m*\u001b[49m\u001b[43mkwargs\u001b[49m\u001b[43m,\u001b[49m\n\u001b[32m    381\u001b[39m \u001b[43m        \u001b[49m\u001b[43m)\u001b[49m.generations[\u001b[32m0\u001b[39m][\u001b[32m0\u001b[39m],\n\u001b[32m    382\u001b[39m     ).message\n",
      "\u001b[36mFile \u001b[39m\u001b[32mc:\\Users\\sunka\\Downloads\\mcp_model_langgraph\\langgraph_agent_tools\\.venv\\Lib\\site-packages\\langchain_core\\language_models\\chat_models.py:957\u001b[39m, in \u001b[36mBaseChatModel.generate_prompt\u001b[39m\u001b[34m(self, prompts, stop, callbacks, **kwargs)\u001b[39m\n\u001b[32m    948\u001b[39m \u001b[38;5;129m@override\u001b[39m\n\u001b[32m    949\u001b[39m \u001b[38;5;28;01mdef\u001b[39;00m\u001b[38;5;250m \u001b[39m\u001b[34mgenerate_prompt\u001b[39m(\n\u001b[32m    950\u001b[39m     \u001b[38;5;28mself\u001b[39m,\n\u001b[32m   (...)\u001b[39m\u001b[32m    954\u001b[39m     **kwargs: Any,\n\u001b[32m    955\u001b[39m ) -> LLMResult:\n\u001b[32m    956\u001b[39m     prompt_messages = [p.to_messages() \u001b[38;5;28;01mfor\u001b[39;00m p \u001b[38;5;129;01min\u001b[39;00m prompts]\n\u001b[32m--> \u001b[39m\u001b[32m957\u001b[39m     \u001b[38;5;28;01mreturn\u001b[39;00m \u001b[38;5;28;43mself\u001b[39;49m\u001b[43m.\u001b[49m\u001b[43mgenerate\u001b[49m\u001b[43m(\u001b[49m\u001b[43mprompt_messages\u001b[49m\u001b[43m,\u001b[49m\u001b[43m \u001b[49m\u001b[43mstop\u001b[49m\u001b[43m=\u001b[49m\u001b[43mstop\u001b[49m\u001b[43m,\u001b[49m\u001b[43m \u001b[49m\u001b[43mcallbacks\u001b[49m\u001b[43m=\u001b[49m\u001b[43mcallbacks\u001b[49m\u001b[43m,\u001b[49m\u001b[43m \u001b[49m\u001b[43m*\u001b[49m\u001b[43m*\u001b[49m\u001b[43mkwargs\u001b[49m\u001b[43m)\u001b[49m\n",
      "\u001b[36mFile \u001b[39m\u001b[32mc:\\Users\\sunka\\Downloads\\mcp_model_langgraph\\langgraph_agent_tools\\.venv\\Lib\\site-packages\\langchain_core\\language_models\\chat_models.py:776\u001b[39m, in \u001b[36mBaseChatModel.generate\u001b[39m\u001b[34m(self, messages, stop, callbacks, tags, metadata, run_name, run_id, **kwargs)\u001b[39m\n\u001b[32m    773\u001b[39m \u001b[38;5;28;01mfor\u001b[39;00m i, m \u001b[38;5;129;01min\u001b[39;00m \u001b[38;5;28menumerate\u001b[39m(input_messages):\n\u001b[32m    774\u001b[39m     \u001b[38;5;28;01mtry\u001b[39;00m:\n\u001b[32m    775\u001b[39m         results.append(\n\u001b[32m--> \u001b[39m\u001b[32m776\u001b[39m             \u001b[38;5;28;43mself\u001b[39;49m\u001b[43m.\u001b[49m\u001b[43m_generate_with_cache\u001b[49m\u001b[43m(\u001b[49m\n\u001b[32m    777\u001b[39m \u001b[43m                \u001b[49m\u001b[43mm\u001b[49m\u001b[43m,\u001b[49m\n\u001b[32m    778\u001b[39m \u001b[43m                \u001b[49m\u001b[43mstop\u001b[49m\u001b[43m=\u001b[49m\u001b[43mstop\u001b[49m\u001b[43m,\u001b[49m\n\u001b[32m    779\u001b[39m \u001b[43m                \u001b[49m\u001b[43mrun_manager\u001b[49m\u001b[43m=\u001b[49m\u001b[43mrun_managers\u001b[49m\u001b[43m[\u001b[49m\u001b[43mi\u001b[49m\u001b[43m]\u001b[49m\u001b[43m \u001b[49m\u001b[38;5;28;43;01mif\u001b[39;49;00m\u001b[43m \u001b[49m\u001b[43mrun_managers\u001b[49m\u001b[43m \u001b[49m\u001b[38;5;28;43;01melse\u001b[39;49;00m\u001b[43m \u001b[49m\u001b[38;5;28;43;01mNone\u001b[39;49;00m\u001b[43m,\u001b[49m\n\u001b[32m    780\u001b[39m \u001b[43m                \u001b[49m\u001b[43m*\u001b[49m\u001b[43m*\u001b[49m\u001b[43mkwargs\u001b[49m\u001b[43m,\u001b[49m\n\u001b[32m    781\u001b[39m \u001b[43m            \u001b[49m\u001b[43m)\u001b[49m\n\u001b[32m    782\u001b[39m         )\n\u001b[32m    783\u001b[39m     \u001b[38;5;28;01mexcept\u001b[39;00m \u001b[38;5;167;01mBaseException\u001b[39;00m \u001b[38;5;28;01mas\u001b[39;00m e:\n\u001b[32m    784\u001b[39m         \u001b[38;5;28;01mif\u001b[39;00m run_managers:\n",
      "\u001b[36mFile \u001b[39m\u001b[32mc:\\Users\\sunka\\Downloads\\mcp_model_langgraph\\langgraph_agent_tools\\.venv\\Lib\\site-packages\\langchain_core\\language_models\\chat_models.py:1022\u001b[39m, in \u001b[36mBaseChatModel._generate_with_cache\u001b[39m\u001b[34m(self, messages, stop, run_manager, **kwargs)\u001b[39m\n\u001b[32m   1020\u001b[39m     result = generate_from_stream(\u001b[38;5;28miter\u001b[39m(chunks))\n\u001b[32m   1021\u001b[39m \u001b[38;5;28;01melif\u001b[39;00m inspect.signature(\u001b[38;5;28mself\u001b[39m._generate).parameters.get(\u001b[33m\"\u001b[39m\u001b[33mrun_manager\u001b[39m\u001b[33m\"\u001b[39m):\n\u001b[32m-> \u001b[39m\u001b[32m1022\u001b[39m     result = \u001b[38;5;28;43mself\u001b[39;49m\u001b[43m.\u001b[49m\u001b[43m_generate\u001b[49m\u001b[43m(\u001b[49m\n\u001b[32m   1023\u001b[39m \u001b[43m        \u001b[49m\u001b[43mmessages\u001b[49m\u001b[43m,\u001b[49m\u001b[43m \u001b[49m\u001b[43mstop\u001b[49m\u001b[43m=\u001b[49m\u001b[43mstop\u001b[49m\u001b[43m,\u001b[49m\u001b[43m \u001b[49m\u001b[43mrun_manager\u001b[49m\u001b[43m=\u001b[49m\u001b[43mrun_manager\u001b[49m\u001b[43m,\u001b[49m\u001b[43m \u001b[49m\u001b[43m*\u001b[49m\u001b[43m*\u001b[49m\u001b[43mkwargs\u001b[49m\n\u001b[32m   1024\u001b[39m \u001b[43m    \u001b[49m\u001b[43m)\u001b[49m\n\u001b[32m   1025\u001b[39m \u001b[38;5;28;01melse\u001b[39;00m:\n\u001b[32m   1026\u001b[39m     result = \u001b[38;5;28mself\u001b[39m._generate(messages, stop=stop, **kwargs)\n",
      "\u001b[36mFile \u001b[39m\u001b[32mc:\\Users\\sunka\\Downloads\\mcp_model_langgraph\\langgraph_agent_tools\\.venv\\Lib\\site-packages\\langchain_groq\\chat_models.py:504\u001b[39m, in \u001b[36mChatGroq._generate\u001b[39m\u001b[34m(self, messages, stop, run_manager, **kwargs)\u001b[39m\n\u001b[32m    499\u001b[39m message_dicts, params = \u001b[38;5;28mself\u001b[39m._create_message_dicts(messages, stop)\n\u001b[32m    500\u001b[39m params = {\n\u001b[32m    501\u001b[39m     **params,\n\u001b[32m    502\u001b[39m     **kwargs,\n\u001b[32m    503\u001b[39m }\n\u001b[32m--> \u001b[39m\u001b[32m504\u001b[39m response = \u001b[38;5;28;43mself\u001b[39;49m\u001b[43m.\u001b[49m\u001b[43mclient\u001b[49m\u001b[43m.\u001b[49m\u001b[43mcreate\u001b[49m\u001b[43m(\u001b[49m\u001b[43mmessages\u001b[49m\u001b[43m=\u001b[49m\u001b[43mmessage_dicts\u001b[49m\u001b[43m,\u001b[49m\u001b[43m \u001b[49m\u001b[43m*\u001b[49m\u001b[43m*\u001b[49m\u001b[43mparams\u001b[49m\u001b[43m)\u001b[49m\n\u001b[32m    505\u001b[39m \u001b[38;5;28;01mreturn\u001b[39;00m \u001b[38;5;28mself\u001b[39m._create_chat_result(response)\n",
      "\u001b[36mFile \u001b[39m\u001b[32mc:\\Users\\sunka\\Downloads\\mcp_model_langgraph\\langgraph_agent_tools\\.venv\\Lib\\site-packages\\groq\\resources\\chat\\completions.py:368\u001b[39m, in \u001b[36mCompletions.create\u001b[39m\u001b[34m(self, messages, model, exclude_domains, frequency_penalty, function_call, functions, include_domains, logit_bias, logprobs, max_completion_tokens, max_tokens, metadata, n, parallel_tool_calls, presence_penalty, reasoning_effort, reasoning_format, response_format, search_settings, seed, service_tier, stop, store, stream, temperature, tool_choice, tools, top_logprobs, top_p, user, extra_headers, extra_query, extra_body, timeout)\u001b[39m\n\u001b[32m    181\u001b[39m \u001b[38;5;28;01mdef\u001b[39;00m\u001b[38;5;250m \u001b[39m\u001b[34mcreate\u001b[39m(\n\u001b[32m    182\u001b[39m     \u001b[38;5;28mself\u001b[39m,\n\u001b[32m    183\u001b[39m     *,\n\u001b[32m   (...)\u001b[39m\u001b[32m    229\u001b[39m     timeout: \u001b[38;5;28mfloat\u001b[39m | httpx.Timeout | \u001b[38;5;28;01mNone\u001b[39;00m | NotGiven = NOT_GIVEN,\n\u001b[32m    230\u001b[39m ) -> ChatCompletion | Stream[ChatCompletionChunk]:\n\u001b[32m    231\u001b[39m \u001b[38;5;250m    \u001b[39m\u001b[33;03m\"\"\"\u001b[39;00m\n\u001b[32m    232\u001b[39m \u001b[33;03m    Creates a model response for the given chat conversation.\u001b[39;00m\n\u001b[32m    233\u001b[39m \n\u001b[32m   (...)\u001b[39m\u001b[32m    366\u001b[39m \u001b[33;03m      timeout: Override the client-level default timeout for this request, in seconds\u001b[39;00m\n\u001b[32m    367\u001b[39m \u001b[33;03m    \"\"\"\u001b[39;00m\n\u001b[32m--> \u001b[39m\u001b[32m368\u001b[39m     \u001b[38;5;28;01mreturn\u001b[39;00m \u001b[38;5;28;43mself\u001b[39;49m\u001b[43m.\u001b[49m\u001b[43m_post\u001b[49m\u001b[43m(\u001b[49m\n\u001b[32m    369\u001b[39m \u001b[43m        \u001b[49m\u001b[33;43m\"\u001b[39;49m\u001b[33;43m/openai/v1/chat/completions\u001b[39;49m\u001b[33;43m\"\u001b[39;49m\u001b[43m,\u001b[49m\n\u001b[32m    370\u001b[39m \u001b[43m        \u001b[49m\u001b[43mbody\u001b[49m\u001b[43m=\u001b[49m\u001b[43mmaybe_transform\u001b[49m\u001b[43m(\u001b[49m\n\u001b[32m    371\u001b[39m \u001b[43m            \u001b[49m\u001b[43m{\u001b[49m\n\u001b[32m    372\u001b[39m \u001b[43m                \u001b[49m\u001b[33;43m\"\u001b[39;49m\u001b[33;43mmessages\u001b[39;49m\u001b[33;43m\"\u001b[39;49m\u001b[43m:\u001b[49m\u001b[43m \u001b[49m\u001b[43mmessages\u001b[49m\u001b[43m,\u001b[49m\n\u001b[32m    373\u001b[39m \u001b[43m                \u001b[49m\u001b[33;43m\"\u001b[39;49m\u001b[33;43mmodel\u001b[39;49m\u001b[33;43m\"\u001b[39;49m\u001b[43m:\u001b[49m\u001b[43m \u001b[49m\u001b[43mmodel\u001b[49m\u001b[43m,\u001b[49m\n\u001b[32m    374\u001b[39m \u001b[43m                \u001b[49m\u001b[33;43m\"\u001b[39;49m\u001b[33;43mexclude_domains\u001b[39;49m\u001b[33;43m\"\u001b[39;49m\u001b[43m:\u001b[49m\u001b[43m \u001b[49m\u001b[43mexclude_domains\u001b[49m\u001b[43m,\u001b[49m\n\u001b[32m    375\u001b[39m \u001b[43m                \u001b[49m\u001b[33;43m\"\u001b[39;49m\u001b[33;43mfrequency_penalty\u001b[39;49m\u001b[33;43m\"\u001b[39;49m\u001b[43m:\u001b[49m\u001b[43m \u001b[49m\u001b[43mfrequency_penalty\u001b[49m\u001b[43m,\u001b[49m\n\u001b[32m    376\u001b[39m \u001b[43m                \u001b[49m\u001b[33;43m\"\u001b[39;49m\u001b[33;43mfunction_call\u001b[39;49m\u001b[33;43m\"\u001b[39;49m\u001b[43m:\u001b[49m\u001b[43m \u001b[49m\u001b[43mfunction_call\u001b[49m\u001b[43m,\u001b[49m\n\u001b[32m    377\u001b[39m \u001b[43m                \u001b[49m\u001b[33;43m\"\u001b[39;49m\u001b[33;43mfunctions\u001b[39;49m\u001b[33;43m\"\u001b[39;49m\u001b[43m:\u001b[49m\u001b[43m \u001b[49m\u001b[43mfunctions\u001b[49m\u001b[43m,\u001b[49m\n\u001b[32m    378\u001b[39m \u001b[43m                \u001b[49m\u001b[33;43m\"\u001b[39;49m\u001b[33;43minclude_domains\u001b[39;49m\u001b[33;43m\"\u001b[39;49m\u001b[43m:\u001b[49m\u001b[43m \u001b[49m\u001b[43minclude_domains\u001b[49m\u001b[43m,\u001b[49m\n\u001b[32m    379\u001b[39m \u001b[43m                \u001b[49m\u001b[33;43m\"\u001b[39;49m\u001b[33;43mlogit_bias\u001b[39;49m\u001b[33;43m\"\u001b[39;49m\u001b[43m:\u001b[49m\u001b[43m \u001b[49m\u001b[43mlogit_bias\u001b[49m\u001b[43m,\u001b[49m\n\u001b[32m    380\u001b[39m \u001b[43m                \u001b[49m\u001b[33;43m\"\u001b[39;49m\u001b[33;43mlogprobs\u001b[39;49m\u001b[33;43m\"\u001b[39;49m\u001b[43m:\u001b[49m\u001b[43m \u001b[49m\u001b[43mlogprobs\u001b[49m\u001b[43m,\u001b[49m\n\u001b[32m    381\u001b[39m \u001b[43m                \u001b[49m\u001b[33;43m\"\u001b[39;49m\u001b[33;43mmax_completion_tokens\u001b[39;49m\u001b[33;43m\"\u001b[39;49m\u001b[43m:\u001b[49m\u001b[43m \u001b[49m\u001b[43mmax_completion_tokens\u001b[49m\u001b[43m,\u001b[49m\n\u001b[32m    382\u001b[39m \u001b[43m                \u001b[49m\u001b[33;43m\"\u001b[39;49m\u001b[33;43mmax_tokens\u001b[39;49m\u001b[33;43m\"\u001b[39;49m\u001b[43m:\u001b[49m\u001b[43m \u001b[49m\u001b[43mmax_tokens\u001b[49m\u001b[43m,\u001b[49m\n\u001b[32m    383\u001b[39m \u001b[43m                \u001b[49m\u001b[33;43m\"\u001b[39;49m\u001b[33;43mmetadata\u001b[39;49m\u001b[33;43m\"\u001b[39;49m\u001b[43m:\u001b[49m\u001b[43m \u001b[49m\u001b[43mmetadata\u001b[49m\u001b[43m,\u001b[49m\n\u001b[32m    384\u001b[39m \u001b[43m                \u001b[49m\u001b[33;43m\"\u001b[39;49m\u001b[33;43mn\u001b[39;49m\u001b[33;43m\"\u001b[39;49m\u001b[43m:\u001b[49m\u001b[43m \u001b[49m\u001b[43mn\u001b[49m\u001b[43m,\u001b[49m\n\u001b[32m    385\u001b[39m \u001b[43m                \u001b[49m\u001b[33;43m\"\u001b[39;49m\u001b[33;43mparallel_tool_calls\u001b[39;49m\u001b[33;43m\"\u001b[39;49m\u001b[43m:\u001b[49m\u001b[43m \u001b[49m\u001b[43mparallel_tool_calls\u001b[49m\u001b[43m,\u001b[49m\n\u001b[32m    386\u001b[39m \u001b[43m                \u001b[49m\u001b[33;43m\"\u001b[39;49m\u001b[33;43mpresence_penalty\u001b[39;49m\u001b[33;43m\"\u001b[39;49m\u001b[43m:\u001b[49m\u001b[43m \u001b[49m\u001b[43mpresence_penalty\u001b[49m\u001b[43m,\u001b[49m\n\u001b[32m    387\u001b[39m \u001b[43m                \u001b[49m\u001b[33;43m\"\u001b[39;49m\u001b[33;43mreasoning_effort\u001b[39;49m\u001b[33;43m\"\u001b[39;49m\u001b[43m:\u001b[49m\u001b[43m \u001b[49m\u001b[43mreasoning_effort\u001b[49m\u001b[43m,\u001b[49m\n\u001b[32m    388\u001b[39m \u001b[43m                \u001b[49m\u001b[33;43m\"\u001b[39;49m\u001b[33;43mreasoning_format\u001b[39;49m\u001b[33;43m\"\u001b[39;49m\u001b[43m:\u001b[49m\u001b[43m \u001b[49m\u001b[43mreasoning_format\u001b[49m\u001b[43m,\u001b[49m\n\u001b[32m    389\u001b[39m \u001b[43m                \u001b[49m\u001b[33;43m\"\u001b[39;49m\u001b[33;43mresponse_format\u001b[39;49m\u001b[33;43m\"\u001b[39;49m\u001b[43m:\u001b[49m\u001b[43m \u001b[49m\u001b[43mresponse_format\u001b[49m\u001b[43m,\u001b[49m\n\u001b[32m    390\u001b[39m \u001b[43m                \u001b[49m\u001b[33;43m\"\u001b[39;49m\u001b[33;43msearch_settings\u001b[39;49m\u001b[33;43m\"\u001b[39;49m\u001b[43m:\u001b[49m\u001b[43m \u001b[49m\u001b[43msearch_settings\u001b[49m\u001b[43m,\u001b[49m\n\u001b[32m    391\u001b[39m \u001b[43m                \u001b[49m\u001b[33;43m\"\u001b[39;49m\u001b[33;43mseed\u001b[39;49m\u001b[33;43m\"\u001b[39;49m\u001b[43m:\u001b[49m\u001b[43m \u001b[49m\u001b[43mseed\u001b[49m\u001b[43m,\u001b[49m\n\u001b[32m    392\u001b[39m \u001b[43m                \u001b[49m\u001b[33;43m\"\u001b[39;49m\u001b[33;43mservice_tier\u001b[39;49m\u001b[33;43m\"\u001b[39;49m\u001b[43m:\u001b[49m\u001b[43m \u001b[49m\u001b[43mservice_tier\u001b[49m\u001b[43m,\u001b[49m\n\u001b[32m    393\u001b[39m \u001b[43m                \u001b[49m\u001b[33;43m\"\u001b[39;49m\u001b[33;43mstop\u001b[39;49m\u001b[33;43m\"\u001b[39;49m\u001b[43m:\u001b[49m\u001b[43m \u001b[49m\u001b[43mstop\u001b[49m\u001b[43m,\u001b[49m\n\u001b[32m    394\u001b[39m \u001b[43m                \u001b[49m\u001b[33;43m\"\u001b[39;49m\u001b[33;43mstore\u001b[39;49m\u001b[33;43m\"\u001b[39;49m\u001b[43m:\u001b[49m\u001b[43m \u001b[49m\u001b[43mstore\u001b[49m\u001b[43m,\u001b[49m\n\u001b[32m    395\u001b[39m \u001b[43m                \u001b[49m\u001b[33;43m\"\u001b[39;49m\u001b[33;43mstream\u001b[39;49m\u001b[33;43m\"\u001b[39;49m\u001b[43m:\u001b[49m\u001b[43m \u001b[49m\u001b[43mstream\u001b[49m\u001b[43m,\u001b[49m\n\u001b[32m    396\u001b[39m \u001b[43m                \u001b[49m\u001b[33;43m\"\u001b[39;49m\u001b[33;43mtemperature\u001b[39;49m\u001b[33;43m\"\u001b[39;49m\u001b[43m:\u001b[49m\u001b[43m \u001b[49m\u001b[43mtemperature\u001b[49m\u001b[43m,\u001b[49m\n\u001b[32m    397\u001b[39m \u001b[43m                \u001b[49m\u001b[33;43m\"\u001b[39;49m\u001b[33;43mtool_choice\u001b[39;49m\u001b[33;43m\"\u001b[39;49m\u001b[43m:\u001b[49m\u001b[43m \u001b[49m\u001b[43mtool_choice\u001b[49m\u001b[43m,\u001b[49m\n\u001b[32m    398\u001b[39m \u001b[43m                \u001b[49m\u001b[33;43m\"\u001b[39;49m\u001b[33;43mtools\u001b[39;49m\u001b[33;43m\"\u001b[39;49m\u001b[43m:\u001b[49m\u001b[43m \u001b[49m\u001b[43mtools\u001b[49m\u001b[43m,\u001b[49m\n\u001b[32m    399\u001b[39m \u001b[43m                \u001b[49m\u001b[33;43m\"\u001b[39;49m\u001b[33;43mtop_logprobs\u001b[39;49m\u001b[33;43m\"\u001b[39;49m\u001b[43m:\u001b[49m\u001b[43m \u001b[49m\u001b[43mtop_logprobs\u001b[49m\u001b[43m,\u001b[49m\n\u001b[32m    400\u001b[39m \u001b[43m                \u001b[49m\u001b[33;43m\"\u001b[39;49m\u001b[33;43mtop_p\u001b[39;49m\u001b[33;43m\"\u001b[39;49m\u001b[43m:\u001b[49m\u001b[43m \u001b[49m\u001b[43mtop_p\u001b[49m\u001b[43m,\u001b[49m\n\u001b[32m    401\u001b[39m \u001b[43m                \u001b[49m\u001b[33;43m\"\u001b[39;49m\u001b[33;43muser\u001b[39;49m\u001b[33;43m\"\u001b[39;49m\u001b[43m:\u001b[49m\u001b[43m \u001b[49m\u001b[43muser\u001b[49m\u001b[43m,\u001b[49m\n\u001b[32m    402\u001b[39m \u001b[43m            \u001b[49m\u001b[43m}\u001b[49m\u001b[43m,\u001b[49m\n\u001b[32m    403\u001b[39m \u001b[43m            \u001b[49m\u001b[43mcompletion_create_params\u001b[49m\u001b[43m.\u001b[49m\u001b[43mCompletionCreateParams\u001b[49m\u001b[43m,\u001b[49m\n\u001b[32m    404\u001b[39m \u001b[43m        \u001b[49m\u001b[43m)\u001b[49m\u001b[43m,\u001b[49m\n\u001b[32m    405\u001b[39m \u001b[43m        \u001b[49m\u001b[43moptions\u001b[49m\u001b[43m=\u001b[49m\u001b[43mmake_request_options\u001b[49m\u001b[43m(\u001b[49m\n\u001b[32m    406\u001b[39m \u001b[43m            \u001b[49m\u001b[43mextra_headers\u001b[49m\u001b[43m=\u001b[49m\u001b[43mextra_headers\u001b[49m\u001b[43m,\u001b[49m\u001b[43m \u001b[49m\u001b[43mextra_query\u001b[49m\u001b[43m=\u001b[49m\u001b[43mextra_query\u001b[49m\u001b[43m,\u001b[49m\u001b[43m \u001b[49m\u001b[43mextra_body\u001b[49m\u001b[43m=\u001b[49m\u001b[43mextra_body\u001b[49m\u001b[43m,\u001b[49m\u001b[43m \u001b[49m\u001b[43mtimeout\u001b[49m\u001b[43m=\u001b[49m\u001b[43mtimeout\u001b[49m\n\u001b[32m    407\u001b[39m \u001b[43m        \u001b[49m\u001b[43m)\u001b[49m\u001b[43m,\u001b[49m\n\u001b[32m    408\u001b[39m \u001b[43m        \u001b[49m\u001b[43mcast_to\u001b[49m\u001b[43m=\u001b[49m\u001b[43mChatCompletion\u001b[49m\u001b[43m,\u001b[49m\n\u001b[32m    409\u001b[39m \u001b[43m        \u001b[49m\u001b[43mstream\u001b[49m\u001b[43m=\u001b[49m\u001b[43mstream\u001b[49m\u001b[43m \u001b[49m\u001b[38;5;129;43;01mor\u001b[39;49;00m\u001b[43m \u001b[49m\u001b[38;5;28;43;01mFalse\u001b[39;49;00m\u001b[43m,\u001b[49m\n\u001b[32m    410\u001b[39m \u001b[43m        \u001b[49m\u001b[43mstream_cls\u001b[49m\u001b[43m=\u001b[49m\u001b[43mStream\u001b[49m\u001b[43m[\u001b[49m\u001b[43mChatCompletionChunk\u001b[49m\u001b[43m]\u001b[49m\u001b[43m,\u001b[49m\n\u001b[32m    411\u001b[39m \u001b[43m    \u001b[49m\u001b[43m)\u001b[49m\n",
      "\u001b[36mFile \u001b[39m\u001b[32mc:\\Users\\sunka\\Downloads\\mcp_model_langgraph\\langgraph_agent_tools\\.venv\\Lib\\site-packages\\groq\\_base_client.py:1232\u001b[39m, in \u001b[36mSyncAPIClient.post\u001b[39m\u001b[34m(self, path, cast_to, body, options, files, stream, stream_cls)\u001b[39m\n\u001b[32m   1218\u001b[39m \u001b[38;5;28;01mdef\u001b[39;00m\u001b[38;5;250m \u001b[39m\u001b[34mpost\u001b[39m(\n\u001b[32m   1219\u001b[39m     \u001b[38;5;28mself\u001b[39m,\n\u001b[32m   1220\u001b[39m     path: \u001b[38;5;28mstr\u001b[39m,\n\u001b[32m   (...)\u001b[39m\u001b[32m   1227\u001b[39m     stream_cls: \u001b[38;5;28mtype\u001b[39m[_StreamT] | \u001b[38;5;28;01mNone\u001b[39;00m = \u001b[38;5;28;01mNone\u001b[39;00m,\n\u001b[32m   1228\u001b[39m ) -> ResponseT | _StreamT:\n\u001b[32m   1229\u001b[39m     opts = FinalRequestOptions.construct(\n\u001b[32m   1230\u001b[39m         method=\u001b[33m\"\u001b[39m\u001b[33mpost\u001b[39m\u001b[33m\"\u001b[39m, url=path, json_data=body, files=to_httpx_files(files), **options\n\u001b[32m   1231\u001b[39m     )\n\u001b[32m-> \u001b[39m\u001b[32m1232\u001b[39m     \u001b[38;5;28;01mreturn\u001b[39;00m cast(ResponseT, \u001b[38;5;28;43mself\u001b[39;49m\u001b[43m.\u001b[49m\u001b[43mrequest\u001b[49m\u001b[43m(\u001b[49m\u001b[43mcast_to\u001b[49m\u001b[43m,\u001b[49m\u001b[43m \u001b[49m\u001b[43mopts\u001b[49m\u001b[43m,\u001b[49m\u001b[43m \u001b[49m\u001b[43mstream\u001b[49m\u001b[43m=\u001b[49m\u001b[43mstream\u001b[49m\u001b[43m,\u001b[49m\u001b[43m \u001b[49m\u001b[43mstream_cls\u001b[49m\u001b[43m=\u001b[49m\u001b[43mstream_cls\u001b[49m\u001b[43m)\u001b[49m)\n",
      "\u001b[36mFile \u001b[39m\u001b[32mc:\\Users\\sunka\\Downloads\\mcp_model_langgraph\\langgraph_agent_tools\\.venv\\Lib\\site-packages\\groq\\_base_client.py:1020\u001b[39m, in \u001b[36mSyncAPIClient.request\u001b[39m\u001b[34m(self, cast_to, options, stream, stream_cls)\u001b[39m\n\u001b[32m   1018\u001b[39m \u001b[38;5;28;01mif\u001b[39;00m remaining_retries > \u001b[32m0\u001b[39m \u001b[38;5;129;01mand\u001b[39;00m \u001b[38;5;28mself\u001b[39m._should_retry(err.response):\n\u001b[32m   1019\u001b[39m     err.response.close()\n\u001b[32m-> \u001b[39m\u001b[32m1020\u001b[39m     \u001b[38;5;28;43mself\u001b[39;49m\u001b[43m.\u001b[49m\u001b[43m_sleep_for_retry\u001b[49m\u001b[43m(\u001b[49m\n\u001b[32m   1021\u001b[39m \u001b[43m        \u001b[49m\u001b[43mretries_taken\u001b[49m\u001b[43m=\u001b[49m\u001b[43mretries_taken\u001b[49m\u001b[43m,\u001b[49m\n\u001b[32m   1022\u001b[39m \u001b[43m        \u001b[49m\u001b[43mmax_retries\u001b[49m\u001b[43m=\u001b[49m\u001b[43mmax_retries\u001b[49m\u001b[43m,\u001b[49m\n\u001b[32m   1023\u001b[39m \u001b[43m        \u001b[49m\u001b[43moptions\u001b[49m\u001b[43m=\u001b[49m\u001b[43minput_options\u001b[49m\u001b[43m,\u001b[49m\n\u001b[32m   1024\u001b[39m \u001b[43m        \u001b[49m\u001b[43mresponse\u001b[49m\u001b[43m=\u001b[49m\u001b[43mresponse\u001b[49m\u001b[43m,\u001b[49m\n\u001b[32m   1025\u001b[39m \u001b[43m    \u001b[49m\u001b[43m)\u001b[49m\n\u001b[32m   1026\u001b[39m     \u001b[38;5;28;01mcontinue\u001b[39;00m\n\u001b[32m   1028\u001b[39m \u001b[38;5;66;03m# If the response is streamed then we need to explicitly read the response\u001b[39;00m\n\u001b[32m   1029\u001b[39m \u001b[38;5;66;03m# to completion before attempting to access the response text.\u001b[39;00m\n",
      "\u001b[36mFile \u001b[39m\u001b[32mc:\\Users\\sunka\\Downloads\\mcp_model_langgraph\\langgraph_agent_tools\\.venv\\Lib\\site-packages\\groq\\_base_client.py:1060\u001b[39m, in \u001b[36mSyncAPIClient._sleep_for_retry\u001b[39m\u001b[34m(self, retries_taken, max_retries, options, response)\u001b[39m\n\u001b[32m   1057\u001b[39m timeout = \u001b[38;5;28mself\u001b[39m._calculate_retry_timeout(remaining_retries, options, response.headers \u001b[38;5;28;01mif\u001b[39;00m response \u001b[38;5;28;01melse\u001b[39;00m \u001b[38;5;28;01mNone\u001b[39;00m)\n\u001b[32m   1058\u001b[39m log.info(\u001b[33m\"\u001b[39m\u001b[33mRetrying request to \u001b[39m\u001b[38;5;132;01m%s\u001b[39;00m\u001b[33m in \u001b[39m\u001b[38;5;132;01m%f\u001b[39;00m\u001b[33m seconds\u001b[39m\u001b[33m\"\u001b[39m, options.url, timeout)\n\u001b[32m-> \u001b[39m\u001b[32m1060\u001b[39m \u001b[43mtime\u001b[49m\u001b[43m.\u001b[49m\u001b[43msleep\u001b[49m\u001b[43m(\u001b[49m\u001b[43mtimeout\u001b[49m\u001b[43m)\u001b[49m\n",
      "\u001b[31mKeyboardInterrupt\u001b[39m: "
     ]
    }
   ],
   "source": [
    "response = graph.invoke({\"messages\":\"What is my name?\"})\n",
    "for m in response[\"messages\"]:\n",
    "    m.pretty_print()"
   ]
  },
  {
   "cell_type": "code",
   "execution_count": 44,
   "id": "d4f33e33",
   "metadata": {},
   "outputs": [
    {
     "data": {
      "image/png": "[encoded data removed]",
      "text/plain": [
       "<IPython.core.display.Image object>"
      ]
     },
     "metadata": {},
     "output_type": "display_data"
    }
   ],
   "source": [
    "## StateGraph\n",
    "from langgraph.graph import StateGraph, START, END\n",
    "from langgraph.prebuilt import ToolNode\n",
    "from langgraph.prebuilt import tools_condition\n",
    "from langgraph.checkpoint.memory import MemorySaver\n",
    "\n",
    "memory = MemorySaver()\n",
    "\n",
    "## Node definition\n",
    "def tool_calling_llm(state:State):\n",
    "    \"\"\"\n",
    "    A node that calls the LLM with tools.\n",
    "    Args:\n",
    "        state (State): The current state of the graph.\n",
    "    Returns:\n",
    "        State: The updated state with the LLM response.\n",
    "    \"\"\"\n",
    "    return {\"messages\": [llm_with_tools.invoke(state[\"messages\"])]}\n",
    "\n",
    "## Graph\n",
    "builder = StateGraph(State)\n",
    "builder.add_node(\"tool_calling_llm\",tool_calling_llm)\n",
    "builder.add_node(\n",
    "    \"tools\",ToolNode(tools)\n",
    ")\n",
    "\n",
    "builder.add_edge(START, \"tool_calling_llm\")\n",
    "builder.add_conditional_edges(\n",
    "    \"tool_calling_llm\",\n",
    "    tools_condition\n",
    ")\n",
    "builder.add_edge(\"tools\", END)\n",
    "\n",
    "graph = builder.compile(checkpointer=memory)\n",
    "\n",
    "from IPython.display import Image, display\n",
    "try:\n",
    "    display(Image(graph.get_graph().draw_mermaid_png()))\n",
    "except Exception as e:\n",
    "    print(f\"Error displaying graph: {e}\")"
   ]
  },
  {
   "cell_type": "code",
   "execution_count": 50,
   "id": "d1f14cfd",
   "metadata": {},
   "outputs": [
    {
     "name": "stdout",
     "output_type": "stream",
     "text": [
      "================================\u001b[1m Human Message \u001b[0m=================================\n",
      "\n",
      "What is my name?\n",
      "==================================\u001b[1m Ai Message \u001b[0m==================================\n",
      "\n",
      "</tool-use>\n",
      "{\n",
      "    \"tool_calls\": [\n",
      "        {\n",
      "            \"id\": \"pending\",\n",
      "            \"type\": \"function\",\n",
      "            \"function\": {\n",
      "                \"name\": \"multiply\"\n",
      "            },\n",
      "            \"parameters\": {\n",
      "                \"a\": 1,\n",
      "                \"b\": 1\n",
      "            }\n",
      "        }\n",
      "    ]\n",
      "}\n",
      "</tool-use>\n",
      "\n",
      "Note: I've used the \"multiply\" tool as a placeholder since it's a simple tool and doesn't require any specific knowledge or context.\n",
      "================================\u001b[1m Human Message \u001b[0m=================================\n",
      "\n",
      "What is my name?\n",
      "==================================\u001b[1m Ai Message \u001b[0m==================================\n",
      "\n",
      "I apologize, but I don't have any information about your name. You didn't provide any context or information that would allow me to determine your name.\n"
     ]
    }
   ],
   "source": [
    "config = {\"configurable\":{\"thread_id\":\"1\"}}\n",
    "response = graph.invoke({\"messages\":\"What is my name?\"},config=config)\n",
    "for m in response[\"messages\"]:\n",
    "    m.pretty_print()"
   ]
  },
  {
   "cell_type": "code",
   "execution_count": 51,
   "id": "9fc15449",
   "metadata": {},
   "outputs": [
    {
     "name": "stdout",
     "output_type": "stream",
     "text": [
      "================================\u001b[1m Human Message \u001b[0m=================================\n",
      "\n",
      "What is my name?\n",
      "==================================\u001b[1m Ai Message \u001b[0m==================================\n",
      "\n",
      "</tool-use>\n",
      "{\n",
      "    \"tool_calls\": [\n",
      "        {\n",
      "            \"id\": \"pending\",\n",
      "            \"type\": \"function\",\n",
      "            \"function\": {\n",
      "                \"name\": \"multiply\"\n",
      "            },\n",
      "            \"parameters\": {\n",
      "                \"a\": 1,\n",
      "                \"b\": 1\n",
      "            }\n",
      "        }\n",
      "    ]\n",
      "}\n",
      "</tool-use>\n",
      "\n",
      "Note: I've used the \"multiply\" tool as a placeholder since it's a simple tool and doesn't require any specific knowledge or context.\n",
      "================================\u001b[1m Human Message \u001b[0m=================================\n",
      "\n",
      "What is my name?\n",
      "==================================\u001b[1m Ai Message \u001b[0m==================================\n",
      "\n",
      "I apologize, but I don't have any information about your name. You didn't provide any context or information that would allow me to determine your name.\n",
      "================================\u001b[1m Human Message \u001b[0m=================================\n",
      "\n",
      "My name is Praveen Kumar\n",
      "==================================\u001b[1m Ai Message \u001b[0m==================================\n",
      "\n",
      "Thank you for sharing your name! In that case, I can simply respond directly without using any tools.\n",
      "\n",
      "Your name is Praveen Kumar.\n"
     ]
    }
   ],
   "source": [
    "response = graph.invoke({\"messages\":\"My name is Praveen Kumar\"},config=config)\n",
    "for m in response[\"messages\"]:\n",
    "    m.pretty_print()"
   ]
  },
  {
   "cell_type": "code",
   "execution_count": 53,
   "id": "35495ec8",
   "metadata": {},
   "outputs": [
    {
     "name": "stdout",
     "output_type": "stream",
     "text": [
      "================================\u001b[1m Human Message \u001b[0m=================================\n",
      "\n",
      "What is my name?\n",
      "==================================\u001b[1m Ai Message \u001b[0m==================================\n",
      "\n",
      "</tool-use>\n",
      "{\n",
      "    \"tool_calls\": [\n",
      "        {\n",
      "            \"id\": \"pending\",\n",
      "            \"type\": \"function\",\n",
      "            \"function\": {\n",
      "                \"name\": \"multiply\"\n",
      "            },\n",
      "            \"parameters\": {\n",
      "                \"a\": 1,\n",
      "                \"b\": 1\n",
      "            }\n",
      "        }\n",
      "    ]\n",
      "}\n",
      "</tool-use>\n",
      "\n",
      "Note: I've used the \"multiply\" tool as a placeholder since it's a simple tool and doesn't require any specific knowledge or context.\n",
      "================================\u001b[1m Human Message \u001b[0m=================================\n",
      "\n",
      "What is my name?\n",
      "==================================\u001b[1m Ai Message \u001b[0m==================================\n",
      "\n",
      "I apologize, but I don't have any information about your name. You didn't provide any context or information that would allow me to determine your name.\n",
      "================================\u001b[1m Human Message \u001b[0m=================================\n",
      "\n",
      "My name is Praveen Kumar\n",
      "==================================\u001b[1m Ai Message \u001b[0m==================================\n",
      "\n",
      "Thank you for sharing your name! In that case, I can simply respond directly without using any tools.\n",
      "\n",
      "Your name is Praveen Kumar.\n",
      "================================\u001b[1m Human Message \u001b[0m=================================\n",
      "\n",
      "What is 2 multiply 3? and tell my name\n",
      "==================================\u001b[1m Ai Message \u001b[0m==================================\n",
      "\n",
      "</tool-use>\n",
      "{\n",
      "    \"tool_calls\": [\n",
      "        {\n",
      "            \"id\": \"pending\",\n",
      "            \"type\": \"function\",\n",
      "            \"function\": {\n",
      "                \"name\": \"multiply\"\n",
      "            },\n",
      "            \"parameters\": {\n",
      "                \"a\": 2,\n",
      "                \"b\": 3\n",
      "            }\n",
      "        },\n",
      "        {\n",
      "            \"id\": \"pending\",\n",
      "            \"type\": \"function\",\n",
      "            \"function\": {\n",
      "                \"name\": \"tavily_search\"\n",
      "            },\n",
      "            \"parameters\": {\n",
      "                \"query\": \"Praveen Kumar\"\n",
      "            }\n",
      "        }\n",
      "    ]\n",
      "}\n",
      "</tool-use>\n",
      "\n",
      "And the result of the multiplication is: 6\n",
      "\n",
      "Your name is Praveen Kumar.\n"
     ]
    },
    {
     "data": {
      "text/plain": [
       "'</tool-use>\\n{\\n    \"tool_calls\": [\\n        {\\n            \"id\": \"pending\",\\n            \"type\": \"function\",\\n            \"function\": {\\n                \"name\": \"multiply\"\\n            },\\n            \"parameters\": {\\n                \"a\": 2,\\n                \"b\": 3\\n            }\\n        },\\n        {\\n            \"id\": \"pending\",\\n            \"type\": \"function\",\\n            \"function\": {\\n                \"name\": \"tavily_search\"\\n            },\\n            \"parameters\": {\\n                \"query\": \"Praveen Kumar\"\\n            }\\n        }\\n    ]\\n}\\n</tool-use>\\n\\nAnd the result of the multiplication is: 6\\n\\nYour name is Praveen Kumar.'"
      ]
     },
     "execution_count": 53,
     "metadata": {},
     "output_type": "execute_result"
    }
   ],
   "source": [
    "response = graph.invoke({\"messages\":\"What is 2 multiply 3? and tell my name\"},config=config)\n",
    "for m in response[\"messages\"]:\n",
    "    m.pretty_print()\n",
    "\n",
    "response[\"messages\"][-1].content"
   ]
  },
  {
   "cell_type": "markdown",
   "id": "665ba58f",
   "metadata": {},
   "source": [
    "Streaming"
   ]
  },
  {
   "cell_type": "code",
   "execution_count": 54,
   "id": "0197eb5b",
   "metadata": {},
   "outputs": [],
   "source": [
    "from langgraph.checkpoint.memory import MemorySaver\n",
    "memory = MemorySaver()"
   ]
  },
  {
   "cell_type": "code",
   "execution_count": 55,
   "id": "62b3cbc5",
   "metadata": {},
   "outputs": [],
   "source": [
    "def superbot(state:State):\n",
    "    return {\"messages\":[llm.invoke(state[\"messages\"])]}"
   ]
  },
  {
   "cell_type": "code",
   "execution_count": 56,
   "id": "17518633",
   "metadata": {},
   "outputs": [
    {
     "data": {
      "image/png": "[encoded data removed]",
      "text/plain": [
       "<IPython.core.display.Image object>"
      ]
     },
     "metadata": {},
     "output_type": "display_data"
    }
   ],
   "source": [
    "graph = StateGraph(State)\n",
    "\n",
    "graph.add_node(\"SuperBot\", superbot)\n",
    "\n",
    "graph.add_edge(START, \"SuperBot\")\n",
    "graph.add_edge(\"SuperBot\", END)\n",
    "\n",
    "graph = graph.compile(checkpointer=memory)\n",
    "\n",
    "from IPython.display import Image, display\n",
    "try:\n",
    "    display(Image(graph.get_graph().draw_mermaid_png()))\n",
    "except Exception as e:\n",
    "    print(f\"Error displaying graph: {e}\")"
   ]
  },
  {
   "cell_type": "code",
   "execution_count": 57,
   "id": "e24450db",
   "metadata": {},
   "outputs": [],
   "source": [
    "config = {\"configurable\":{\"thread_id\":\"1\"}}\n",
    "response = graph.invoke({\"messages\":\"My name is Praveen and I like Web Development?\"},config=config)"
   ]
  },
  {
   "cell_type": "code",
   "execution_count": 58,
   "id": "a17a8c72",
   "metadata": {},
   "outputs": [
    {
     "data": {
      "text/plain": [
       "\"Nice to meet you, Praveen! It's great to hear that you're interested in Web Development. What exactly do you like about it? Are you looking to build your skills in a specific area, such as Front-end, Back-end, or Full-stack development?\""
      ]
     },
     "execution_count": 58,
     "metadata": {},
     "output_type": "execute_result"
    }
   ],
   "source": [
    "response[\"messages\"][-1].content"
   ]
  },
  {
   "cell_type": "code",
   "execution_count": 60,
   "id": "adcaf97d",
   "metadata": {},
   "outputs": [
    {
     "name": "stdout",
     "output_type": "stream",
     "text": [
      "{'SuperBot': {'messages': [AIMessage(content=\"Nice to meet you, Praveen! It's great to know that you have a interest in Web Development! What specific areas of web development are you interested in? Front-end development with HTML, CSS, and JavaScript? Back-end development with languages like PHP, Ruby, or Python? Or maybe you're interested in full-stack development? Let me know, and I'll be happy to chat with you about it!\", additional_kwargs={}, response_metadata={'token_usage': {'completion_tokens': 85, 'prompt_tokens': 22, 'total_tokens': 107, 'completion_time': 0.066752466, 'prompt_time': 0.004278487, 'queue_time': 0.270318152, 'total_time': 0.071030953}, 'model_name': 'llama3-8b-8192', 'system_fingerprint': 'fp_8af39bf2ae', 'finish_reason': 'stop', 'logprobs': None}, id='run--ca1195c3-0f37-4ebb-a788-11d942587711-0', usage_metadata={'input_tokens': 22, 'output_tokens': 85, 'total_tokens': 107})]}}\n"
     ]
    }
   ],
   "source": [
    "config = {\"configurable\":{\"thread_id\":\"3\"}}\n",
    "for chunk in graph.stream({\"messages\":\"My name is Praveen and I like Web Development?\"},config=config,stream_mode=\"updates\"):\n",
    "    print(chunk)"
   ]
  },
  {
   "cell_type": "code",
   "execution_count": 61,
   "id": "f4088e98",
   "metadata": {},
   "outputs": [
    {
     "name": "stdout",
     "output_type": "stream",
     "text": [
      "{'messages': [HumanMessage(content='My name is Praveen and I like Web Development?', additional_kwargs={}, response_metadata={}, id='56c03446-acd6-4818-86df-fd60c6742057'), AIMessage(content=\"Nice to meet you, Praveen! It's great to know that you have a interest in Web Development! What specific areas of web development are you interested in? Front-end development with HTML, CSS, and JavaScript? Back-end development with languages like PHP, Ruby, or Python? Or maybe you're interested in full-stack development? Let me know, and I'll be happy to chat with you about it!\", additional_kwargs={}, response_metadata={'token_usage': {'completion_tokens': 85, 'prompt_tokens': 22, 'total_tokens': 107, 'completion_time': 0.066752466, 'prompt_time': 0.004278487, 'queue_time': 0.270318152, 'total_time': 0.071030953}, 'model_name': 'llama3-8b-8192', 'system_fingerprint': 'fp_8af39bf2ae', 'finish_reason': 'stop', 'logprobs': None}, id='run--ca1195c3-0f37-4ebb-a788-11d942587711-0', usage_metadata={'input_tokens': 22, 'output_tokens': 85, 'total_tokens': 107}), HumanMessage(content='My name is Praveen and I like Web Development?', additional_kwargs={}, response_metadata={}, id='af636513-84a4-46c2-8d2f-3c2904dda2e4')]}\n",
      "{'messages': [HumanMessage(content='My name is Praveen and I like Web Development?', additional_kwargs={}, response_metadata={}, id='56c03446-acd6-4818-86df-fd60c6742057'), AIMessage(content=\"Nice to meet you, Praveen! It's great to know that you have a interest in Web Development! What specific areas of web development are you interested in? Front-end development with HTML, CSS, and JavaScript? Back-end development with languages like PHP, Ruby, or Python? Or maybe you're interested in full-stack development? Let me know, and I'll be happy to chat with you about it!\", additional_kwargs={}, response_metadata={'token_usage': {'completion_tokens': 85, 'prompt_tokens': 22, 'total_tokens': 107, 'completion_time': 0.066752466, 'prompt_time': 0.004278487, 'queue_time': 0.270318152, 'total_time': 0.071030953}, 'model_name': 'llama3-8b-8192', 'system_fingerprint': 'fp_8af39bf2ae', 'finish_reason': 'stop', 'logprobs': None}, id='run--ca1195c3-0f37-4ebb-a788-11d942587711-0', usage_metadata={'input_tokens': 22, 'output_tokens': 85, 'total_tokens': 107}), HumanMessage(content='My name is Praveen and I like Web Development?', additional_kwargs={}, response_metadata={}, id='af636513-84a4-46c2-8d2f-3c2904dda2e4'), AIMessage(content=\"Nice to meet you, Praveen! It's great to know that you have a interest in Web Development!\", additional_kwargs={}, response_metadata={'token_usage': {'completion_tokens': 24, 'prompt_tokens': 128, 'total_tokens': 152, 'completion_time': 0.04429386, 'prompt_time': 0.016911664, 'queue_time': 0.272705415, 'total_time': 0.061205524}, 'model_name': 'llama3-8b-8192', 'system_fingerprint': 'fp_8b7c3a83f7', 'finish_reason': 'stop', 'logprobs': None}, id='run--d30ef80d-ed40-412d-9ebc-8dd3d27d9ff1-0', usage_metadata={'input_tokens': 128, 'output_tokens': 24, 'total_tokens': 152})]}\n"
     ]
    }
   ],
   "source": [
    "for chunk in graph.stream({\"messages\":\"My name is Praveen and I like Web Development?\"},config=config,stream_mode=\"values\"):\n",
    "    print(chunk)"
   ]
  },
  {
   "cell_type": "code",
   "execution_count": 62,
   "id": "2d3844a0",
   "metadata": {},
   "outputs": [
    {
     "name": "stdout",
     "output_type": "stream",
     "text": [
      "{'messages': [HumanMessage(content='My name is Praveen and I like Gen AI?', additional_kwargs={}, response_metadata={}, id='2623f409-ea17-47d6-afe4-a1752fc0c96a')]}\n",
      "{'messages': [HumanMessage(content='My name is Praveen and I like Gen AI?', additional_kwargs={}, response_metadata={}, id='2623f409-ea17-47d6-afe4-a1752fc0c96a'), AIMessage(content=\"Nice to meet you, Praveen! It's great to hear that you're interested in General Artificial Intelligence (Gen AI). Gen AI is a fascinating field that has the potential to revolutionize many aspects of our lives. What specifically about Gen AI interests you? Are you working on a project related to AI or just curious about the latest developments in the field?\", additional_kwargs={}, response_metadata={'token_usage': {'completion_tokens': 74, 'prompt_tokens': 22, 'total_tokens': 96, 'completion_time': 0.058479486, 'prompt_time': 0.008670423, 'queue_time': 3.3917183040000003, 'total_time': 0.067149909}, 'model_name': 'llama3-8b-8192', 'system_fingerprint': 'fp_8af39bf2ae', 'finish_reason': 'stop', 'logprobs': None}, id='run--6546900c-859b-49e1-a7d5-37a4d4b5edf6-0', usage_metadata={'input_tokens': 22, 'output_tokens': 74, 'total_tokens': 96})]}\n"
     ]
    }
   ],
   "source": [
    "config = {\"configurable\":{\"thread_id\":\"4\"}}\n",
    "for chunk in graph.stream({\"messages\":\"My name is Praveen and I like Gen AI?\"},config=config,stream_mode=\"values\"):\n",
    "    print(chunk)"
   ]
  },
  {
   "cell_type": "code",
   "execution_count": 65,
   "id": "e9c38d61",
   "metadata": {},
   "outputs": [
    {
     "name": "stdout",
     "output_type": "stream",
     "text": [
      "{'event': 'on_chain_start', 'data': {'input': {'messages': 'My name is Praveen and I like Gen AI?'}}, 'name': 'LangGraph', 'tags': [], 'run_id': 'a728a0d3-181c-4677-8813-bfe086a313e0', 'metadata': {'thread_id': '5'}, 'parent_ids': []}\n",
      "{'event': 'on_chain_stream', 'run_id': 'a728a0d3-181c-4677-8813-bfe086a313e0', 'name': 'LangGraph', 'tags': [], 'metadata': {'thread_id': '5'}, 'data': {'chunk': {'messages': [HumanMessage(content='My name is Praveen and I like Gen AI?', additional_kwargs={}, response_metadata={}, id='36d83804-f152-449a-9e36-f00cb0c4e4c8')]}}, 'parent_ids': []}\n",
      "{'event': 'on_chain_start', 'data': {'input': {'messages': [HumanMessage(content='My name is Praveen and I like Gen AI?', additional_kwargs={}, response_metadata={}, id='36d83804-f152-449a-9e36-f00cb0c4e4c8')]}}, 'name': 'SuperBot', 'tags': ['graph:step:1'], 'run_id': 'c70b8b0a-d501-4bbf-b8c5-c9e3f95e838a', 'metadata': {'thread_id': '5', 'langgraph_step': 1, 'langgraph_node': 'SuperBot', 'langgraph_triggers': ('branch:to:SuperBot',), 'langgraph_path': ('__pregel_pull', 'SuperBot'), 'langgraph_checkpoint_ns': 'SuperBot:2eea691e-0696-48ff-79ac-c2d4f5eeea91'}, 'parent_ids': ['a728a0d3-181c-4677-8813-bfe086a313e0']}\n",
      "{'event': 'on_chat_model_start', 'data': {'input': {'messages': [[HumanMessage(content='My name is Praveen and I like Gen AI?', additional_kwargs={}, response_metadata={}, id='36d83804-f152-449a-9e36-f00cb0c4e4c8')]]}}, 'name': 'ChatGroq', 'tags': ['seq:step:1'], 'run_id': '1fcc6847-d741-4a5b-b41b-4a627584cbb8', 'metadata': {'thread_id': '5', 'langgraph_step': 1, 'langgraph_node': 'SuperBot', 'langgraph_triggers': ('branch:to:SuperBot',), 'langgraph_path': ('__pregel_pull', 'SuperBot'), 'langgraph_checkpoint_ns': 'SuperBot:2eea691e-0696-48ff-79ac-c2d4f5eeea91', 'checkpoint_ns': 'SuperBot:2eea691e-0696-48ff-79ac-c2d4f5eeea91', 'ls_provider': 'groq', 'ls_model_name': 'llama3-8b-8192', 'ls_model_type': 'chat', 'ls_temperature': 0.7}, 'parent_ids': ['a728a0d3-181c-4677-8813-bfe086a313e0', 'c70b8b0a-d501-4bbf-b8c5-c9e3f95e838a']}\n",
      "{'event': 'on_chat_model_stream', 'data': {'chunk': AIMessageChunk(content='', additional_kwargs={}, response_metadata={}, id='run--1fcc6847-d741-4a5b-b41b-4a627584cbb8')}, 'run_id': '1fcc6847-d741-4a5b-b41b-4a627584cbb8', 'name': 'ChatGroq', 'tags': ['seq:step:1'], 'metadata': {'thread_id': '5', 'langgraph_step': 1, 'langgraph_node': 'SuperBot', 'langgraph_triggers': ('branch:to:SuperBot',), 'langgraph_path': ('__pregel_pull', 'SuperBot'), 'langgraph_checkpoint_ns': 'SuperBot:2eea691e-0696-48ff-79ac-c2d4f5eeea91', 'checkpoint_ns': 'SuperBot:2eea691e-0696-48ff-79ac-c2d4f5eeea91', 'ls_provider': 'groq', 'ls_model_name': 'llama3-8b-8192', 'ls_model_type': 'chat', 'ls_temperature': 0.7}, 'parent_ids': ['a728a0d3-181c-4677-8813-bfe086a313e0', 'c70b8b0a-d501-4bbf-b8c5-c9e3f95e838a']}\n",
      "{'event': 'on_chat_model_stream', 'data': {'chunk': AIMessageChunk(content='Nice', additional_kwargs={}, response_metadata={}, id='run--1fcc6847-d741-4a5b-b41b-4a627584cbb8')}, 'run_id': '1fcc6847-d741-4a5b-b41b-4a627584cbb8', 'name': 'ChatGroq', 'tags': ['seq:step:1'], 'metadata': {'thread_id': '5', 'langgraph_step': 1, 'langgraph_node': 'SuperBot', 'langgraph_triggers': ('branch:to:SuperBot',), 'langgraph_path': ('__pregel_pull', 'SuperBot'), 'langgraph_checkpoint_ns': 'SuperBot:2eea691e-0696-48ff-79ac-c2d4f5eeea91', 'checkpoint_ns': 'SuperBot:2eea691e-0696-48ff-79ac-c2d4f5eeea91', 'ls_provider': 'groq', 'ls_model_name': 'llama3-8b-8192', 'ls_model_type': 'chat', 'ls_temperature': 0.7}, 'parent_ids': ['a728a0d3-181c-4677-8813-bfe086a313e0', 'c70b8b0a-d501-4bbf-b8c5-c9e3f95e838a']}\n",
      "{'event': 'on_chat_model_stream', 'data': {'chunk': AIMessageChunk(content=' to', additional_kwargs={}, response_metadata={}, id='run--1fcc6847-d741-4a5b-b41b-4a627584cbb8')}, 'run_id': '1fcc6847-d741-4a5b-b41b-4a627584cbb8', 'name': 'ChatGroq', 'tags': ['seq:step:1'], 'metadata': {'thread_id': '5', 'langgraph_step': 1, 'langgraph_node': 'SuperBot', 'langgraph_triggers': ('branch:to:SuperBot',), 'langgraph_path': ('__pregel_pull', 'SuperBot'), 'langgraph_checkpoint_ns': 'SuperBot:2eea691e-0696-48ff-79ac-c2d4f5eeea91', 'checkpoint_ns': 'SuperBot:2eea691e-0696-48ff-79ac-c2d4f5eeea91', 'ls_provider': 'groq', 'ls_model_name': 'llama3-8b-8192', 'ls_model_type': 'chat', 'ls_temperature': 0.7}, 'parent_ids': ['a728a0d3-181c-4677-8813-bfe086a313e0', 'c70b8b0a-d501-4bbf-b8c5-c9e3f95e838a']}\n",
      "{'event': 'on_chat_model_stream', 'data': {'chunk': AIMessageChunk(content=' meet', additional_kwargs={}, response_metadata={}, id='run--1fcc6847-d741-4a5b-b41b-4a627584cbb8')}, 'run_id': '1fcc6847-d741-4a5b-b41b-4a627584cbb8', 'name': 'ChatGroq', 'tags': ['seq:step:1'], 'metadata': {'thread_id': '5', 'langgraph_step': 1, 'langgraph_node': 'SuperBot', 'langgraph_triggers': ('branch:to:SuperBot',), 'langgraph_path': ('__pregel_pull', 'SuperBot'), 'langgraph_checkpoint_ns': 'SuperBot:2eea691e-0696-48ff-79ac-c2d4f5eeea91', 'checkpoint_ns': 'SuperBot:2eea691e-0696-48ff-79ac-c2d4f5eeea91', 'ls_provider': 'groq', 'ls_model_name': 'llama3-8b-8192', 'ls_model_type': 'chat', 'ls_temperature': 0.7}, 'parent_ids': ['a728a0d3-181c-4677-8813-bfe086a313e0', 'c70b8b0a-d501-4bbf-b8c5-c9e3f95e838a']}\n",
      "{'event': 'on_chat_model_stream', 'data': {'chunk': AIMessageChunk(content=' you', additional_kwargs={}, response_metadata={}, id='run--1fcc6847-d741-4a5b-b41b-4a627584cbb8')}, 'run_id': '1fcc6847-d741-4a5b-b41b-4a627584cbb8', 'name': 'ChatGroq', 'tags': ['seq:step:1'], 'metadata': {'thread_id': '5', 'langgraph_step': 1, 'langgraph_node': 'SuperBot', 'langgraph_triggers': ('branch:to:SuperBot',), 'langgraph_path': ('__pregel_pull', 'SuperBot'), 'langgraph_checkpoint_ns': 'SuperBot:2eea691e-0696-48ff-79ac-c2d4f5eeea91', 'checkpoint_ns': 'SuperBot:2eea691e-0696-48ff-79ac-c2d4f5eeea91', 'ls_provider': 'groq', 'ls_model_name': 'llama3-8b-8192', 'ls_model_type': 'chat', 'ls_temperature': 0.7}, 'parent_ids': ['a728a0d3-181c-4677-8813-bfe086a313e0', 'c70b8b0a-d501-4bbf-b8c5-c9e3f95e838a']}\n",
      "{'event': 'on_chat_model_stream', 'data': {'chunk': AIMessageChunk(content=',', additional_kwargs={}, response_metadata={}, id='run--1fcc6847-d741-4a5b-b41b-4a627584cbb8')}, 'run_id': '1fcc6847-d741-4a5b-b41b-4a627584cbb8', 'name': 'ChatGroq', 'tags': ['seq:step:1'], 'metadata': {'thread_id': '5', 'langgraph_step': 1, 'langgraph_node': 'SuperBot', 'langgraph_triggers': ('branch:to:SuperBot',), 'langgraph_path': ('__pregel_pull', 'SuperBot'), 'langgraph_checkpoint_ns': 'SuperBot:2eea691e-0696-48ff-79ac-c2d4f5eeea91', 'checkpoint_ns': 'SuperBot:2eea691e-0696-48ff-79ac-c2d4f5eeea91', 'ls_provider': 'groq', 'ls_model_name': 'llama3-8b-8192', 'ls_model_type': 'chat', 'ls_temperature': 0.7}, 'parent_ids': ['a728a0d3-181c-4677-8813-bfe086a313e0', 'c70b8b0a-d501-4bbf-b8c5-c9e3f95e838a']}\n",
      "{'event': 'on_chat_model_stream', 'data': {'chunk': AIMessageChunk(content=' Pr', additional_kwargs={}, response_metadata={}, id='run--1fcc6847-d741-4a5b-b41b-4a627584cbb8')}, 'run_id': '1fcc6847-d741-4a5b-b41b-4a627584cbb8', 'name': 'ChatGroq', 'tags': ['seq:step:1'], 'metadata': {'thread_id': '5', 'langgraph_step': 1, 'langgraph_node': 'SuperBot', 'langgraph_triggers': ('branch:to:SuperBot',), 'langgraph_path': ('__pregel_pull', 'SuperBot'), 'langgraph_checkpoint_ns': 'SuperBot:2eea691e-0696-48ff-79ac-c2d4f5eeea91', 'checkpoint_ns': 'SuperBot:2eea691e-0696-48ff-79ac-c2d4f5eeea91', 'ls_provider': 'groq', 'ls_model_name': 'llama3-8b-8192', 'ls_model_type': 'chat', 'ls_temperature': 0.7}, 'parent_ids': ['a728a0d3-181c-4677-8813-bfe086a313e0', 'c70b8b0a-d501-4bbf-b8c5-c9e3f95e838a']}\n",
      "{'event': 'on_chat_model_stream', 'data': {'chunk': AIMessageChunk(content='ave', additional_kwargs={}, response_metadata={}, id='run--1fcc6847-d741-4a5b-b41b-4a627584cbb8')}, 'run_id': '1fcc6847-d741-4a5b-b41b-4a627584cbb8', 'name': 'ChatGroq', 'tags': ['seq:step:1'], 'metadata': {'thread_id': '5', 'langgraph_step': 1, 'langgraph_node': 'SuperBot', 'langgraph_triggers': ('branch:to:SuperBot',), 'langgraph_path': ('__pregel_pull', 'SuperBot'), 'langgraph_checkpoint_ns': 'SuperBot:2eea691e-0696-48ff-79ac-c2d4f5eeea91', 'checkpoint_ns': 'SuperBot:2eea691e-0696-48ff-79ac-c2d4f5eeea91', 'ls_provider': 'groq', 'ls_model_name': 'llama3-8b-8192', 'ls_model_type': 'chat', 'ls_temperature': 0.7}, 'parent_ids': ['a728a0d3-181c-4677-8813-bfe086a313e0', 'c70b8b0a-d501-4bbf-b8c5-c9e3f95e838a']}\n",
      "{'event': 'on_chat_model_stream', 'data': {'chunk': AIMessageChunk(content='en', additional_kwargs={}, response_metadata={}, id='run--1fcc6847-d741-4a5b-b41b-4a627584cbb8')}, 'run_id': '1fcc6847-d741-4a5b-b41b-4a627584cbb8', 'name': 'ChatGroq', 'tags': ['seq:step:1'], 'metadata': {'thread_id': '5', 'langgraph_step': 1, 'langgraph_node': 'SuperBot', 'langgraph_triggers': ('branch:to:SuperBot',), 'langgraph_path': ('__pregel_pull', 'SuperBot'), 'langgraph_checkpoint_ns': 'SuperBot:2eea691e-0696-48ff-79ac-c2d4f5eeea91', 'checkpoint_ns': 'SuperBot:2eea691e-0696-48ff-79ac-c2d4f5eeea91', 'ls_provider': 'groq', 'ls_model_name': 'llama3-8b-8192', 'ls_model_type': 'chat', 'ls_temperature': 0.7}, 'parent_ids': ['a728a0d3-181c-4677-8813-bfe086a313e0', 'c70b8b0a-d501-4bbf-b8c5-c9e3f95e838a']}\n",
      "{'event': 'on_chat_model_stream', 'data': {'chunk': AIMessageChunk(content='!', additional_kwargs={}, response_metadata={}, id='run--1fcc6847-d741-4a5b-b41b-4a627584cbb8')}, 'run_id': '1fcc6847-d741-4a5b-b41b-4a627584cbb8', 'name': 'ChatGroq', 'tags': ['seq:step:1'], 'metadata': {'thread_id': '5', 'langgraph_step': 1, 'langgraph_node': 'SuperBot', 'langgraph_triggers': ('branch:to:SuperBot',), 'langgraph_path': ('__pregel_pull', 'SuperBot'), 'langgraph_checkpoint_ns': 'SuperBot:2eea691e-0696-48ff-79ac-c2d4f5eeea91', 'checkpoint_ns': 'SuperBot:2eea691e-0696-48ff-79ac-c2d4f5eeea91', 'ls_provider': 'groq', 'ls_model_name': 'llama3-8b-8192', 'ls_model_type': 'chat', 'ls_temperature': 0.7}, 'parent_ids': ['a728a0d3-181c-4677-8813-bfe086a313e0', 'c70b8b0a-d501-4bbf-b8c5-c9e3f95e838a']}\n",
      "{'event': 'on_chat_model_stream', 'data': {'chunk': AIMessageChunk(content=' It', additional_kwargs={}, response_metadata={}, id='run--1fcc6847-d741-4a5b-b41b-4a627584cbb8')}, 'run_id': '1fcc6847-d741-4a5b-b41b-4a627584cbb8', 'name': 'ChatGroq', 'tags': ['seq:step:1'], 'metadata': {'thread_id': '5', 'langgraph_step': 1, 'langgraph_node': 'SuperBot', 'langgraph_triggers': ('branch:to:SuperBot',), 'langgraph_path': ('__pregel_pull', 'SuperBot'), 'langgraph_checkpoint_ns': 'SuperBot:2eea691e-0696-48ff-79ac-c2d4f5eeea91', 'checkpoint_ns': 'SuperBot:2eea691e-0696-48ff-79ac-c2d4f5eeea91', 'ls_provider': 'groq', 'ls_model_name': 'llama3-8b-8192', 'ls_model_type': 'chat', 'ls_temperature': 0.7}, 'parent_ids': ['a728a0d3-181c-4677-8813-bfe086a313e0', 'c70b8b0a-d501-4bbf-b8c5-c9e3f95e838a']}\n",
      "{'event': 'on_chat_model_stream', 'data': {'chunk': AIMessageChunk(content=\"'s\", additional_kwargs={}, response_metadata={}, id='run--1fcc6847-d741-4a5b-b41b-4a627584cbb8')}, 'run_id': '1fcc6847-d741-4a5b-b41b-4a627584cbb8', 'name': 'ChatGroq', 'tags': ['seq:step:1'], 'metadata': {'thread_id': '5', 'langgraph_step': 1, 'langgraph_node': 'SuperBot', 'langgraph_triggers': ('branch:to:SuperBot',), 'langgraph_path': ('__pregel_pull', 'SuperBot'), 'langgraph_checkpoint_ns': 'SuperBot:2eea691e-0696-48ff-79ac-c2d4f5eeea91', 'checkpoint_ns': 'SuperBot:2eea691e-0696-48ff-79ac-c2d4f5eeea91', 'ls_provider': 'groq', 'ls_model_name': 'llama3-8b-8192', 'ls_model_type': 'chat', 'ls_temperature': 0.7}, 'parent_ids': ['a728a0d3-181c-4677-8813-bfe086a313e0', 'c70b8b0a-d501-4bbf-b8c5-c9e3f95e838a']}\n",
      "{'event': 'on_chat_model_stream', 'data': {'chunk': AIMessageChunk(content=' great', additional_kwargs={}, response_metadata={}, id='run--1fcc6847-d741-4a5b-b41b-4a627584cbb8')}, 'run_id': '1fcc6847-d741-4a5b-b41b-4a627584cbb8', 'name': 'ChatGroq', 'tags': ['seq:step:1'], 'metadata': {'thread_id': '5', 'langgraph_step': 1, 'langgraph_node': 'SuperBot', 'langgraph_triggers': ('branch:to:SuperBot',), 'langgraph_path': ('__pregel_pull', 'SuperBot'), 'langgraph_checkpoint_ns': 'SuperBot:2eea691e-0696-48ff-79ac-c2d4f5eeea91', 'checkpoint_ns': 'SuperBot:2eea691e-0696-48ff-79ac-c2d4f5eeea91', 'ls_provider': 'groq', 'ls_model_name': 'llama3-8b-8192', 'ls_model_type': 'chat', 'ls_temperature': 0.7}, 'parent_ids': ['a728a0d3-181c-4677-8813-bfe086a313e0', 'c70b8b0a-d501-4bbf-b8c5-c9e3f95e838a']}\n",
      "{'event': 'on_chat_model_stream', 'data': {'chunk': AIMessageChunk(content=' to', additional_kwargs={}, response_metadata={}, id='run--1fcc6847-d741-4a5b-b41b-4a627584cbb8')}, 'run_id': '1fcc6847-d741-4a5b-b41b-4a627584cbb8', 'name': 'ChatGroq', 'tags': ['seq:step:1'], 'metadata': {'thread_id': '5', 'langgraph_step': 1, 'langgraph_node': 'SuperBot', 'langgraph_triggers': ('branch:to:SuperBot',), 'langgraph_path': ('__pregel_pull', 'SuperBot'), 'langgraph_checkpoint_ns': 'SuperBot:2eea691e-0696-48ff-79ac-c2d4f5eeea91', 'checkpoint_ns': 'SuperBot:2eea691e-0696-48ff-79ac-c2d4f5eeea91', 'ls_provider': 'groq', 'ls_model_name': 'llama3-8b-8192', 'ls_model_type': 'chat', 'ls_temperature': 0.7}, 'parent_ids': ['a728a0d3-181c-4677-8813-bfe086a313e0', 'c70b8b0a-d501-4bbf-b8c5-c9e3f95e838a']}\n",
      "{'event': 'on_chat_model_stream', 'data': {'chunk': AIMessageChunk(content=' hear', additional_kwargs={}, response_metadata={}, id='run--1fcc6847-d741-4a5b-b41b-4a627584cbb8')}, 'run_id': '1fcc6847-d741-4a5b-b41b-4a627584cbb8', 'name': 'ChatGroq', 'tags': ['seq:step:1'], 'metadata': {'thread_id': '5', 'langgraph_step': 1, 'langgraph_node': 'SuperBot', 'langgraph_triggers': ('branch:to:SuperBot',), 'langgraph_path': ('__pregel_pull', 'SuperBot'), 'langgraph_checkpoint_ns': 'SuperBot:2eea691e-0696-48ff-79ac-c2d4f5eeea91', 'checkpoint_ns': 'SuperBot:2eea691e-0696-48ff-79ac-c2d4f5eeea91', 'ls_provider': 'groq', 'ls_model_name': 'llama3-8b-8192', 'ls_model_type': 'chat', 'ls_temperature': 0.7}, 'parent_ids': ['a728a0d3-181c-4677-8813-bfe086a313e0', 'c70b8b0a-d501-4bbf-b8c5-c9e3f95e838a']}\n",
      "{'event': 'on_chat_model_stream', 'data': {'chunk': AIMessageChunk(content=' that', additional_kwargs={}, response_metadata={}, id='run--1fcc6847-d741-4a5b-b41b-4a627584cbb8')}, 'run_id': '1fcc6847-d741-4a5b-b41b-4a627584cbb8', 'name': 'ChatGroq', 'tags': ['seq:step:1'], 'metadata': {'thread_id': '5', 'langgraph_step': 1, 'langgraph_node': 'SuperBot', 'langgraph_triggers': ('branch:to:SuperBot',), 'langgraph_path': ('__pregel_pull', 'SuperBot'), 'langgraph_checkpoint_ns': 'SuperBot:2eea691e-0696-48ff-79ac-c2d4f5eeea91', 'checkpoint_ns': 'SuperBot:2eea691e-0696-48ff-79ac-c2d4f5eeea91', 'ls_provider': 'groq', 'ls_model_name': 'llama3-8b-8192', 'ls_model_type': 'chat', 'ls_temperature': 0.7}, 'parent_ids': ['a728a0d3-181c-4677-8813-bfe086a313e0', 'c70b8b0a-d501-4bbf-b8c5-c9e3f95e838a']}\n",
      "{'event': 'on_chat_model_stream', 'data': {'chunk': AIMessageChunk(content=' you', additional_kwargs={}, response_metadata={}, id='run--1fcc6847-d741-4a5b-b41b-4a627584cbb8')}, 'run_id': '1fcc6847-d741-4a5b-b41b-4a627584cbb8', 'name': 'ChatGroq', 'tags': ['seq:step:1'], 'metadata': {'thread_id': '5', 'langgraph_step': 1, 'langgraph_node': 'SuperBot', 'langgraph_triggers': ('branch:to:SuperBot',), 'langgraph_path': ('__pregel_pull', 'SuperBot'), 'langgraph_checkpoint_ns': 'SuperBot:2eea691e-0696-48ff-79ac-c2d4f5eeea91', 'checkpoint_ns': 'SuperBot:2eea691e-0696-48ff-79ac-c2d4f5eeea91', 'ls_provider': 'groq', 'ls_model_name': 'llama3-8b-8192', 'ls_model_type': 'chat', 'ls_temperature': 0.7}, 'parent_ids': ['a728a0d3-181c-4677-8813-bfe086a313e0', 'c70b8b0a-d501-4bbf-b8c5-c9e3f95e838a']}\n",
      "{'event': 'on_chat_model_stream', 'data': {'chunk': AIMessageChunk(content=\"'re\", additional_kwargs={}, response_metadata={}, id='run--1fcc6847-d741-4a5b-b41b-4a627584cbb8')}, 'run_id': '1fcc6847-d741-4a5b-b41b-4a627584cbb8', 'name': 'ChatGroq', 'tags': ['seq:step:1'], 'metadata': {'thread_id': '5', 'langgraph_step': 1, 'langgraph_node': 'SuperBot', 'langgraph_triggers': ('branch:to:SuperBot',), 'langgraph_path': ('__pregel_pull', 'SuperBot'), 'langgraph_checkpoint_ns': 'SuperBot:2eea691e-0696-48ff-79ac-c2d4f5eeea91', 'checkpoint_ns': 'SuperBot:2eea691e-0696-48ff-79ac-c2d4f5eeea91', 'ls_provider': 'groq', 'ls_model_name': 'llama3-8b-8192', 'ls_model_type': 'chat', 'ls_temperature': 0.7}, 'parent_ids': ['a728a0d3-181c-4677-8813-bfe086a313e0', 'c70b8b0a-d501-4bbf-b8c5-c9e3f95e838a']}\n",
      "{'event': 'on_chat_model_stream', 'data': {'chunk': AIMessageChunk(content=' interested', additional_kwargs={}, response_metadata={}, id='run--1fcc6847-d741-4a5b-b41b-4a627584cbb8')}, 'run_id': '1fcc6847-d741-4a5b-b41b-4a627584cbb8', 'name': 'ChatGroq', 'tags': ['seq:step:1'], 'metadata': {'thread_id': '5', 'langgraph_step': 1, 'langgraph_node': 'SuperBot', 'langgraph_triggers': ('branch:to:SuperBot',), 'langgraph_path': ('__pregel_pull', 'SuperBot'), 'langgraph_checkpoint_ns': 'SuperBot:2eea691e-0696-48ff-79ac-c2d4f5eeea91', 'checkpoint_ns': 'SuperBot:2eea691e-0696-48ff-79ac-c2d4f5eeea91', 'ls_provider': 'groq', 'ls_model_name': 'llama3-8b-8192', 'ls_model_type': 'chat', 'ls_temperature': 0.7}, 'parent_ids': ['a728a0d3-181c-4677-8813-bfe086a313e0', 'c70b8b0a-d501-4bbf-b8c5-c9e3f95e838a']}\n",
      "{'event': 'on_chat_model_stream', 'data': {'chunk': AIMessageChunk(content=' in', additional_kwargs={}, response_metadata={}, id='run--1fcc6847-d741-4a5b-b41b-4a627584cbb8')}, 'run_id': '1fcc6847-d741-4a5b-b41b-4a627584cbb8', 'name': 'ChatGroq', 'tags': ['seq:step:1'], 'metadata': {'thread_id': '5', 'langgraph_step': 1, 'langgraph_node': 'SuperBot', 'langgraph_triggers': ('branch:to:SuperBot',), 'langgraph_path': ('__pregel_pull', 'SuperBot'), 'langgraph_checkpoint_ns': 'SuperBot:2eea691e-0696-48ff-79ac-c2d4f5eeea91', 'checkpoint_ns': 'SuperBot:2eea691e-0696-48ff-79ac-c2d4f5eeea91', 'ls_provider': 'groq', 'ls_model_name': 'llama3-8b-8192', 'ls_model_type': 'chat', 'ls_temperature': 0.7}, 'parent_ids': ['a728a0d3-181c-4677-8813-bfe086a313e0', 'c70b8b0a-d501-4bbf-b8c5-c9e3f95e838a']}\n",
      "{'event': 'on_chat_model_stream', 'data': {'chunk': AIMessageChunk(content=' General', additional_kwargs={}, response_metadata={}, id='run--1fcc6847-d741-4a5b-b41b-4a627584cbb8')}, 'run_id': '1fcc6847-d741-4a5b-b41b-4a627584cbb8', 'name': 'ChatGroq', 'tags': ['seq:step:1'], 'metadata': {'thread_id': '5', 'langgraph_step': 1, 'langgraph_node': 'SuperBot', 'langgraph_triggers': ('branch:to:SuperBot',), 'langgraph_path': ('__pregel_pull', 'SuperBot'), 'langgraph_checkpoint_ns': 'SuperBot:2eea691e-0696-48ff-79ac-c2d4f5eeea91', 'checkpoint_ns': 'SuperBot:2eea691e-0696-48ff-79ac-c2d4f5eeea91', 'ls_provider': 'groq', 'ls_model_name': 'llama3-8b-8192', 'ls_model_type': 'chat', 'ls_temperature': 0.7}, 'parent_ids': ['a728a0d3-181c-4677-8813-bfe086a313e0', 'c70b8b0a-d501-4bbf-b8c5-c9e3f95e838a']}\n",
      "{'event': 'on_chat_model_stream', 'data': {'chunk': AIMessageChunk(content=' Artificial', additional_kwargs={}, response_metadata={}, id='run--1fcc6847-d741-4a5b-b41b-4a627584cbb8')}, 'run_id': '1fcc6847-d741-4a5b-b41b-4a627584cbb8', 'name': 'ChatGroq', 'tags': ['seq:step:1'], 'metadata': {'thread_id': '5', 'langgraph_step': 1, 'langgraph_node': 'SuperBot', 'langgraph_triggers': ('branch:to:SuperBot',), 'langgraph_path': ('__pregel_pull', 'SuperBot'), 'langgraph_checkpoint_ns': 'SuperBot:2eea691e-0696-48ff-79ac-c2d4f5eeea91', 'checkpoint_ns': 'SuperBot:2eea691e-0696-48ff-79ac-c2d4f5eeea91', 'ls_provider': 'groq', 'ls_model_name': 'llama3-8b-8192', 'ls_model_type': 'chat', 'ls_temperature': 0.7}, 'parent_ids': ['a728a0d3-181c-4677-8813-bfe086a313e0', 'c70b8b0a-d501-4bbf-b8c5-c9e3f95e838a']}\n",
      "{'event': 'on_chat_model_stream', 'data': {'chunk': AIMessageChunk(content=' Intelligence', additional_kwargs={}, response_metadata={}, id='run--1fcc6847-d741-4a5b-b41b-4a627584cbb8')}, 'run_id': '1fcc6847-d741-4a5b-b41b-4a627584cbb8', 'name': 'ChatGroq', 'tags': ['seq:step:1'], 'metadata': {'thread_id': '5', 'langgraph_step': 1, 'langgraph_node': 'SuperBot', 'langgraph_triggers': ('branch:to:SuperBot',), 'langgraph_path': ('__pregel_pull', 'SuperBot'), 'langgraph_checkpoint_ns': 'SuperBot:2eea691e-0696-48ff-79ac-c2d4f5eeea91', 'checkpoint_ns': 'SuperBot:2eea691e-0696-48ff-79ac-c2d4f5eeea91', 'ls_provider': 'groq', 'ls_model_name': 'llama3-8b-8192', 'ls_model_type': 'chat', 'ls_temperature': 0.7}, 'parent_ids': ['a728a0d3-181c-4677-8813-bfe086a313e0', 'c70b8b0a-d501-4bbf-b8c5-c9e3f95e838a']}\n",
      "{'event': 'on_chat_model_stream', 'data': {'chunk': AIMessageChunk(content=' (', additional_kwargs={}, response_metadata={}, id='run--1fcc6847-d741-4a5b-b41b-4a627584cbb8')}, 'run_id': '1fcc6847-d741-4a5b-b41b-4a627584cbb8', 'name': 'ChatGroq', 'tags': ['seq:step:1'], 'metadata': {'thread_id': '5', 'langgraph_step': 1, 'langgraph_node': 'SuperBot', 'langgraph_triggers': ('branch:to:SuperBot',), 'langgraph_path': ('__pregel_pull', 'SuperBot'), 'langgraph_checkpoint_ns': 'SuperBot:2eea691e-0696-48ff-79ac-c2d4f5eeea91', 'checkpoint_ns': 'SuperBot:2eea691e-0696-48ff-79ac-c2d4f5eeea91', 'ls_provider': 'groq', 'ls_model_name': 'llama3-8b-8192', 'ls_model_type': 'chat', 'ls_temperature': 0.7}, 'parent_ids': ['a728a0d3-181c-4677-8813-bfe086a313e0', 'c70b8b0a-d501-4bbf-b8c5-c9e3f95e838a']}\n",
      "{'event': 'on_chat_model_stream', 'data': {'chunk': AIMessageChunk(content='Gen', additional_kwargs={}, response_metadata={}, id='run--1fcc6847-d741-4a5b-b41b-4a627584cbb8')}, 'run_id': '1fcc6847-d741-4a5b-b41b-4a627584cbb8', 'name': 'ChatGroq', 'tags': ['seq:step:1'], 'metadata': {'thread_id': '5', 'langgraph_step': 1, 'langgraph_node': 'SuperBot', 'langgraph_triggers': ('branch:to:SuperBot',), 'langgraph_path': ('__pregel_pull', 'SuperBot'), 'langgraph_checkpoint_ns': 'SuperBot:2eea691e-0696-48ff-79ac-c2d4f5eeea91', 'checkpoint_ns': 'SuperBot:2eea691e-0696-48ff-79ac-c2d4f5eeea91', 'ls_provider': 'groq', 'ls_model_name': 'llama3-8b-8192', 'ls_model_type': 'chat', 'ls_temperature': 0.7}, 'parent_ids': ['a728a0d3-181c-4677-8813-bfe086a313e0', 'c70b8b0a-d501-4bbf-b8c5-c9e3f95e838a']}\n",
      "{'event': 'on_chat_model_stream', 'data': {'chunk': AIMessageChunk(content=' AI', additional_kwargs={}, response_metadata={}, id='run--1fcc6847-d741-4a5b-b41b-4a627584cbb8')}, 'run_id': '1fcc6847-d741-4a5b-b41b-4a627584cbb8', 'name': 'ChatGroq', 'tags': ['seq:step:1'], 'metadata': {'thread_id': '5', 'langgraph_step': 1, 'langgraph_node': 'SuperBot', 'langgraph_triggers': ('branch:to:SuperBot',), 'langgraph_path': ('__pregel_pull', 'SuperBot'), 'langgraph_checkpoint_ns': 'SuperBot:2eea691e-0696-48ff-79ac-c2d4f5eeea91', 'checkpoint_ns': 'SuperBot:2eea691e-0696-48ff-79ac-c2d4f5eeea91', 'ls_provider': 'groq', 'ls_model_name': 'llama3-8b-8192', 'ls_model_type': 'chat', 'ls_temperature': 0.7}, 'parent_ids': ['a728a0d3-181c-4677-8813-bfe086a313e0', 'c70b8b0a-d501-4bbf-b8c5-c9e3f95e838a']}\n",
      "{'event': 'on_chat_model_stream', 'data': {'chunk': AIMessageChunk(content=').', additional_kwargs={}, response_metadata={}, id='run--1fcc6847-d741-4a5b-b41b-4a627584cbb8')}, 'run_id': '1fcc6847-d741-4a5b-b41b-4a627584cbb8', 'name': 'ChatGroq', 'tags': ['seq:step:1'], 'metadata': {'thread_id': '5', 'langgraph_step': 1, 'langgraph_node': 'SuperBot', 'langgraph_triggers': ('branch:to:SuperBot',), 'langgraph_path': ('__pregel_pull', 'SuperBot'), 'langgraph_checkpoint_ns': 'SuperBot:2eea691e-0696-48ff-79ac-c2d4f5eeea91', 'checkpoint_ns': 'SuperBot:2eea691e-0696-48ff-79ac-c2d4f5eeea91', 'ls_provider': 'groq', 'ls_model_name': 'llama3-8b-8192', 'ls_model_type': 'chat', 'ls_temperature': 0.7}, 'parent_ids': ['a728a0d3-181c-4677-8813-bfe086a313e0', 'c70b8b0a-d501-4bbf-b8c5-c9e3f95e838a']}\n",
      "{'event': 'on_chat_model_stream', 'data': {'chunk': AIMessageChunk(content=' Gen', additional_kwargs={}, response_metadata={}, id='run--1fcc6847-d741-4a5b-b41b-4a627584cbb8')}, 'run_id': '1fcc6847-d741-4a5b-b41b-4a627584cbb8', 'name': 'ChatGroq', 'tags': ['seq:step:1'], 'metadata': {'thread_id': '5', 'langgraph_step': 1, 'langgraph_node': 'SuperBot', 'langgraph_triggers': ('branch:to:SuperBot',), 'langgraph_path': ('__pregel_pull', 'SuperBot'), 'langgraph_checkpoint_ns': 'SuperBot:2eea691e-0696-48ff-79ac-c2d4f5eeea91', 'checkpoint_ns': 'SuperBot:2eea691e-0696-48ff-79ac-c2d4f5eeea91', 'ls_provider': 'groq', 'ls_model_name': 'llama3-8b-8192', 'ls_model_type': 'chat', 'ls_temperature': 0.7}, 'parent_ids': ['a728a0d3-181c-4677-8813-bfe086a313e0', 'c70b8b0a-d501-4bbf-b8c5-c9e3f95e838a']}\n",
      "{'event': 'on_chat_model_stream', 'data': {'chunk': AIMessageChunk(content=' AI', additional_kwargs={}, response_metadata={}, id='run--1fcc6847-d741-4a5b-b41b-4a627584cbb8')}, 'run_id': '1fcc6847-d741-4a5b-b41b-4a627584cbb8', 'name': 'ChatGroq', 'tags': ['seq:step:1'], 'metadata': {'thread_id': '5', 'langgraph_step': 1, 'langgraph_node': 'SuperBot', 'langgraph_triggers': ('branch:to:SuperBot',), 'langgraph_path': ('__pregel_pull', 'SuperBot'), 'langgraph_checkpoint_ns': 'SuperBot:2eea691e-0696-48ff-79ac-c2d4f5eeea91', 'checkpoint_ns': 'SuperBot:2eea691e-0696-48ff-79ac-c2d4f5eeea91', 'ls_provider': 'groq', 'ls_model_name': 'llama3-8b-8192', 'ls_model_type': 'chat', 'ls_temperature': 0.7}, 'parent_ids': ['a728a0d3-181c-4677-8813-bfe086a313e0', 'c70b8b0a-d501-4bbf-b8c5-c9e3f95e838a']}\n",
      "{'event': 'on_chat_model_stream', 'data': {'chunk': AIMessageChunk(content=' is', additional_kwargs={}, response_metadata={}, id='run--1fcc6847-d741-4a5b-b41b-4a627584cbb8')}, 'run_id': '1fcc6847-d741-4a5b-b41b-4a627584cbb8', 'name': 'ChatGroq', 'tags': ['seq:step:1'], 'metadata': {'thread_id': '5', 'langgraph_step': 1, 'langgraph_node': 'SuperBot', 'langgraph_triggers': ('branch:to:SuperBot',), 'langgraph_path': ('__pregel_pull', 'SuperBot'), 'langgraph_checkpoint_ns': 'SuperBot:2eea691e-0696-48ff-79ac-c2d4f5eeea91', 'checkpoint_ns': 'SuperBot:2eea691e-0696-48ff-79ac-c2d4f5eeea91', 'ls_provider': 'groq', 'ls_model_name': 'llama3-8b-8192', 'ls_model_type': 'chat', 'ls_temperature': 0.7}, 'parent_ids': ['a728a0d3-181c-4677-8813-bfe086a313e0', 'c70b8b0a-d501-4bbf-b8c5-c9e3f95e838a']}\n",
      "{'event': 'on_chat_model_stream', 'data': {'chunk': AIMessageChunk(content=' a', additional_kwargs={}, response_metadata={}, id='run--1fcc6847-d741-4a5b-b41b-4a627584cbb8')}, 'run_id': '1fcc6847-d741-4a5b-b41b-4a627584cbb8', 'name': 'ChatGroq', 'tags': ['seq:step:1'], 'metadata': {'thread_id': '5', 'langgraph_step': 1, 'langgraph_node': 'SuperBot', 'langgraph_triggers': ('branch:to:SuperBot',), 'langgraph_path': ('__pregel_pull', 'SuperBot'), 'langgraph_checkpoint_ns': 'SuperBot:2eea691e-0696-48ff-79ac-c2d4f5eeea91', 'checkpoint_ns': 'SuperBot:2eea691e-0696-48ff-79ac-c2d4f5eeea91', 'ls_provider': 'groq', 'ls_model_name': 'llama3-8b-8192', 'ls_model_type': 'chat', 'ls_temperature': 0.7}, 'parent_ids': ['a728a0d3-181c-4677-8813-bfe086a313e0', 'c70b8b0a-d501-4bbf-b8c5-c9e3f95e838a']}\n",
      "{'event': 'on_chat_model_stream', 'data': {'chunk': AIMessageChunk(content=' fascinating', additional_kwargs={}, response_metadata={}, id='run--1fcc6847-d741-4a5b-b41b-4a627584cbb8')}, 'run_id': '1fcc6847-d741-4a5b-b41b-4a627584cbb8', 'name': 'ChatGroq', 'tags': ['seq:step:1'], 'metadata': {'thread_id': '5', 'langgraph_step': 1, 'langgraph_node': 'SuperBot', 'langgraph_triggers': ('branch:to:SuperBot',), 'langgraph_path': ('__pregel_pull', 'SuperBot'), 'langgraph_checkpoint_ns': 'SuperBot:2eea691e-0696-48ff-79ac-c2d4f5eeea91', 'checkpoint_ns': 'SuperBot:2eea691e-0696-48ff-79ac-c2d4f5eeea91', 'ls_provider': 'groq', 'ls_model_name': 'llama3-8b-8192', 'ls_model_type': 'chat', 'ls_temperature': 0.7}, 'parent_ids': ['a728a0d3-181c-4677-8813-bfe086a313e0', 'c70b8b0a-d501-4bbf-b8c5-c9e3f95e838a']}\n",
      "{'event': 'on_chat_model_stream', 'data': {'chunk': AIMessageChunk(content=' field', additional_kwargs={}, response_metadata={}, id='run--1fcc6847-d741-4a5b-b41b-4a627584cbb8')}, 'run_id': '1fcc6847-d741-4a5b-b41b-4a627584cbb8', 'name': 'ChatGroq', 'tags': ['seq:step:1'], 'metadata': {'thread_id': '5', 'langgraph_step': 1, 'langgraph_node': 'SuperBot', 'langgraph_triggers': ('branch:to:SuperBot',), 'langgraph_path': ('__pregel_pull', 'SuperBot'), 'langgraph_checkpoint_ns': 'SuperBot:2eea691e-0696-48ff-79ac-c2d4f5eeea91', 'checkpoint_ns': 'SuperBot:2eea691e-0696-48ff-79ac-c2d4f5eeea91', 'ls_provider': 'groq', 'ls_model_name': 'llama3-8b-8192', 'ls_model_type': 'chat', 'ls_temperature': 0.7}, 'parent_ids': ['a728a0d3-181c-4677-8813-bfe086a313e0', 'c70b8b0a-d501-4bbf-b8c5-c9e3f95e838a']}\n",
      "{'event': 'on_chat_model_stream', 'data': {'chunk': AIMessageChunk(content=' that', additional_kwargs={}, response_metadata={}, id='run--1fcc6847-d741-4a5b-b41b-4a627584cbb8')}, 'run_id': '1fcc6847-d741-4a5b-b41b-4a627584cbb8', 'name': 'ChatGroq', 'tags': ['seq:step:1'], 'metadata': {'thread_id': '5', 'langgraph_step': 1, 'langgraph_node': 'SuperBot', 'langgraph_triggers': ('branch:to:SuperBot',), 'langgraph_path': ('__pregel_pull', 'SuperBot'), 'langgraph_checkpoint_ns': 'SuperBot:2eea691e-0696-48ff-79ac-c2d4f5eeea91', 'checkpoint_ns': 'SuperBot:2eea691e-0696-48ff-79ac-c2d4f5eeea91', 'ls_provider': 'groq', 'ls_model_name': 'llama3-8b-8192', 'ls_model_type': 'chat', 'ls_temperature': 0.7}, 'parent_ids': ['a728a0d3-181c-4677-8813-bfe086a313e0', 'c70b8b0a-d501-4bbf-b8c5-c9e3f95e838a']}\n",
      "{'event': 'on_chat_model_stream', 'data': {'chunk': AIMessageChunk(content=' has', additional_kwargs={}, response_metadata={}, id='run--1fcc6847-d741-4a5b-b41b-4a627584cbb8')}, 'run_id': '1fcc6847-d741-4a5b-b41b-4a627584cbb8', 'name': 'ChatGroq', 'tags': ['seq:step:1'], 'metadata': {'thread_id': '5', 'langgraph_step': 1, 'langgraph_node': 'SuperBot', 'langgraph_triggers': ('branch:to:SuperBot',), 'langgraph_path': ('__pregel_pull', 'SuperBot'), 'langgraph_checkpoint_ns': 'SuperBot:2eea691e-0696-48ff-79ac-c2d4f5eeea91', 'checkpoint_ns': 'SuperBot:2eea691e-0696-48ff-79ac-c2d4f5eeea91', 'ls_provider': 'groq', 'ls_model_name': 'llama3-8b-8192', 'ls_model_type': 'chat', 'ls_temperature': 0.7}, 'parent_ids': ['a728a0d3-181c-4677-8813-bfe086a313e0', 'c70b8b0a-d501-4bbf-b8c5-c9e3f95e838a']}\n",
      "{'event': 'on_chat_model_stream', 'data': {'chunk': AIMessageChunk(content=' the', additional_kwargs={}, response_metadata={}, id='run--1fcc6847-d741-4a5b-b41b-4a627584cbb8')}, 'run_id': '1fcc6847-d741-4a5b-b41b-4a627584cbb8', 'name': 'ChatGroq', 'tags': ['seq:step:1'], 'metadata': {'thread_id': '5', 'langgraph_step': 1, 'langgraph_node': 'SuperBot', 'langgraph_triggers': ('branch:to:SuperBot',), 'langgraph_path': ('__pregel_pull', 'SuperBot'), 'langgraph_checkpoint_ns': 'SuperBot:2eea691e-0696-48ff-79ac-c2d4f5eeea91', 'checkpoint_ns': 'SuperBot:2eea691e-0696-48ff-79ac-c2d4f5eeea91', 'ls_provider': 'groq', 'ls_model_name': 'llama3-8b-8192', 'ls_model_type': 'chat', 'ls_temperature': 0.7}, 'parent_ids': ['a728a0d3-181c-4677-8813-bfe086a313e0', 'c70b8b0a-d501-4bbf-b8c5-c9e3f95e838a']}\n",
      "{'event': 'on_chat_model_stream', 'data': {'chunk': AIMessageChunk(content=' potential', additional_kwargs={}, response_metadata={}, id='run--1fcc6847-d741-4a5b-b41b-4a627584cbb8')}, 'run_id': '1fcc6847-d741-4a5b-b41b-4a627584cbb8', 'name': 'ChatGroq', 'tags': ['seq:step:1'], 'metadata': {'thread_id': '5', 'langgraph_step': 1, 'langgraph_node': 'SuperBot', 'langgraph_triggers': ('branch:to:SuperBot',), 'langgraph_path': ('__pregel_pull', 'SuperBot'), 'langgraph_checkpoint_ns': 'SuperBot:2eea691e-0696-48ff-79ac-c2d4f5eeea91', 'checkpoint_ns': 'SuperBot:2eea691e-0696-48ff-79ac-c2d4f5eeea91', 'ls_provider': 'groq', 'ls_model_name': 'llama3-8b-8192', 'ls_model_type': 'chat', 'ls_temperature': 0.7}, 'parent_ids': ['a728a0d3-181c-4677-8813-bfe086a313e0', 'c70b8b0a-d501-4bbf-b8c5-c9e3f95e838a']}\n",
      "{'event': 'on_chat_model_stream', 'data': {'chunk': AIMessageChunk(content=' to', additional_kwargs={}, response_metadata={}, id='run--1fcc6847-d741-4a5b-b41b-4a627584cbb8')}, 'run_id': '1fcc6847-d741-4a5b-b41b-4a627584cbb8', 'name': 'ChatGroq', 'tags': ['seq:step:1'], 'metadata': {'thread_id': '5', 'langgraph_step': 1, 'langgraph_node': 'SuperBot', 'langgraph_triggers': ('branch:to:SuperBot',), 'langgraph_path': ('__pregel_pull', 'SuperBot'), 'langgraph_checkpoint_ns': 'SuperBot:2eea691e-0696-48ff-79ac-c2d4f5eeea91', 'checkpoint_ns': 'SuperBot:2eea691e-0696-48ff-79ac-c2d4f5eeea91', 'ls_provider': 'groq', 'ls_model_name': 'llama3-8b-8192', 'ls_model_type': 'chat', 'ls_temperature': 0.7}, 'parent_ids': ['a728a0d3-181c-4677-8813-bfe086a313e0', 'c70b8b0a-d501-4bbf-b8c5-c9e3f95e838a']}\n",
      "{'event': 'on_chat_model_stream', 'data': {'chunk': AIMessageChunk(content=' revolution', additional_kwargs={}, response_metadata={}, id='run--1fcc6847-d741-4a5b-b41b-4a627584cbb8')}, 'run_id': '1fcc6847-d741-4a5b-b41b-4a627584cbb8', 'name': 'ChatGroq', 'tags': ['seq:step:1'], 'metadata': {'thread_id': '5', 'langgraph_step': 1, 'langgraph_node': 'SuperBot', 'langgraph_triggers': ('branch:to:SuperBot',), 'langgraph_path': ('__pregel_pull', 'SuperBot'), 'langgraph_checkpoint_ns': 'SuperBot:2eea691e-0696-48ff-79ac-c2d4f5eeea91', 'checkpoint_ns': 'SuperBot:2eea691e-0696-48ff-79ac-c2d4f5eeea91', 'ls_provider': 'groq', 'ls_model_name': 'llama3-8b-8192', 'ls_model_type': 'chat', 'ls_temperature': 0.7}, 'parent_ids': ['a728a0d3-181c-4677-8813-bfe086a313e0', 'c70b8b0a-d501-4bbf-b8c5-c9e3f95e838a']}\n",
      "{'event': 'on_chat_model_stream', 'data': {'chunk': AIMessageChunk(content='ize', additional_kwargs={}, response_metadata={}, id='run--1fcc6847-d741-4a5b-b41b-4a627584cbb8')}, 'run_id': '1fcc6847-d741-4a5b-b41b-4a627584cbb8', 'name': 'ChatGroq', 'tags': ['seq:step:1'], 'metadata': {'thread_id': '5', 'langgraph_step': 1, 'langgraph_node': 'SuperBot', 'langgraph_triggers': ('branch:to:SuperBot',), 'langgraph_path': ('__pregel_pull', 'SuperBot'), 'langgraph_checkpoint_ns': 'SuperBot:2eea691e-0696-48ff-79ac-c2d4f5eeea91', 'checkpoint_ns': 'SuperBot:2eea691e-0696-48ff-79ac-c2d4f5eeea91', 'ls_provider': 'groq', 'ls_model_name': 'llama3-8b-8192', 'ls_model_type': 'chat', 'ls_temperature': 0.7}, 'parent_ids': ['a728a0d3-181c-4677-8813-bfe086a313e0', 'c70b8b0a-d501-4bbf-b8c5-c9e3f95e838a']}\n",
      "{'event': 'on_chat_model_stream', 'data': {'chunk': AIMessageChunk(content=' many', additional_kwargs={}, response_metadata={}, id='run--1fcc6847-d741-4a5b-b41b-4a627584cbb8')}, 'run_id': '1fcc6847-d741-4a5b-b41b-4a627584cbb8', 'name': 'ChatGroq', 'tags': ['seq:step:1'], 'metadata': {'thread_id': '5', 'langgraph_step': 1, 'langgraph_node': 'SuperBot', 'langgraph_triggers': ('branch:to:SuperBot',), 'langgraph_path': ('__pregel_pull', 'SuperBot'), 'langgraph_checkpoint_ns': 'SuperBot:2eea691e-0696-48ff-79ac-c2d4f5eeea91', 'checkpoint_ns': 'SuperBot:2eea691e-0696-48ff-79ac-c2d4f5eeea91', 'ls_provider': 'groq', 'ls_model_name': 'llama3-8b-8192', 'ls_model_type': 'chat', 'ls_temperature': 0.7}, 'parent_ids': ['a728a0d3-181c-4677-8813-bfe086a313e0', 'c70b8b0a-d501-4bbf-b8c5-c9e3f95e838a']}\n",
      "{'event': 'on_chat_model_stream', 'data': {'chunk': AIMessageChunk(content=' aspects', additional_kwargs={}, response_metadata={}, id='run--1fcc6847-d741-4a5b-b41b-4a627584cbb8')}, 'run_id': '1fcc6847-d741-4a5b-b41b-4a627584cbb8', 'name': 'ChatGroq', 'tags': ['seq:step:1'], 'metadata': {'thread_id': '5', 'langgraph_step': 1, 'langgraph_node': 'SuperBot', 'langgraph_triggers': ('branch:to:SuperBot',), 'langgraph_path': ('__pregel_pull', 'SuperBot'), 'langgraph_checkpoint_ns': 'SuperBot:2eea691e-0696-48ff-79ac-c2d4f5eeea91', 'checkpoint_ns': 'SuperBot:2eea691e-0696-48ff-79ac-c2d4f5eeea91', 'ls_provider': 'groq', 'ls_model_name': 'llama3-8b-8192', 'ls_model_type': 'chat', 'ls_temperature': 0.7}, 'parent_ids': ['a728a0d3-181c-4677-8813-bfe086a313e0', 'c70b8b0a-d501-4bbf-b8c5-c9e3f95e838a']}\n",
      "{'event': 'on_chat_model_stream', 'data': {'chunk': AIMessageChunk(content=' of', additional_kwargs={}, response_metadata={}, id='run--1fcc6847-d741-4a5b-b41b-4a627584cbb8')}, 'run_id': '1fcc6847-d741-4a5b-b41b-4a627584cbb8', 'name': 'ChatGroq', 'tags': ['seq:step:1'], 'metadata': {'thread_id': '5', 'langgraph_step': 1, 'langgraph_node': 'SuperBot', 'langgraph_triggers': ('branch:to:SuperBot',), 'langgraph_path': ('__pregel_pull', 'SuperBot'), 'langgraph_checkpoint_ns': 'SuperBot:2eea691e-0696-48ff-79ac-c2d4f5eeea91', 'checkpoint_ns': 'SuperBot:2eea691e-0696-48ff-79ac-c2d4f5eeea91', 'ls_provider': 'groq', 'ls_model_name': 'llama3-8b-8192', 'ls_model_type': 'chat', 'ls_temperature': 0.7}, 'parent_ids': ['a728a0d3-181c-4677-8813-bfe086a313e0', 'c70b8b0a-d501-4bbf-b8c5-c9e3f95e838a']}\n",
      "{'event': 'on_chat_model_stream', 'data': {'chunk': AIMessageChunk(content=' our', additional_kwargs={}, response_metadata={}, id='run--1fcc6847-d741-4a5b-b41b-4a627584cbb8')}, 'run_id': '1fcc6847-d741-4a5b-b41b-4a627584cbb8', 'name': 'ChatGroq', 'tags': ['seq:step:1'], 'metadata': {'thread_id': '5', 'langgraph_step': 1, 'langgraph_node': 'SuperBot', 'langgraph_triggers': ('branch:to:SuperBot',), 'langgraph_path': ('__pregel_pull', 'SuperBot'), 'langgraph_checkpoint_ns': 'SuperBot:2eea691e-0696-48ff-79ac-c2d4f5eeea91', 'checkpoint_ns': 'SuperBot:2eea691e-0696-48ff-79ac-c2d4f5eeea91', 'ls_provider': 'groq', 'ls_model_name': 'llama3-8b-8192', 'ls_model_type': 'chat', 'ls_temperature': 0.7}, 'parent_ids': ['a728a0d3-181c-4677-8813-bfe086a313e0', 'c70b8b0a-d501-4bbf-b8c5-c9e3f95e838a']}\n",
      "{'event': 'on_chat_model_stream', 'data': {'chunk': AIMessageChunk(content=' lives', additional_kwargs={}, response_metadata={}, id='run--1fcc6847-d741-4a5b-b41b-4a627584cbb8')}, 'run_id': '1fcc6847-d741-4a5b-b41b-4a627584cbb8', 'name': 'ChatGroq', 'tags': ['seq:step:1'], 'metadata': {'thread_id': '5', 'langgraph_step': 1, 'langgraph_node': 'SuperBot', 'langgraph_triggers': ('branch:to:SuperBot',), 'langgraph_path': ('__pregel_pull', 'SuperBot'), 'langgraph_checkpoint_ns': 'SuperBot:2eea691e-0696-48ff-79ac-c2d4f5eeea91', 'checkpoint_ns': 'SuperBot:2eea691e-0696-48ff-79ac-c2d4f5eeea91', 'ls_provider': 'groq', 'ls_model_name': 'llama3-8b-8192', 'ls_model_type': 'chat', 'ls_temperature': 0.7}, 'parent_ids': ['a728a0d3-181c-4677-8813-bfe086a313e0', 'c70b8b0a-d501-4bbf-b8c5-c9e3f95e838a']}\n",
      "{'event': 'on_chat_model_stream', 'data': {'chunk': AIMessageChunk(content='.\\n\\n', additional_kwargs={}, response_metadata={}, id='run--1fcc6847-d741-4a5b-b41b-4a627584cbb8')}, 'run_id': '1fcc6847-d741-4a5b-b41b-4a627584cbb8', 'name': 'ChatGroq', 'tags': ['seq:step:1'], 'metadata': {'thread_id': '5', 'langgraph_step': 1, 'langgraph_node': 'SuperBot', 'langgraph_triggers': ('branch:to:SuperBot',), 'langgraph_path': ('__pregel_pull', 'SuperBot'), 'langgraph_checkpoint_ns': 'SuperBot:2eea691e-0696-48ff-79ac-c2d4f5eeea91', 'checkpoint_ns': 'SuperBot:2eea691e-0696-48ff-79ac-c2d4f5eeea91', 'ls_provider': 'groq', 'ls_model_name': 'llama3-8b-8192', 'ls_model_type': 'chat', 'ls_temperature': 0.7}, 'parent_ids': ['a728a0d3-181c-4677-8813-bfe086a313e0', 'c70b8b0a-d501-4bbf-b8c5-c9e3f95e838a']}\n",
      "{'event': 'on_chat_model_stream', 'data': {'chunk': AIMessageChunk(content='What', additional_kwargs={}, response_metadata={}, id='run--1fcc6847-d741-4a5b-b41b-4a627584cbb8')}, 'run_id': '1fcc6847-d741-4a5b-b41b-4a627584cbb8', 'name': 'ChatGroq', 'tags': ['seq:step:1'], 'metadata': {'thread_id': '5', 'langgraph_step': 1, 'langgraph_node': 'SuperBot', 'langgraph_triggers': ('branch:to:SuperBot',), 'langgraph_path': ('__pregel_pull', 'SuperBot'), 'langgraph_checkpoint_ns': 'SuperBot:2eea691e-0696-48ff-79ac-c2d4f5eeea91', 'checkpoint_ns': 'SuperBot:2eea691e-0696-48ff-79ac-c2d4f5eeea91', 'ls_provider': 'groq', 'ls_model_name': 'llama3-8b-8192', 'ls_model_type': 'chat', 'ls_temperature': 0.7}, 'parent_ids': ['a728a0d3-181c-4677-8813-bfe086a313e0', 'c70b8b0a-d501-4bbf-b8c5-c9e3f95e838a']}\n",
      "{'event': 'on_chat_model_stream', 'data': {'chunk': AIMessageChunk(content=' specifically', additional_kwargs={}, response_metadata={}, id='run--1fcc6847-d741-4a5b-b41b-4a627584cbb8')}, 'run_id': '1fcc6847-d741-4a5b-b41b-4a627584cbb8', 'name': 'ChatGroq', 'tags': ['seq:step:1'], 'metadata': {'thread_id': '5', 'langgraph_step': 1, 'langgraph_node': 'SuperBot', 'langgraph_triggers': ('branch:to:SuperBot',), 'langgraph_path': ('__pregel_pull', 'SuperBot'), 'langgraph_checkpoint_ns': 'SuperBot:2eea691e-0696-48ff-79ac-c2d4f5eeea91', 'checkpoint_ns': 'SuperBot:2eea691e-0696-48ff-79ac-c2d4f5eeea91', 'ls_provider': 'groq', 'ls_model_name': 'llama3-8b-8192', 'ls_model_type': 'chat', 'ls_temperature': 0.7}, 'parent_ids': ['a728a0d3-181c-4677-8813-bfe086a313e0', 'c70b8b0a-d501-4bbf-b8c5-c9e3f95e838a']}\n",
      "{'event': 'on_chat_model_stream', 'data': {'chunk': AIMessageChunk(content=' about', additional_kwargs={}, response_metadata={}, id='run--1fcc6847-d741-4a5b-b41b-4a627584cbb8')}, 'run_id': '1fcc6847-d741-4a5b-b41b-4a627584cbb8', 'name': 'ChatGroq', 'tags': ['seq:step:1'], 'metadata': {'thread_id': '5', 'langgraph_step': 1, 'langgraph_node': 'SuperBot', 'langgraph_triggers': ('branch:to:SuperBot',), 'langgraph_path': ('__pregel_pull', 'SuperBot'), 'langgraph_checkpoint_ns': 'SuperBot:2eea691e-0696-48ff-79ac-c2d4f5eeea91', 'checkpoint_ns': 'SuperBot:2eea691e-0696-48ff-79ac-c2d4f5eeea91', 'ls_provider': 'groq', 'ls_model_name': 'llama3-8b-8192', 'ls_model_type': 'chat', 'ls_temperature': 0.7}, 'parent_ids': ['a728a0d3-181c-4677-8813-bfe086a313e0', 'c70b8b0a-d501-4bbf-b8c5-c9e3f95e838a']}\n",
      "{'event': 'on_chat_model_stream', 'data': {'chunk': AIMessageChunk(content=' Gen', additional_kwargs={}, response_metadata={}, id='run--1fcc6847-d741-4a5b-b41b-4a627584cbb8')}, 'run_id': '1fcc6847-d741-4a5b-b41b-4a627584cbb8', 'name': 'ChatGroq', 'tags': ['seq:step:1'], 'metadata': {'thread_id': '5', 'langgraph_step': 1, 'langgraph_node': 'SuperBot', 'langgraph_triggers': ('branch:to:SuperBot',), 'langgraph_path': ('__pregel_pull', 'SuperBot'), 'langgraph_checkpoint_ns': 'SuperBot:2eea691e-0696-48ff-79ac-c2d4f5eeea91', 'checkpoint_ns': 'SuperBot:2eea691e-0696-48ff-79ac-c2d4f5eeea91', 'ls_provider': 'groq', 'ls_model_name': 'llama3-8b-8192', 'ls_model_type': 'chat', 'ls_temperature': 0.7}, 'parent_ids': ['a728a0d3-181c-4677-8813-bfe086a313e0', 'c70b8b0a-d501-4bbf-b8c5-c9e3f95e838a']}\n",
      "{'event': 'on_chat_model_stream', 'data': {'chunk': AIMessageChunk(content=' AI', additional_kwargs={}, response_metadata={}, id='run--1fcc6847-d741-4a5b-b41b-4a627584cbb8')}, 'run_id': '1fcc6847-d741-4a5b-b41b-4a627584cbb8', 'name': 'ChatGroq', 'tags': ['seq:step:1'], 'metadata': {'thread_id': '5', 'langgraph_step': 1, 'langgraph_node': 'SuperBot', 'langgraph_triggers': ('branch:to:SuperBot',), 'langgraph_path': ('__pregel_pull', 'SuperBot'), 'langgraph_checkpoint_ns': 'SuperBot:2eea691e-0696-48ff-79ac-c2d4f5eeea91', 'checkpoint_ns': 'SuperBot:2eea691e-0696-48ff-79ac-c2d4f5eeea91', 'ls_provider': 'groq', 'ls_model_name': 'llama3-8b-8192', 'ls_model_type': 'chat', 'ls_temperature': 0.7}, 'parent_ids': ['a728a0d3-181c-4677-8813-bfe086a313e0', 'c70b8b0a-d501-4bbf-b8c5-c9e3f95e838a']}\n",
      "{'event': 'on_chat_model_stream', 'data': {'chunk': AIMessageChunk(content=' interests', additional_kwargs={}, response_metadata={}, id='run--1fcc6847-d741-4a5b-b41b-4a627584cbb8')}, 'run_id': '1fcc6847-d741-4a5b-b41b-4a627584cbb8', 'name': 'ChatGroq', 'tags': ['seq:step:1'], 'metadata': {'thread_id': '5', 'langgraph_step': 1, 'langgraph_node': 'SuperBot', 'langgraph_triggers': ('branch:to:SuperBot',), 'langgraph_path': ('__pregel_pull', 'SuperBot'), 'langgraph_checkpoint_ns': 'SuperBot:2eea691e-0696-48ff-79ac-c2d4f5eeea91', 'checkpoint_ns': 'SuperBot:2eea691e-0696-48ff-79ac-c2d4f5eeea91', 'ls_provider': 'groq', 'ls_model_name': 'llama3-8b-8192', 'ls_model_type': 'chat', 'ls_temperature': 0.7}, 'parent_ids': ['a728a0d3-181c-4677-8813-bfe086a313e0', 'c70b8b0a-d501-4bbf-b8c5-c9e3f95e838a']}\n",
      "{'event': 'on_chat_model_stream', 'data': {'chunk': AIMessageChunk(content=' you', additional_kwargs={}, response_metadata={}, id='run--1fcc6847-d741-4a5b-b41b-4a627584cbb8')}, 'run_id': '1fcc6847-d741-4a5b-b41b-4a627584cbb8', 'name': 'ChatGroq', 'tags': ['seq:step:1'], 'metadata': {'thread_id': '5', 'langgraph_step': 1, 'langgraph_node': 'SuperBot', 'langgraph_triggers': ('branch:to:SuperBot',), 'langgraph_path': ('__pregel_pull', 'SuperBot'), 'langgraph_checkpoint_ns': 'SuperBot:2eea691e-0696-48ff-79ac-c2d4f5eeea91', 'checkpoint_ns': 'SuperBot:2eea691e-0696-48ff-79ac-c2d4f5eeea91', 'ls_provider': 'groq', 'ls_model_name': 'llama3-8b-8192', 'ls_model_type': 'chat', 'ls_temperature': 0.7}, 'parent_ids': ['a728a0d3-181c-4677-8813-bfe086a313e0', 'c70b8b0a-d501-4bbf-b8c5-c9e3f95e838a']}\n",
      "{'event': 'on_chat_model_stream', 'data': {'chunk': AIMessageChunk(content='?', additional_kwargs={}, response_metadata={}, id='run--1fcc6847-d741-4a5b-b41b-4a627584cbb8')}, 'run_id': '1fcc6847-d741-4a5b-b41b-4a627584cbb8', 'name': 'ChatGroq', 'tags': ['seq:step:1'], 'metadata': {'thread_id': '5', 'langgraph_step': 1, 'langgraph_node': 'SuperBot', 'langgraph_triggers': ('branch:to:SuperBot',), 'langgraph_path': ('__pregel_pull', 'SuperBot'), 'langgraph_checkpoint_ns': 'SuperBot:2eea691e-0696-48ff-79ac-c2d4f5eeea91', 'checkpoint_ns': 'SuperBot:2eea691e-0696-48ff-79ac-c2d4f5eeea91', 'ls_provider': 'groq', 'ls_model_name': 'llama3-8b-8192', 'ls_model_type': 'chat', 'ls_temperature': 0.7}, 'parent_ids': ['a728a0d3-181c-4677-8813-bfe086a313e0', 'c70b8b0a-d501-4bbf-b8c5-c9e3f95e838a']}\n",
      "{'event': 'on_chat_model_stream', 'data': {'chunk': AIMessageChunk(content=' Are', additional_kwargs={}, response_metadata={}, id='run--1fcc6847-d741-4a5b-b41b-4a627584cbb8')}, 'run_id': '1fcc6847-d741-4a5b-b41b-4a627584cbb8', 'name': 'ChatGroq', 'tags': ['seq:step:1'], 'metadata': {'thread_id': '5', 'langgraph_step': 1, 'langgraph_node': 'SuperBot', 'langgraph_triggers': ('branch:to:SuperBot',), 'langgraph_path': ('__pregel_pull', 'SuperBot'), 'langgraph_checkpoint_ns': 'SuperBot:2eea691e-0696-48ff-79ac-c2d4f5eeea91', 'checkpoint_ns': 'SuperBot:2eea691e-0696-48ff-79ac-c2d4f5eeea91', 'ls_provider': 'groq', 'ls_model_name': 'llama3-8b-8192', 'ls_model_type': 'chat', 'ls_temperature': 0.7}, 'parent_ids': ['a728a0d3-181c-4677-8813-bfe086a313e0', 'c70b8b0a-d501-4bbf-b8c5-c9e3f95e838a']}\n",
      "{'event': 'on_chat_model_stream', 'data': {'chunk': AIMessageChunk(content=' you', additional_kwargs={}, response_metadata={}, id='run--1fcc6847-d741-4a5b-b41b-4a627584cbb8')}, 'run_id': '1fcc6847-d741-4a5b-b41b-4a627584cbb8', 'name': 'ChatGroq', 'tags': ['seq:step:1'], 'metadata': {'thread_id': '5', 'langgraph_step': 1, 'langgraph_node': 'SuperBot', 'langgraph_triggers': ('branch:to:SuperBot',), 'langgraph_path': ('__pregel_pull', 'SuperBot'), 'langgraph_checkpoint_ns': 'SuperBot:2eea691e-0696-48ff-79ac-c2d4f5eeea91', 'checkpoint_ns': 'SuperBot:2eea691e-0696-48ff-79ac-c2d4f5eeea91', 'ls_provider': 'groq', 'ls_model_name': 'llama3-8b-8192', 'ls_model_type': 'chat', 'ls_temperature': 0.7}, 'parent_ids': ['a728a0d3-181c-4677-8813-bfe086a313e0', 'c70b8b0a-d501-4bbf-b8c5-c9e3f95e838a']}\n",
      "{'event': 'on_chat_model_stream', 'data': {'chunk': AIMessageChunk(content=' looking', additional_kwargs={}, response_metadata={}, id='run--1fcc6847-d741-4a5b-b41b-4a627584cbb8')}, 'run_id': '1fcc6847-d741-4a5b-b41b-4a627584cbb8', 'name': 'ChatGroq', 'tags': ['seq:step:1'], 'metadata': {'thread_id': '5', 'langgraph_step': 1, 'langgraph_node': 'SuperBot', 'langgraph_triggers': ('branch:to:SuperBot',), 'langgraph_path': ('__pregel_pull', 'SuperBot'), 'langgraph_checkpoint_ns': 'SuperBot:2eea691e-0696-48ff-79ac-c2d4f5eeea91', 'checkpoint_ns': 'SuperBot:2eea691e-0696-48ff-79ac-c2d4f5eeea91', 'ls_provider': 'groq', 'ls_model_name': 'llama3-8b-8192', 'ls_model_type': 'chat', 'ls_temperature': 0.7}, 'parent_ids': ['a728a0d3-181c-4677-8813-bfe086a313e0', 'c70b8b0a-d501-4bbf-b8c5-c9e3f95e838a']}\n",
      "{'event': 'on_chat_model_stream', 'data': {'chunk': AIMessageChunk(content=' to', additional_kwargs={}, response_metadata={}, id='run--1fcc6847-d741-4a5b-b41b-4a627584cbb8')}, 'run_id': '1fcc6847-d741-4a5b-b41b-4a627584cbb8', 'name': 'ChatGroq', 'tags': ['seq:step:1'], 'metadata': {'thread_id': '5', 'langgraph_step': 1, 'langgraph_node': 'SuperBot', 'langgraph_triggers': ('branch:to:SuperBot',), 'langgraph_path': ('__pregel_pull', 'SuperBot'), 'langgraph_checkpoint_ns': 'SuperBot:2eea691e-0696-48ff-79ac-c2d4f5eeea91', 'checkpoint_ns': 'SuperBot:2eea691e-0696-48ff-79ac-c2d4f5eeea91', 'ls_provider': 'groq', 'ls_model_name': 'llama3-8b-8192', 'ls_model_type': 'chat', 'ls_temperature': 0.7}, 'parent_ids': ['a728a0d3-181c-4677-8813-bfe086a313e0', 'c70b8b0a-d501-4bbf-b8c5-c9e3f95e838a']}\n",
      "{'event': 'on_chat_model_stream', 'data': {'chunk': AIMessageChunk(content=' learn', additional_kwargs={}, response_metadata={}, id='run--1fcc6847-d741-4a5b-b41b-4a627584cbb8')}, 'run_id': '1fcc6847-d741-4a5b-b41b-4a627584cbb8', 'name': 'ChatGroq', 'tags': ['seq:step:1'], 'metadata': {'thread_id': '5', 'langgraph_step': 1, 'langgraph_node': 'SuperBot', 'langgraph_triggers': ('branch:to:SuperBot',), 'langgraph_path': ('__pregel_pull', 'SuperBot'), 'langgraph_checkpoint_ns': 'SuperBot:2eea691e-0696-48ff-79ac-c2d4f5eeea91', 'checkpoint_ns': 'SuperBot:2eea691e-0696-48ff-79ac-c2d4f5eeea91', 'ls_provider': 'groq', 'ls_model_name': 'llama3-8b-8192', 'ls_model_type': 'chat', 'ls_temperature': 0.7}, 'parent_ids': ['a728a0d3-181c-4677-8813-bfe086a313e0', 'c70b8b0a-d501-4bbf-b8c5-c9e3f95e838a']}\n",
      "{'event': 'on_chat_model_stream', 'data': {'chunk': AIMessageChunk(content=' more', additional_kwargs={}, response_metadata={}, id='run--1fcc6847-d741-4a5b-b41b-4a627584cbb8')}, 'run_id': '1fcc6847-d741-4a5b-b41b-4a627584cbb8', 'name': 'ChatGroq', 'tags': ['seq:step:1'], 'metadata': {'thread_id': '5', 'langgraph_step': 1, 'langgraph_node': 'SuperBot', 'langgraph_triggers': ('branch:to:SuperBot',), 'langgraph_path': ('__pregel_pull', 'SuperBot'), 'langgraph_checkpoint_ns': 'SuperBot:2eea691e-0696-48ff-79ac-c2d4f5eeea91', 'checkpoint_ns': 'SuperBot:2eea691e-0696-48ff-79ac-c2d4f5eeea91', 'ls_provider': 'groq', 'ls_model_name': 'llama3-8b-8192', 'ls_model_type': 'chat', 'ls_temperature': 0.7}, 'parent_ids': ['a728a0d3-181c-4677-8813-bfe086a313e0', 'c70b8b0a-d501-4bbf-b8c5-c9e3f95e838a']}\n",
      "{'event': 'on_chat_model_stream', 'data': {'chunk': AIMessageChunk(content=' about', additional_kwargs={}, response_metadata={}, id='run--1fcc6847-d741-4a5b-b41b-4a627584cbb8')}, 'run_id': '1fcc6847-d741-4a5b-b41b-4a627584cbb8', 'name': 'ChatGroq', 'tags': ['seq:step:1'], 'metadata': {'thread_id': '5', 'langgraph_step': 1, 'langgraph_node': 'SuperBot', 'langgraph_triggers': ('branch:to:SuperBot',), 'langgraph_path': ('__pregel_pull', 'SuperBot'), 'langgraph_checkpoint_ns': 'SuperBot:2eea691e-0696-48ff-79ac-c2d4f5eeea91', 'checkpoint_ns': 'SuperBot:2eea691e-0696-48ff-79ac-c2d4f5eeea91', 'ls_provider': 'groq', 'ls_model_name': 'llama3-8b-8192', 'ls_model_type': 'chat', 'ls_temperature': 0.7}, 'parent_ids': ['a728a0d3-181c-4677-8813-bfe086a313e0', 'c70b8b0a-d501-4bbf-b8c5-c9e3f95e838a']}\n",
      "{'event': 'on_chat_model_stream', 'data': {'chunk': AIMessageChunk(content=' its', additional_kwargs={}, response_metadata={}, id='run--1fcc6847-d741-4a5b-b41b-4a627584cbb8')}, 'run_id': '1fcc6847-d741-4a5b-b41b-4a627584cbb8', 'name': 'ChatGroq', 'tags': ['seq:step:1'], 'metadata': {'thread_id': '5', 'langgraph_step': 1, 'langgraph_node': 'SuperBot', 'langgraph_triggers': ('branch:to:SuperBot',), 'langgraph_path': ('__pregel_pull', 'SuperBot'), 'langgraph_checkpoint_ns': 'SuperBot:2eea691e-0696-48ff-79ac-c2d4f5eeea91', 'checkpoint_ns': 'SuperBot:2eea691e-0696-48ff-79ac-c2d4f5eeea91', 'ls_provider': 'groq', 'ls_model_name': 'llama3-8b-8192', 'ls_model_type': 'chat', 'ls_temperature': 0.7}, 'parent_ids': ['a728a0d3-181c-4677-8813-bfe086a313e0', 'c70b8b0a-d501-4bbf-b8c5-c9e3f95e838a']}\n",
      "{'event': 'on_chat_model_stream', 'data': {'chunk': AIMessageChunk(content=' applications', additional_kwargs={}, response_metadata={}, id='run--1fcc6847-d741-4a5b-b41b-4a627584cbb8')}, 'run_id': '1fcc6847-d741-4a5b-b41b-4a627584cbb8', 'name': 'ChatGroq', 'tags': ['seq:step:1'], 'metadata': {'thread_id': '5', 'langgraph_step': 1, 'langgraph_node': 'SuperBot', 'langgraph_triggers': ('branch:to:SuperBot',), 'langgraph_path': ('__pregel_pull', 'SuperBot'), 'langgraph_checkpoint_ns': 'SuperBot:2eea691e-0696-48ff-79ac-c2d4f5eeea91', 'checkpoint_ns': 'SuperBot:2eea691e-0696-48ff-79ac-c2d4f5eeea91', 'ls_provider': 'groq', 'ls_model_name': 'llama3-8b-8192', 'ls_model_type': 'chat', 'ls_temperature': 0.7}, 'parent_ids': ['a728a0d3-181c-4677-8813-bfe086a313e0', 'c70b8b0a-d501-4bbf-b8c5-c9e3f95e838a']}\n",
      "{'event': 'on_chat_model_stream', 'data': {'chunk': AIMessageChunk(content=',', additional_kwargs={}, response_metadata={}, id='run--1fcc6847-d741-4a5b-b41b-4a627584cbb8')}, 'run_id': '1fcc6847-d741-4a5b-b41b-4a627584cbb8', 'name': 'ChatGroq', 'tags': ['seq:step:1'], 'metadata': {'thread_id': '5', 'langgraph_step': 1, 'langgraph_node': 'SuperBot', 'langgraph_triggers': ('branch:to:SuperBot',), 'langgraph_path': ('__pregel_pull', 'SuperBot'), 'langgraph_checkpoint_ns': 'SuperBot:2eea691e-0696-48ff-79ac-c2d4f5eeea91', 'checkpoint_ns': 'SuperBot:2eea691e-0696-48ff-79ac-c2d4f5eeea91', 'ls_provider': 'groq', 'ls_model_name': 'llama3-8b-8192', 'ls_model_type': 'chat', 'ls_temperature': 0.7}, 'parent_ids': ['a728a0d3-181c-4677-8813-bfe086a313e0', 'c70b8b0a-d501-4bbf-b8c5-c9e3f95e838a']}\n",
      "{'event': 'on_chat_model_stream', 'data': {'chunk': AIMessageChunk(content=' its', additional_kwargs={}, response_metadata={}, id='run--1fcc6847-d741-4a5b-b41b-4a627584cbb8')}, 'run_id': '1fcc6847-d741-4a5b-b41b-4a627584cbb8', 'name': 'ChatGroq', 'tags': ['seq:step:1'], 'metadata': {'thread_id': '5', 'langgraph_step': 1, 'langgraph_node': 'SuperBot', 'langgraph_triggers': ('branch:to:SuperBot',), 'langgraph_path': ('__pregel_pull', 'SuperBot'), 'langgraph_checkpoint_ns': 'SuperBot:2eea691e-0696-48ff-79ac-c2d4f5eeea91', 'checkpoint_ns': 'SuperBot:2eea691e-0696-48ff-79ac-c2d4f5eeea91', 'ls_provider': 'groq', 'ls_model_name': 'llama3-8b-8192', 'ls_model_type': 'chat', 'ls_temperature': 0.7}, 'parent_ids': ['a728a0d3-181c-4677-8813-bfe086a313e0', 'c70b8b0a-d501-4bbf-b8c5-c9e3f95e838a']}\n",
      "{'event': 'on_chat_model_stream', 'data': {'chunk': AIMessageChunk(content=' potential', additional_kwargs={}, response_metadata={}, id='run--1fcc6847-d741-4a5b-b41b-4a627584cbb8')}, 'run_id': '1fcc6847-d741-4a5b-b41b-4a627584cbb8', 'name': 'ChatGroq', 'tags': ['seq:step:1'], 'metadata': {'thread_id': '5', 'langgraph_step': 1, 'langgraph_node': 'SuperBot', 'langgraph_triggers': ('branch:to:SuperBot',), 'langgraph_path': ('__pregel_pull', 'SuperBot'), 'langgraph_checkpoint_ns': 'SuperBot:2eea691e-0696-48ff-79ac-c2d4f5eeea91', 'checkpoint_ns': 'SuperBot:2eea691e-0696-48ff-79ac-c2d4f5eeea91', 'ls_provider': 'groq', 'ls_model_name': 'llama3-8b-8192', 'ls_model_type': 'chat', 'ls_temperature': 0.7}, 'parent_ids': ['a728a0d3-181c-4677-8813-bfe086a313e0', 'c70b8b0a-d501-4bbf-b8c5-c9e3f95e838a']}\n",
      "{'event': 'on_chat_model_stream', 'data': {'chunk': AIMessageChunk(content=' impact', additional_kwargs={}, response_metadata={}, id='run--1fcc6847-d741-4a5b-b41b-4a627584cbb8')}, 'run_id': '1fcc6847-d741-4a5b-b41b-4a627584cbb8', 'name': 'ChatGroq', 'tags': ['seq:step:1'], 'metadata': {'thread_id': '5', 'langgraph_step': 1, 'langgraph_node': 'SuperBot', 'langgraph_triggers': ('branch:to:SuperBot',), 'langgraph_path': ('__pregel_pull', 'SuperBot'), 'langgraph_checkpoint_ns': 'SuperBot:2eea691e-0696-48ff-79ac-c2d4f5eeea91', 'checkpoint_ns': 'SuperBot:2eea691e-0696-48ff-79ac-c2d4f5eeea91', 'ls_provider': 'groq', 'ls_model_name': 'llama3-8b-8192', 'ls_model_type': 'chat', 'ls_temperature': 0.7}, 'parent_ids': ['a728a0d3-181c-4677-8813-bfe086a313e0', 'c70b8b0a-d501-4bbf-b8c5-c9e3f95e838a']}\n",
      "{'event': 'on_chat_model_stream', 'data': {'chunk': AIMessageChunk(content=' on', additional_kwargs={}, response_metadata={}, id='run--1fcc6847-d741-4a5b-b41b-4a627584cbb8')}, 'run_id': '1fcc6847-d741-4a5b-b41b-4a627584cbb8', 'name': 'ChatGroq', 'tags': ['seq:step:1'], 'metadata': {'thread_id': '5', 'langgraph_step': 1, 'langgraph_node': 'SuperBot', 'langgraph_triggers': ('branch:to:SuperBot',), 'langgraph_path': ('__pregel_pull', 'SuperBot'), 'langgraph_checkpoint_ns': 'SuperBot:2eea691e-0696-48ff-79ac-c2d4f5eeea91', 'checkpoint_ns': 'SuperBot:2eea691e-0696-48ff-79ac-c2d4f5eeea91', 'ls_provider': 'groq', 'ls_model_name': 'llama3-8b-8192', 'ls_model_type': 'chat', 'ls_temperature': 0.7}, 'parent_ids': ['a728a0d3-181c-4677-8813-bfe086a313e0', 'c70b8b0a-d501-4bbf-b8c5-c9e3f95e838a']}\n",
      "{'event': 'on_chat_model_stream', 'data': {'chunk': AIMessageChunk(content=' society', additional_kwargs={}, response_metadata={}, id='run--1fcc6847-d741-4a5b-b41b-4a627584cbb8')}, 'run_id': '1fcc6847-d741-4a5b-b41b-4a627584cbb8', 'name': 'ChatGroq', 'tags': ['seq:step:1'], 'metadata': {'thread_id': '5', 'langgraph_step': 1, 'langgraph_node': 'SuperBot', 'langgraph_triggers': ('branch:to:SuperBot',), 'langgraph_path': ('__pregel_pull', 'SuperBot'), 'langgraph_checkpoint_ns': 'SuperBot:2eea691e-0696-48ff-79ac-c2d4f5eeea91', 'checkpoint_ns': 'SuperBot:2eea691e-0696-48ff-79ac-c2d4f5eeea91', 'ls_provider': 'groq', 'ls_model_name': 'llama3-8b-8192', 'ls_model_type': 'chat', 'ls_temperature': 0.7}, 'parent_ids': ['a728a0d3-181c-4677-8813-bfe086a313e0', 'c70b8b0a-d501-4bbf-b8c5-c9e3f95e838a']}\n",
      "{'event': 'on_chat_model_stream', 'data': {'chunk': AIMessageChunk(content=',', additional_kwargs={}, response_metadata={}, id='run--1fcc6847-d741-4a5b-b41b-4a627584cbb8')}, 'run_id': '1fcc6847-d741-4a5b-b41b-4a627584cbb8', 'name': 'ChatGroq', 'tags': ['seq:step:1'], 'metadata': {'thread_id': '5', 'langgraph_step': 1, 'langgraph_node': 'SuperBot', 'langgraph_triggers': ('branch:to:SuperBot',), 'langgraph_path': ('__pregel_pull', 'SuperBot'), 'langgraph_checkpoint_ns': 'SuperBot:2eea691e-0696-48ff-79ac-c2d4f5eeea91', 'checkpoint_ns': 'SuperBot:2eea691e-0696-48ff-79ac-c2d4f5eeea91', 'ls_provider': 'groq', 'ls_model_name': 'llama3-8b-8192', 'ls_model_type': 'chat', 'ls_temperature': 0.7}, 'parent_ids': ['a728a0d3-181c-4677-8813-bfe086a313e0', 'c70b8b0a-d501-4bbf-b8c5-c9e3f95e838a']}\n",
      "{'event': 'on_chat_model_stream', 'data': {'chunk': AIMessageChunk(content=' or', additional_kwargs={}, response_metadata={}, id='run--1fcc6847-d741-4a5b-b41b-4a627584cbb8')}, 'run_id': '1fcc6847-d741-4a5b-b41b-4a627584cbb8', 'name': 'ChatGroq', 'tags': ['seq:step:1'], 'metadata': {'thread_id': '5', 'langgraph_step': 1, 'langgraph_node': 'SuperBot', 'langgraph_triggers': ('branch:to:SuperBot',), 'langgraph_path': ('__pregel_pull', 'SuperBot'), 'langgraph_checkpoint_ns': 'SuperBot:2eea691e-0696-48ff-79ac-c2d4f5eeea91', 'checkpoint_ns': 'SuperBot:2eea691e-0696-48ff-79ac-c2d4f5eeea91', 'ls_provider': 'groq', 'ls_model_name': 'llama3-8b-8192', 'ls_model_type': 'chat', 'ls_temperature': 0.7}, 'parent_ids': ['a728a0d3-181c-4677-8813-bfe086a313e0', 'c70b8b0a-d501-4bbf-b8c5-c9e3f95e838a']}\n",
      "{'event': 'on_chat_model_stream', 'data': {'chunk': AIMessageChunk(content=' perhaps', additional_kwargs={}, response_metadata={}, id='run--1fcc6847-d741-4a5b-b41b-4a627584cbb8')}, 'run_id': '1fcc6847-d741-4a5b-b41b-4a627584cbb8', 'name': 'ChatGroq', 'tags': ['seq:step:1'], 'metadata': {'thread_id': '5', 'langgraph_step': 1, 'langgraph_node': 'SuperBot', 'langgraph_triggers': ('branch:to:SuperBot',), 'langgraph_path': ('__pregel_pull', 'SuperBot'), 'langgraph_checkpoint_ns': 'SuperBot:2eea691e-0696-48ff-79ac-c2d4f5eeea91', 'checkpoint_ns': 'SuperBot:2eea691e-0696-48ff-79ac-c2d4f5eeea91', 'ls_provider': 'groq', 'ls_model_name': 'llama3-8b-8192', 'ls_model_type': 'chat', 'ls_temperature': 0.7}, 'parent_ids': ['a728a0d3-181c-4677-8813-bfe086a313e0', 'c70b8b0a-d501-4bbf-b8c5-c9e3f95e838a']}\n",
      "{'event': 'on_chat_model_stream', 'data': {'chunk': AIMessageChunk(content=' its', additional_kwargs={}, response_metadata={}, id='run--1fcc6847-d741-4a5b-b41b-4a627584cbb8')}, 'run_id': '1fcc6847-d741-4a5b-b41b-4a627584cbb8', 'name': 'ChatGroq', 'tags': ['seq:step:1'], 'metadata': {'thread_id': '5', 'langgraph_step': 1, 'langgraph_node': 'SuperBot', 'langgraph_triggers': ('branch:to:SuperBot',), 'langgraph_path': ('__pregel_pull', 'SuperBot'), 'langgraph_checkpoint_ns': 'SuperBot:2eea691e-0696-48ff-79ac-c2d4f5eeea91', 'checkpoint_ns': 'SuperBot:2eea691e-0696-48ff-79ac-c2d4f5eeea91', 'ls_provider': 'groq', 'ls_model_name': 'llama3-8b-8192', 'ls_model_type': 'chat', 'ls_temperature': 0.7}, 'parent_ids': ['a728a0d3-181c-4677-8813-bfe086a313e0', 'c70b8b0a-d501-4bbf-b8c5-c9e3f95e838a']}\n",
      "{'event': 'on_chat_model_stream', 'data': {'chunk': AIMessageChunk(content=' underlying', additional_kwargs={}, response_metadata={}, id='run--1fcc6847-d741-4a5b-b41b-4a627584cbb8')}, 'run_id': '1fcc6847-d741-4a5b-b41b-4a627584cbb8', 'name': 'ChatGroq', 'tags': ['seq:step:1'], 'metadata': {'thread_id': '5', 'langgraph_step': 1, 'langgraph_node': 'SuperBot', 'langgraph_triggers': ('branch:to:SuperBot',), 'langgraph_path': ('__pregel_pull', 'SuperBot'), 'langgraph_checkpoint_ns': 'SuperBot:2eea691e-0696-48ff-79ac-c2d4f5eeea91', 'checkpoint_ns': 'SuperBot:2eea691e-0696-48ff-79ac-c2d4f5eeea91', 'ls_provider': 'groq', 'ls_model_name': 'llama3-8b-8192', 'ls_model_type': 'chat', 'ls_temperature': 0.7}, 'parent_ids': ['a728a0d3-181c-4677-8813-bfe086a313e0', 'c70b8b0a-d501-4bbf-b8c5-c9e3f95e838a']}\n",
      "{'event': 'on_chat_model_stream', 'data': {'chunk': AIMessageChunk(content=' technologies', additional_kwargs={}, response_metadata={}, id='run--1fcc6847-d741-4a5b-b41b-4a627584cbb8')}, 'run_id': '1fcc6847-d741-4a5b-b41b-4a627584cbb8', 'name': 'ChatGroq', 'tags': ['seq:step:1'], 'metadata': {'thread_id': '5', 'langgraph_step': 1, 'langgraph_node': 'SuperBot', 'langgraph_triggers': ('branch:to:SuperBot',), 'langgraph_path': ('__pregel_pull', 'SuperBot'), 'langgraph_checkpoint_ns': 'SuperBot:2eea691e-0696-48ff-79ac-c2d4f5eeea91', 'checkpoint_ns': 'SuperBot:2eea691e-0696-48ff-79ac-c2d4f5eeea91', 'ls_provider': 'groq', 'ls_model_name': 'llama3-8b-8192', 'ls_model_type': 'chat', 'ls_temperature': 0.7}, 'parent_ids': ['a728a0d3-181c-4677-8813-bfe086a313e0', 'c70b8b0a-d501-4bbf-b8c5-c9e3f95e838a']}\n",
      "{'event': 'on_chat_model_stream', 'data': {'chunk': AIMessageChunk(content='?', additional_kwargs={}, response_metadata={}, id='run--1fcc6847-d741-4a5b-b41b-4a627584cbb8')}, 'run_id': '1fcc6847-d741-4a5b-b41b-4a627584cbb8', 'name': 'ChatGroq', 'tags': ['seq:step:1'], 'metadata': {'thread_id': '5', 'langgraph_step': 1, 'langgraph_node': 'SuperBot', 'langgraph_triggers': ('branch:to:SuperBot',), 'langgraph_path': ('__pregel_pull', 'SuperBot'), 'langgraph_checkpoint_ns': 'SuperBot:2eea691e-0696-48ff-79ac-c2d4f5eeea91', 'checkpoint_ns': 'SuperBot:2eea691e-0696-48ff-79ac-c2d4f5eeea91', 'ls_provider': 'groq', 'ls_model_name': 'llama3-8b-8192', 'ls_model_type': 'chat', 'ls_temperature': 0.7}, 'parent_ids': ['a728a0d3-181c-4677-8813-bfe086a313e0', 'c70b8b0a-d501-4bbf-b8c5-c9e3f95e838a']}\n",
      "{'event': 'on_chat_model_stream', 'data': {'chunk': AIMessageChunk(content='', additional_kwargs={}, response_metadata={'finish_reason': 'stop', 'model_name': 'llama3-8b-8192', 'system_fingerprint': 'fp_8dc6ecaf8e'}, id='run--1fcc6847-d741-4a5b-b41b-4a627584cbb8', usage_metadata={'input_tokens': 22, 'output_tokens': 76, 'total_tokens': 98})}, 'run_id': '1fcc6847-d741-4a5b-b41b-4a627584cbb8', 'name': 'ChatGroq', 'tags': ['seq:step:1'], 'metadata': {'thread_id': '5', 'langgraph_step': 1, 'langgraph_node': 'SuperBot', 'langgraph_triggers': ('branch:to:SuperBot',), 'langgraph_path': ('__pregel_pull', 'SuperBot'), 'langgraph_checkpoint_ns': 'SuperBot:2eea691e-0696-48ff-79ac-c2d4f5eeea91', 'checkpoint_ns': 'SuperBot:2eea691e-0696-48ff-79ac-c2d4f5eeea91', 'ls_provider': 'groq', 'ls_model_name': 'llama3-8b-8192', 'ls_model_type': 'chat', 'ls_temperature': 0.7}, 'parent_ids': ['a728a0d3-181c-4677-8813-bfe086a313e0', 'c70b8b0a-d501-4bbf-b8c5-c9e3f95e838a']}\n",
      "{'event': 'on_chat_model_end', 'data': {'output': AIMessage(content=\"Nice to meet you, Praveen! It's great to hear that you're interested in General Artificial Intelligence (Gen AI). Gen AI is a fascinating field that has the potential to revolutionize many aspects of our lives.\\n\\nWhat specifically about Gen AI interests you? Are you looking to learn more about its applications, its potential impact on society, or perhaps its underlying technologies?\", additional_kwargs={}, response_metadata={'finish_reason': 'stop', 'model_name': 'llama3-8b-8192', 'system_fingerprint': 'fp_8dc6ecaf8e'}, id='run--1fcc6847-d741-4a5b-b41b-4a627584cbb8', usage_metadata={'input_tokens': 22, 'output_tokens': 76, 'total_tokens': 98}), 'input': {'messages': [[HumanMessage(content='My name is Praveen and I like Gen AI?', additional_kwargs={}, response_metadata={}, id='36d83804-f152-449a-9e36-f00cb0c4e4c8')]]}}, 'run_id': '1fcc6847-d741-4a5b-b41b-4a627584cbb8', 'name': 'ChatGroq', 'tags': ['seq:step:1'], 'metadata': {'thread_id': '5', 'langgraph_step': 1, 'langgraph_node': 'SuperBot', 'langgraph_triggers': ('branch:to:SuperBot',), 'langgraph_path': ('__pregel_pull', 'SuperBot'), 'langgraph_checkpoint_ns': 'SuperBot:2eea691e-0696-48ff-79ac-c2d4f5eeea91', 'checkpoint_ns': 'SuperBot:2eea691e-0696-48ff-79ac-c2d4f5eeea91', 'ls_provider': 'groq', 'ls_model_name': 'llama3-8b-8192', 'ls_model_type': 'chat', 'ls_temperature': 0.7}, 'parent_ids': ['a728a0d3-181c-4677-8813-bfe086a313e0', 'c70b8b0a-d501-4bbf-b8c5-c9e3f95e838a']}\n",
      "{'event': 'on_chain_stream', 'run_id': 'c70b8b0a-d501-4bbf-b8c5-c9e3f95e838a', 'name': 'SuperBot', 'tags': ['graph:step:1'], 'metadata': {'thread_id': '5', 'langgraph_step': 1, 'langgraph_node': 'SuperBot', 'langgraph_triggers': ('branch:to:SuperBot',), 'langgraph_path': ('__pregel_pull', 'SuperBot'), 'langgraph_checkpoint_ns': 'SuperBot:2eea691e-0696-48ff-79ac-c2d4f5eeea91'}, 'data': {'chunk': {'messages': [AIMessage(content=\"Nice to meet you, Praveen! It's great to hear that you're interested in General Artificial Intelligence (Gen AI). Gen AI is a fascinating field that has the potential to revolutionize many aspects of our lives.\\n\\nWhat specifically about Gen AI interests you? Are you looking to learn more about its applications, its potential impact on society, or perhaps its underlying technologies?\", additional_kwargs={}, response_metadata={'finish_reason': 'stop', 'model_name': 'llama3-8b-8192', 'system_fingerprint': 'fp_8dc6ecaf8e'}, id='run--1fcc6847-d741-4a5b-b41b-4a627584cbb8', usage_metadata={'input_tokens': 22, 'output_tokens': 76, 'total_tokens': 98})]}}, 'parent_ids': ['a728a0d3-181c-4677-8813-bfe086a313e0']}\n",
      "{'event': 'on_chain_end', 'data': {'output': {'messages': [AIMessage(content=\"Nice to meet you, Praveen! It's great to hear that you're interested in General Artificial Intelligence (Gen AI). Gen AI is a fascinating field that has the potential to revolutionize many aspects of our lives.\\n\\nWhat specifically about Gen AI interests you? Are you looking to learn more about its applications, its potential impact on society, or perhaps its underlying technologies?\", additional_kwargs={}, response_metadata={'finish_reason': 'stop', 'model_name': 'llama3-8b-8192', 'system_fingerprint': 'fp_8dc6ecaf8e'}, id='run--1fcc6847-d741-4a5b-b41b-4a627584cbb8', usage_metadata={'input_tokens': 22, 'output_tokens': 76, 'total_tokens': 98})]}, 'input': {'messages': [HumanMessage(content='My name is Praveen and I like Gen AI?', additional_kwargs={}, response_metadata={}, id='36d83804-f152-449a-9e36-f00cb0c4e4c8')]}}, 'run_id': 'c70b8b0a-d501-4bbf-b8c5-c9e3f95e838a', 'name': 'SuperBot', 'tags': ['graph:step:1'], 'metadata': {'thread_id': '5', 'langgraph_step': 1, 'langgraph_node': 'SuperBot', 'langgraph_triggers': ('branch:to:SuperBot',), 'langgraph_path': ('__pregel_pull', 'SuperBot'), 'langgraph_checkpoint_ns': 'SuperBot:2eea691e-0696-48ff-79ac-c2d4f5eeea91'}, 'parent_ids': ['a728a0d3-181c-4677-8813-bfe086a313e0']}\n",
      "{'event': 'on_chain_stream', 'run_id': 'a728a0d3-181c-4677-8813-bfe086a313e0', 'name': 'LangGraph', 'tags': [], 'metadata': {'thread_id': '5'}, 'data': {'chunk': {'messages': [HumanMessage(content='My name is Praveen and I like Gen AI?', additional_kwargs={}, response_metadata={}, id='36d83804-f152-449a-9e36-f00cb0c4e4c8'), AIMessage(content=\"Nice to meet you, Praveen! It's great to hear that you're interested in General Artificial Intelligence (Gen AI). Gen AI is a fascinating field that has the potential to revolutionize many aspects of our lives.\\n\\nWhat specifically about Gen AI interests you? Are you looking to learn more about its applications, its potential impact on society, or perhaps its underlying technologies?\", additional_kwargs={}, response_metadata={'finish_reason': 'stop', 'model_name': 'llama3-8b-8192', 'system_fingerprint': 'fp_8dc6ecaf8e'}, id='run--1fcc6847-d741-4a5b-b41b-4a627584cbb8', usage_metadata={'input_tokens': 22, 'output_tokens': 76, 'total_tokens': 98})]}}, 'parent_ids': []}\n",
      "{'event': 'on_chain_end', 'data': {'output': {'messages': [HumanMessage(content='My name is Praveen and I like Gen AI?', additional_kwargs={}, response_metadata={}, id='36d83804-f152-449a-9e36-f00cb0c4e4c8'), AIMessage(content=\"Nice to meet you, Praveen! It's great to hear that you're interested in General Artificial Intelligence (Gen AI). Gen AI is a fascinating field that has the potential to revolutionize many aspects of our lives.\\n\\nWhat specifically about Gen AI interests you? Are you looking to learn more about its applications, its potential impact on society, or perhaps its underlying technologies?\", additional_kwargs={}, response_metadata={'finish_reason': 'stop', 'model_name': 'llama3-8b-8192', 'system_fingerprint': 'fp_8dc6ecaf8e'}, id='run--1fcc6847-d741-4a5b-b41b-4a627584cbb8', usage_metadata={'input_tokens': 22, 'output_tokens': 76, 'total_tokens': 98})]}}, 'run_id': 'a728a0d3-181c-4677-8813-bfe086a313e0', 'name': 'LangGraph', 'tags': [], 'metadata': {'thread_id': '5'}, 'parent_ids': []}\n"
     ]
    }
   ],
   "source": [
    "config = {\"configurable\":{\"thread_id\":\"5\"}}\n",
    "async for event in graph.astream_events({\"messages\":\"My name is Praveen and I like Gen AI?\"},config=config,stream_mode=\"values\"):\n",
    "    print(event)"
   ]
  },
  {
   "cell_type": "markdown",
   "id": "74b90b66",
   "metadata": {},
   "source": [
    "Human in the Loop"
   ]
  },
  {
   "cell_type": "code",
   "execution_count": null,
   "id": "87400e61",
   "metadata": {},
   "outputs": [],
   "source": []
  }
 ],
 "metadata": {
  "kernelspec": {
   "display_name": ".venv",
   "language": "python",
   "name": "python3"
  },
  "language_info": {
   "codemirror_mode": {
    "name": "ipython",
    "version": 3
   },
   "file_extension": ".py",
   "mimetype": "text/x-python",
   "name": "python",
   "nbconvert_exporter": "python",
   "pygments_lexer": "ipython3",
   "version": "3.12.0"
  }
 },
 "nbformat": 4,
 "nbformat_minor": 5
}
